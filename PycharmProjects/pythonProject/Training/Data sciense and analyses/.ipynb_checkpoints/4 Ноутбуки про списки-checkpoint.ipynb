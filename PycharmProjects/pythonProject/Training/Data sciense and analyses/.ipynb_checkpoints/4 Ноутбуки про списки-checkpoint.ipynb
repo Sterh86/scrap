{
 "cells": [
  {
   "cell_type": "markdown",
   "metadata": {
    "id": "kNYL_24r2kv3"
   },
   "source": [
    "## Списки"
   ]
  },
  {
   "cell_type": "markdown",
   "metadata": {
    "id": "jT05JdsB2kv7"
   },
   "source": [
    "### Задача №1:\n",
    "\n",
    "Подается последовательность чисел от 0 до 9 длины **n**. Необходимо вывести все числа, которых не было в последовательности"
   ]
  },
  {
   "cell_type": "code",
   "execution_count": null,
   "metadata": {
    "id": "V7FIf7x02kv9"
   },
   "outputs": [],
   "source": [
    "is0 = False\n",
    "is1 = False\n",
    "# ...\n",
    "is9 = False\n",
    "\n",
    "for i in range(n):\n",
    "    x = int(input())\n",
    "    if x == 0:\n",
    "        is0 = True\n",
    "    elif x == 1:\n",
    "        # ..."
   ]
  },
  {
   "cell_type": "markdown",
   "metadata": {
    "id": "Vox2eQog2kwH"
   },
   "source": [
    "<img src=\"https://drive.google.com/uc?id=11SfzxmvuYibRG8lNPoR6Iii3bttoJ2c3\">"
   ]
  },
  {
   "cell_type": "code",
   "execution_count": null,
   "metadata": {
    "colab": {
     "base_uri": "https://localhost:8080/",
     "height": 118
    },
    "id": "PmYKz_zJ2kwI",
    "outputId": "ba664d9f-e80b-4bbb-c3ac-3ac1019108eb"
   },
   "outputs": [],
   "source": [
    "numbers = []\n",
    "n = int(input())\n",
    "for i in range(n):\n",
    "    x = int(input())\n",
    "    numbers.append(x) # добавление в список\n",
    "\n",
    "print(numbers, type(numbers))"
   ]
  },
  {
   "cell_type": "code",
   "execution_count": null,
   "metadata": {
    "colab": {
     "base_uri": "https://localhost:8080/",
     "height": 50
    },
    "id": "48iBYrsS2kwU",
    "outputId": "d7937aff-2da5-4458-848b-fb21f983654e"
   },
   "outputs": [],
   "source": [
    "numbers = input().split()\n",
    "\n",
    "print(numbers, type(numbers))"
   ]
  },
  {
   "cell_type": "code",
   "execution_count": null,
   "metadata": {
    "colab": {
     "base_uri": "https://localhost:8080/",
     "height": 168
    },
    "id": "P88lvQ5F2kwb",
    "outputId": "dac8f432-470c-4e22-bac3-8d345d595f0a"
   },
   "outputs": [],
   "source": [
    "numbers = []\n",
    "n = int(input())\n",
    "for i in range(n):\n",
    "    x = int(input())\n",
    "    numbers.append(x) # добавление в список\n",
    "\n",
    "for number in range(10):\n",
    "    if number in numbers:\n",
    "        print(number)"
   ]
  },
  {
   "cell_type": "code",
   "execution_count": null,
   "metadata": {
    "colab": {
     "base_uri": "https://localhost:8080/",
     "height": 218
    },
    "id": "Ghin-iIC2kwh",
    "outputId": "f7631929-1072-4b53-c816-db295dc0cdb6"
   },
   "outputs": [],
   "source": [
    "# можно сделать проще\n",
    "# 5 3 4 3 3 3 2 6\n",
    "numbers = [False] * 10\n",
    "n = int(input())\n",
    "for i in range(n):\n",
    "  x = int(input())\n",
    "  numbers[x] = True\n",
    "\n",
    "for i in range(len(numbers)):\n",
    "  if numbers[i] == False:\n",
    "    print(i)\n"
   ]
  },
  {
   "cell_type": "markdown",
   "metadata": {
    "id": "OyFDLFx12kwo"
   },
   "source": [
    "### Задача №2:\n",
    "\n",
    "Создайте массив из 5-ти пятерок"
   ]
  },
  {
   "cell_type": "code",
   "execution_count": 1,
   "metadata": {
    "colab": {
     "base_uri": "https://localhost:8080/",
     "height": 101
    },
    "id": "6e4d5QHo2kwp",
    "outputId": "8204818c-8d79-489f-accd-13123db0fb59"
   },
   "outputs": [
    {
     "name": "stdout",
     "output_type": "stream",
     "text": [
      "[5, 5, 5, 5, 5] <class 'list'> 5\n",
      "[5, 5, 5, 5, 5] <class 'list'> 5\n",
      "[5, 5, 5, 5, 5] <class 'list'> 5\n",
      "['5', '5', '5', '5', '5'] <class 'list'> 5\n",
      "[] <class 'list'> 0\n"
     ]
    }
   ],
   "source": [
    "a = [5, 5, 5, 5, 5] # маленький список\n",
    "b = [5] * 5\n",
    "c = [5 for i in range(5)] # наиболее быстрый способ\n",
    "d = list(\"55555\") # элементы являются строчками\n",
    "e = [] * 5\n",
    "\n",
    "print(a, type(a), len(a))\n",
    "print(b, type(b), len(b))\n",
    "print(c, type(c), len(c))\n",
    "print(d, type(d), len(d))\n",
    "print(e, type(e), len(e))"
   ]
  },
  {
   "cell_type": "code",
   "execution_count": null,
   "metadata": {},
   "outputs": [],
   "source": [
    "a = [3, 2, 5, 10, 3]\n",
    "\n"
   ]
  },
  {
   "cell_type": "markdown",
   "metadata": {},
   "source": [
    "### Задача №1: \n",
    "Подается список a = [3, 2, 5, 6,  3, -1, -2, 0].\n",
    "\n",
    "Выведете следующую информацию:\n",
    "\n",
    "- длину данной строки.\n",
    "- третий символ этой строки.\n",
    "- предпоследний символ этой строки.\n",
    "- первые пять символов этой строки.\n",
    "- всю строку, кроме последних двух символов.\n",
    "- все символы с четными индексами \n",
    "- все символы в обратном порядке.\n",
    "- все символы строки через один в обратном порядке, начиная с последнего.\n",
    "\n",
    "\n"
   ]
  },
  {
   "cell_type": "code",
   "execution_count": 2,
   "metadata": {},
   "outputs": [],
   "source": [
    "a = [3, 2, 5, 6, 3, -1, -2, 0]"
   ]
  },
  {
   "cell_type": "code",
   "execution_count": 20,
   "metadata": {},
   "outputs": [
    {
     "name": "stdout",
     "output_type": "stream",
     "text": [
      "8\n",
      "5\n",
      "-2 -2 -2\n",
      "[3, 2, 5, 6, 3]\n",
      "[3, 2, 5, 6, 3, -1] [3, 2, 5, 6, 3, -1]\n",
      "[3, 2, 5, 6, 3, -1, -2, 0] [3, 2, 5, 6, 3, -1, -2, 0]\n",
      "[3, 5, 3, -2]\n",
      "[2, 6, -1, 0]\n",
      "[0, -2, -1, 3, 6, 5, 2, 3]\n",
      "0 -2 -1 3 6 5 2 3\n"
     ]
    }
   ],
   "source": [
    "print(len(a))\n",
    "print(a[2])\n",
    "print(a[6], a[len(a) - 2], a[-2])\n",
    "print(a[0:5])  # правая граница не включается\n",
    "print(a[0:-2], a[:-2])\n",
    "print(a[:], a[0:len(a)])\n",
    "print(a[::2])\n",
    "print(a[1::2])\n",
    "print(a[::-1])\n",
    "print(*reversed(a))"
   ]
  },
  {
   "cell_type": "code",
   "execution_count": 24,
   "metadata": {},
   "outputs": [
    {
     "name": "stdout",
     "output_type": "stream",
     "text": [
      "10\n"
     ]
    }
   ],
   "source": [
    "def my_max(x):\n",
    "    cur_max = 0\n",
    "    for i in range(len(x)): # range(len(x)) ~ [0, 1, ..., len(x) - 1]\n",
    "        if x[i] > cur_max:\n",
    "            cur_max = x[i]\n",
    "    return cur_max\n",
    "    \n",
    "\n",
    "x = [3, 2, 10, 4, -5, 6]\n",
    "print(my_max(x))"
   ]
  },
  {
   "cell_type": "code",
   "execution_count": 30,
   "metadata": {},
   "outputs": [
    {
     "name": "stdout",
     "output_type": "stream",
     "text": [
      "I'm here\n",
      "10\n"
     ]
    }
   ],
   "source": [
    "def my_max(x):\n",
    "    if len(x) == 0:\n",
    "        return\n",
    "    print(\"I'm here\")\n",
    "    cur_max = x[0]\n",
    "    for elem in x: # elem принимает значения из списка x\n",
    "        if elem > cur_max:\n",
    "            cur_max = elem\n",
    "    return cur_max\n",
    "    \n",
    "\n",
    "x = [3, 2, 10, 4, -5, 6]\n",
    "print(my_max(x))"
   ]
  },
  {
   "cell_type": "code",
   "execution_count": 39,
   "metadata": {},
   "outputs": [
    {
     "name": "stdout",
     "output_type": "stream",
     "text": [
      "(5, 1)\n"
     ]
    }
   ],
   "source": [
    "def my_max_count(x):\n",
    "    \"\"\"\n",
    "    Функция находит максимум и кол-во его вхождений в список x\n",
    "    x: list[int]\n",
    "    result: (int, int)\n",
    "    \"\"\"\n",
    "    if len(x) == 0:\n",
    "        return None, 0\n",
    "    cnt = 1\n",
    "    cur_max = x[0]\n",
    "    for elem in x[1:]: # elem принимает значения из списка x\n",
    "        if elem == cur_max:\n",
    "            cnt += 1\n",
    "        elif elem > cur_max:\n",
    "            cur_max = elem\n",
    "            cnt = 1\n",
    "    return cur_max, cnt\n",
    "    \n",
    "\n",
    "x = [5, 4, 2, 3]\n",
    "print(my_max_count(x))"
   ]
  },
  {
   "cell_type": "code",
   "execution_count": 40,
   "metadata": {},
   "outputs": [
    {
     "name": "stdout",
     "output_type": "stream",
     "text": [
      "<class 'tuple'>\n",
      "(5, 1)\n"
     ]
    }
   ],
   "source": [
    "ans = my_max_count(x)\n",
    "print(type(ans))\n",
    "print(ans)"
   ]
  },
  {
   "cell_type": "code",
   "execution_count": 42,
   "metadata": {},
   "outputs": [
    {
     "name": "stdout",
     "output_type": "stream",
     "text": [
      "[5, 4, -2, 3]\n"
     ]
    }
   ],
   "source": [
    "x[2] = -2\n",
    "print(x)"
   ]
  },
  {
   "cell_type": "code",
   "execution_count": 43,
   "metadata": {},
   "outputs": [
    {
     "name": "stdout",
     "output_type": "stream",
     "text": [
      "(5, 1)\n"
     ]
    },
    {
     "ename": "TypeError",
     "evalue": "'tuple' object does not support item assignment",
     "output_type": "error",
     "traceback": [
      "\u001b[1;31m---------------------------------------------------------------------------\u001b[0m",
      "\u001b[1;31mTypeError\u001b[0m                                 Traceback (most recent call last)",
      "\u001b[1;32m<ipython-input-43-119dcf629c05>\u001b[0m in \u001b[0;36m<module>\u001b[1;34m\u001b[0m\n\u001b[0;32m      1\u001b[0m \u001b[0mprint\u001b[0m\u001b[1;33m(\u001b[0m\u001b[0mans\u001b[0m\u001b[1;33m)\u001b[0m\u001b[1;33m\u001b[0m\u001b[1;33m\u001b[0m\u001b[0m\n\u001b[1;32m----> 2\u001b[1;33m \u001b[0mans\u001b[0m\u001b[1;33m[\u001b[0m\u001b[1;36m1\u001b[0m\u001b[1;33m]\u001b[0m \u001b[1;33m=\u001b[0m \u001b[1;36m2\u001b[0m\u001b[1;33m\u001b[0m\u001b[1;33m\u001b[0m\u001b[0m\n\u001b[0m\u001b[0;32m      3\u001b[0m \u001b[0mprint\u001b[0m\u001b[1;33m(\u001b[0m\u001b[0mans\u001b[0m\u001b[1;33m)\u001b[0m\u001b[1;33m\u001b[0m\u001b[1;33m\u001b[0m\u001b[0m\n",
      "\u001b[1;31mTypeError\u001b[0m: 'tuple' object does not support item assignment"
     ]
    }
   ],
   "source": [
    "print(ans)\n",
    "ans[1] = 2\n",
    "print(ans)"
   ]
  },
  {
   "cell_type": "code",
   "execution_count": 45,
   "metadata": {},
   "outputs": [
    {
     "ename": "TypeError",
     "evalue": "unhashable type: 'list'",
     "output_type": "error",
     "traceback": [
      "\u001b[1;31m---------------------------------------------------------------------------\u001b[0m",
      "\u001b[1;31mTypeError\u001b[0m                                 Traceback (most recent call last)",
      "\u001b[1;32m<ipython-input-45-006a2b87dd6c>\u001b[0m in \u001b[0;36m<module>\u001b[1;34m\u001b[0m\n\u001b[1;32m----> 1\u001b[1;33m \u001b[0mdict\u001b[0m\u001b[1;33m(\u001b[0m\u001b[1;33m{\u001b[0m\u001b[1;34m'олово'\u001b[0m\u001b[1;33m:\u001b[0m \u001b[1;36m102\u001b[0m\u001b[1;33m,\u001b[0m \u001b[1;34m'плотва'\u001b[0m\u001b[1;33m:\u001b[0m \u001b[1;36m3\u001b[0m\u001b[1;33m,\u001b[0m \u001b[1;33m[\u001b[0m\u001b[1;34m'лодка'\u001b[0m\u001b[1;33m,\u001b[0m \u001b[1;34m'парус'\u001b[0m\u001b[1;33m]\u001b[0m\u001b[1;33m:\u001b[0m \u001b[1;36m10\u001b[0m\u001b[1;33m}\u001b[0m\u001b[1;33m)\u001b[0m\u001b[1;33m\u001b[0m\u001b[1;33m\u001b[0m\u001b[0m\n\u001b[0m",
      "\u001b[1;31mTypeError\u001b[0m: unhashable type: 'list'"
     ]
    }
   ],
   "source": [
    "dict({'олово': 102, 'плотва': 3, ['лодка', 'парус']: 10})"
   ]
  },
  {
   "cell_type": "code",
   "execution_count": 46,
   "metadata": {},
   "outputs": [
    {
     "data": {
      "text/plain": [
       "{'олово': 102, 'плотва': 3, ('лодка', 'парус'): 10}"
      ]
     },
     "execution_count": 46,
     "metadata": {},
     "output_type": "execute_result"
    }
   ],
   "source": [
    "dict({'олово': 102, 'плотва': 3, ('лодка', 'парус'): 10})"
   ]
  },
  {
   "cell_type": "code",
   "execution_count": 47,
   "metadata": {},
   "outputs": [],
   "source": [
    "a = ['1', 32, True]"
   ]
  },
  {
   "cell_type": "code",
   "execution_count": 48,
   "metadata": {},
   "outputs": [],
   "source": [
    "b = [[[100, 200, 100], [100, 200, 100], [100, 200, 100], [100, 200, 100]], [100, 200,250]]"
   ]
  },
  {
   "cell_type": "code",
   "execution_count": 53,
   "metadata": {},
   "outputs": [
    {
     "data": {
      "text/plain": [
       "200"
      ]
     },
     "execution_count": 53,
     "metadata": {},
     "output_type": "execute_result"
    }
   ],
   "source": [
    "b[0][2][1]"
   ]
  },
  {
   "cell_type": "code",
   "execution_count": 31,
   "metadata": {},
   "outputs": [
    {
     "name": "stdout",
     "output_type": "stream",
     "text": [
      "None\n"
     ]
    }
   ],
   "source": [
    "x = []\n",
    "print(my_max(x))"
   ]
  },
  {
   "cell_type": "code",
   "execution_count": 28,
   "metadata": {},
   "outputs": [
    {
     "name": "stdout",
     "output_type": "stream",
     "text": [
      "-1\n"
     ]
    }
   ],
   "source": [
    "x = [-1, -1,-1, -1]\n",
    "print(my_max(x))"
   ]
  },
  {
   "cell_type": "code",
   "execution_count": 23,
   "metadata": {},
   "outputs": [
    {
     "name": "stdout",
     "output_type": "stream",
     "text": [
      "10\n",
      "-5\n",
      "20\n",
      "3.3333333333333335\n"
     ]
    }
   ],
   "source": [
    "print(max(x))\n",
    "print(min(x))\n",
    "print(sum(x))\n",
    "print(sum(x) / len(x))"
   ]
  },
  {
   "cell_type": "code",
   "execution_count": null,
   "metadata": {},
   "outputs": [],
   "source": []
  },
  {
   "cell_type": "code",
   "execution_count": null,
   "metadata": {},
   "outputs": [],
   "source": []
  },
  {
   "cell_type": "markdown",
   "metadata": {
    "id": "U6Gxqgq12kww"
   },
   "source": [
    "### Задача №3:\n",
    "\n",
    "Подается последовательность чисел длины **n**. Необходимо вывести все квадраты чисел в обратной последовательности. "
   ]
  },
  {
   "cell_type": "code",
   "execution_count": null,
   "metadata": {
    "colab": {
     "base_uri": "https://localhost:8080/",
     "height": 246
    },
    "id": "RxOKpKJ42kwx",
    "outputId": "339e0836-096a-499d-bc26-e45106e73ded"
   },
   "outputs": [],
   "source": [
    "n = int(input())\n",
    "reversed_numbers = [0] * n\n",
    "\n",
    "for i in range(n):\n",
    "    x = int(input())\n",
    "    reversed_numbers[n - i] = x ** 2 # обращение по индексу n\n",
    "print(reversed_numbers)"
   ]
  },
  {
   "cell_type": "code",
   "execution_count": null,
   "metadata": {
    "colab": {
     "base_uri": "https://localhost:8080/",
     "height": 118
    },
    "id": "3W3Bsyoy2kw3",
    "outputId": "c8bd904a-3864-4aba-b1b2-86834c067452"
   },
   "outputs": [],
   "source": [
    "n = int(input())\n",
    "reversed_numbers = [0] * n\n",
    "\n",
    "for i in range(n):\n",
    "    x = int(input())\n",
    "    reversed_numbers[n - i - 1] = x ** 2 \n",
    "print(reversed_numbers)"
   ]
  },
  {
   "cell_type": "code",
   "execution_count": null,
   "metadata": {
    "colab": {
     "base_uri": "https://localhost:8080/",
     "height": 101
    },
    "id": "hdxiZzv62kw8",
    "outputId": "c882ec4d-d79b-4c64-8f92-d085ba78ab77"
   },
   "outputs": [],
   "source": [
    "n = int(input())\n",
    "numbers = [int(input()) ** 2 for i in range(n)] # все внутри списка, называется генератором списков\n",
    "print(numbers[::-1])"
   ]
  },
  {
   "cell_type": "markdown",
   "metadata": {
    "id": "WtdFF0Ps2kxB"
   },
   "source": [
    "### Сходства и различия со строками"
   ]
  },
  {
   "cell_type": "code",
   "execution_count": null,
   "metadata": {
    "colab": {
     "base_uri": "https://localhost:8080/",
     "height": 84
    },
    "id": "buxZ0tp-2kxD",
    "outputId": "b9f984bb-80de-4727-e7ed-dbd6aed839d1"
   },
   "outputs": [],
   "source": [
    "s = 'abcdef'\n",
    "chars = list(s)\n",
    "\n",
    "print(s[3])\n",
    "print(chars[3])\n",
    "\n",
    "print(s + s)\n",
    "print(chars + chars)"
   ]
  },
  {
   "cell_type": "code",
   "execution_count": null,
   "metadata": {
    "colab": {
     "base_uri": "https://localhost:8080/",
     "height": 50
    },
    "id": "qQeijrgb2kxJ",
    "outputId": "5fbd719e-c38c-4ca5-98fe-af29e67d9086"
   },
   "outputs": [],
   "source": [
    "for letter in s:\n",
    "    print(letter, end=' ')\n",
    "    \n",
    "print()\n",
    "for elem in chars:\n",
    "    print(elem, end=' ')"
   ]
  },
  {
   "cell_type": "code",
   "execution_count": null,
   "metadata": {
    "colab": {
     "base_uri": "https://localhost:8080/",
     "height": 229
    },
    "id": "JrjG02432kxP",
    "outputId": "d6c36e44-c35e-4efa-fd59-98e0230ae3c7"
   },
   "outputs": [],
   "source": [
    "chars[4] = 'G'\n",
    "print(chars)\n",
    "\n",
    "s[4] = 'G'\n",
    "print(s)"
   ]
  },
  {
   "cell_type": "markdown",
   "metadata": {
    "id": "YZgvHUEG2kxb"
   },
   "source": [
    "### Задача №4:\n",
    "\n",
    "Дана последовательность данных типа: \"Имя фамилия оценка\" длины **n**. Необходимо вывести данные \"Фамилия оценка\", отсортировав в алфавитном порядке. "
   ]
  },
  {
   "cell_type": "code",
   "execution_count": null,
   "metadata": {
    "colab": {
     "base_uri": "https://localhost:8080/",
     "height": 84
    },
    "id": "9W21Ks5Y2kxc",
    "outputId": "6571d303-7888-4783-d999-4bc9aa8aa547"
   },
   "outputs": [],
   "source": [
    "n = int(input())\n",
    "persons = [0] * n\n",
    "\n",
    "for i in range(n):\n",
    "    person = input()\n",
    "    persons[i] = person\n",
    "print(persons)"
   ]
  },
  {
   "cell_type": "code",
   "execution_count": null,
   "metadata": {
    "id": "Koywki482kxi"
   },
   "outputs": [],
   "source": [
    "n = int(input())\n",
    "persons = [0] * n\n",
    "\n",
    "for i in range(n):\n",
    "    persons[i] = input()\n",
    "print(persons)"
   ]
  },
  {
   "cell_type": "code",
   "execution_count": null,
   "metadata": {
    "colab": {
     "base_uri": "https://localhost:8080/",
     "height": 84
    },
    "id": "myg1P7Mr2kxn",
    "outputId": "ceee5555-b46d-4507-9251-77131e55b8f0"
   },
   "outputs": [],
   "source": [
    "n = int(input())\n",
    "persons = [0] * n\n",
    "\n",
    "for i in range(n):\n",
    "    person = input().split()\n",
    "    persons[i] = [person[1], person[2]]\n",
    "print(persons)"
   ]
  },
  {
   "cell_type": "code",
   "execution_count": null,
   "metadata": {
    "colab": {
     "base_uri": "https://localhost:8080/",
     "height": 50
    },
    "id": "NrbHMAzt2kxs",
    "outputId": "6312e946-988e-45f6-eea2-5b61ce3371af"
   },
   "outputs": [],
   "source": [
    "print(persons[1])\n",
    "print(persons[1][1], type(persons[1][1]))"
   ]
  },
  {
   "cell_type": "code",
   "execution_count": null,
   "metadata": {
    "colab": {
     "base_uri": "https://localhost:8080/",
     "height": 101
    },
    "id": "zgwTEHK32kxy",
    "outputId": "89346bc5-c347-400f-8656-b13c9cae2362"
   },
   "outputs": [],
   "source": [
    "n = int(input())\n",
    "persons = [0] * n\n",
    "\n",
    "for i in range(n):\n",
    "    name, person, mark = input().split()\n",
    "    persons[i] = [person, float(mark)]\n",
    "\n",
    "persons.sort()\n",
    "print(persons)"
   ]
  },
  {
   "cell_type": "code",
   "execution_count": null,
   "metadata": {
    "colab": {
     "base_uri": "https://localhost:8080/",
     "height": 34
    },
    "id": "awz3zVbh2kx2",
    "outputId": "97daa000-4db0-4b33-f159-de1b703459e9"
   },
   "outputs": [],
   "source": [
    "persons.sort(reverse=True)\n",
    "print(persons)"
   ]
  },
  {
   "cell_type": "code",
   "execution_count": null,
   "metadata": {
    "colab": {
     "base_uri": "https://localhost:8080/",
     "height": 34
    },
    "id": "65-k3nTK2kx6",
    "outputId": "d93304bc-b328-4b65-b37d-b7ac84b2ac77"
   },
   "outputs": [],
   "source": [
    "print(*persons)"
   ]
  },
  {
   "cell_type": "code",
   "execution_count": null,
   "metadata": {
    "id": "wZo17jalDHvM"
   },
   "outputs": [],
   "source": []
  }
 ],
 "metadata": {
  "colab": {
   "collapsed_sections": [],
   "name": "List.ipynb",
   "provenance": []
  },
  "kernelspec": {
   "display_name": "Python 3",
   "language": "python",
   "name": "python3"
  },
  "language_info": {
   "codemirror_mode": {
    "name": "ipython",
    "version": 3
   },
   "file_extension": ".py",
   "mimetype": "text/x-python",
   "name": "python",
   "nbconvert_exporter": "python",
   "pygments_lexer": "ipython3",
   "version": "3.8.3"
  }
 },
 "nbformat": 4,
 "nbformat_minor": 1
}

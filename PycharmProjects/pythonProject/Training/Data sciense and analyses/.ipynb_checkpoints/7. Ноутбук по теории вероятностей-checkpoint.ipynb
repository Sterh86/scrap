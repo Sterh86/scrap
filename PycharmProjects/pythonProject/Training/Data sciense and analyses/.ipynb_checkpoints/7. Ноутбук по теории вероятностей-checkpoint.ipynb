{
 "cells": [
  {
   "cell_type": "code",
   "execution_count": 1,
   "metadata": {},
   "outputs": [],
   "source": [
    "import numpy as np"
   ]
  },
  {
   "cell_type": "code",
   "execution_count": 3,
   "metadata": {},
   "outputs": [],
   "source": [
    "from time import time"
   ]
  },
  {
   "cell_type": "code",
   "execution_count": 4,
   "metadata": {},
   "outputs": [
    {
     "data": {
      "text/plain": [
       "1605022000.3904328"
      ]
     },
     "execution_count": 4,
     "metadata": {},
     "output_type": "execute_result"
    }
   ],
   "source": [
    "time()"
   ]
  },
  {
   "cell_type": "code",
   "execution_count": 11,
   "metadata": {},
   "outputs": [
    {
     "name": "stdout",
     "output_type": "stream",
     "text": [
      "1.6243453636632417\n",
      "-0.6117564136500754\n"
     ]
    }
   ],
   "source": [
    "np.random.seed(1)\n",
    "\n",
    "print(np.random.randn())\n",
    "print(np.random.randn())\n"
   ]
  },
  {
   "cell_type": "code",
   "execution_count": 12,
   "metadata": {},
   "outputs": [
    {
     "name": "stdout",
     "output_type": "stream",
     "text": [
      "-0.4167578474054706\n",
      "-0.056266827226329474\n"
     ]
    }
   ],
   "source": [
    "np.random.seed(2)\n",
    "\n",
    "print(np.random.randn())\n",
    "print(np.random.randn())\n"
   ]
  },
  {
   "cell_type": "code",
   "execution_count": 21,
   "metadata": {},
   "outputs": [
    {
     "name": "stdout",
     "output_type": "stream",
     "text": [
      "0.2895850167432952\n",
      "0.5035331022554004\n"
     ]
    }
   ],
   "source": [
    "np.random.seed(42)  # параметризация генератора псевдослучайных чисел\n",
    "\n",
    "print(np.random.randn())\n",
    "print(np.random.randn())\n"
   ]
  },
  {
   "cell_type": "code",
   "execution_count": 37,
   "metadata": {},
   "outputs": [],
   "source": [
    "a = np.random.randint(0, 10**6, 100000)\n",
    "b = list(map(lambda x : len(str(x)), a))"
   ]
  },
  {
   "cell_type": "code",
   "execution_count": 38,
   "metadata": {},
   "outputs": [
    {
     "data": {
      "text/plain": [
       "Counter({6: 89941, 5: 9040, 4: 917, 3: 86, 2: 14, 1: 2})"
      ]
     },
     "execution_count": 38,
     "metadata": {},
     "output_type": "execute_result"
    }
   ],
   "source": [
    "from collections import Counter\n",
    "\n",
    "Counter(b)"
   ]
  },
  {
   "cell_type": "code",
   "execution_count": 34,
   "metadata": {},
   "outputs": [
    {
     "data": {
      "text/plain": [
       "1.0"
      ]
     },
     "execution_count": 34,
     "metadata": {},
     "output_type": "execute_result"
    }
   ],
   "source": [
    "100000 * 10 / 1000000"
   ]
  },
  {
   "cell_type": "code",
   "execution_count": 51,
   "metadata": {},
   "outputs": [
    {
     "name": "stdout",
     "output_type": "stream",
     "text": [
      "Вероятность единицы в наших испытаниях:  0.500054\n",
      "Разность теоретической и практической вероятностей  5.3999999999998494e-05\n"
     ]
    }
   ],
   "source": [
    "a = np.random.randint(0, 2, 1000000)\n",
    "b = 0.5\n",
    "\n",
    "print('Вероятность единицы в наших испытаниях: ', np.mean(a))\n",
    "print('Разность теоретической и практической вероятностей ', abs(b - np.mean(a)))"
   ]
  },
  {
   "cell_type": "code",
   "execution_count": 63,
   "metadata": {},
   "outputs": [
    {
     "name": "stdout",
     "output_type": "stream",
     "text": [
      "Теоретическая вероятность: 0.16666666666666666\n",
      "Вероятность выпадения пятерки в наших испытаниях:  0.16633\n",
      "Разность теоретической и практической вероятностей  0.0003366666666666518\n"
     ]
    }
   ],
   "source": [
    "a = np.random.randint(1, 7, 100000) # пробуем выкинуть пятерку \n",
    "b = 1 / 6\n",
    "\n",
    "print(\"Теоретическая вероятность:\", b)\n",
    "print('Вероятность выпадения пятерки в наших испытаниях: ', Counter(a)[5] / a.shape[0])\n",
    "print('Разность теоретической и практической вероятностей ', abs(b - Counter(a)[5] / a.shape[0]))"
   ]
  },
  {
   "cell_type": "code",
   "execution_count": 68,
   "metadata": {},
   "outputs": [
    {
     "ename": "IndexError",
     "evalue": "tuple index out of range",
     "output_type": "error",
     "traceback": [
      "\u001b[1;31m---------------------------------------------------------------------------\u001b[0m",
      "\u001b[1;31mIndexError\u001b[0m                                Traceback (most recent call last)",
      "\u001b[1;32m<ipython-input-68-f9e599ded798>\u001b[0m in \u001b[0;36m<module>\u001b[1;34m\u001b[0m\n\u001b[1;32m----> 1\u001b[1;33m \u001b[0ma\u001b[0m\u001b[1;33m.\u001b[0m\u001b[0mshape\u001b[0m\u001b[1;33m[\u001b[0m\u001b[1;36m1\u001b[0m\u001b[1;33m]\u001b[0m\u001b[1;33m\u001b[0m\u001b[1;33m\u001b[0m\u001b[0m\n\u001b[0m",
      "\u001b[1;31mIndexError\u001b[0m: tuple index out of range"
     ]
    }
   ],
   "source": [
    "a.shape[1]"
   ]
  },
  {
   "cell_type": "code",
   "execution_count": 70,
   "metadata": {},
   "outputs": [],
   "source": [
    "from matplotlib import pyplot as plt"
   ]
  },
  {
   "cell_type": "code",
   "execution_count": 85,
   "metadata": {},
   "outputs": [
    {
     "data": {
      "image/png": "[encoded data removed]",
      "text/plain": [
       "<Figure size 432x288 with 1 Axes>"
      ]
     },
     "metadata": {
      "needs_background": "light"
     },
     "output_type": "display_data"
    }
   ],
   "source": [
    "# a = np.random.randint(1, 7, 10000) # пробуем выкинуть пятерку \n",
    "\n",
    "bins = np.arange(7) + 0.5\n",
    "plt.hist(a, bins=bins, edgecolor='red', alpha=0.5)\n",
    "plt.show()"
   ]
  },
  {
   "cell_type": "code",
   "execution_count": 84,
   "metadata": {},
   "outputs": [
    {
     "data": {
      "image/png": "[encoded data removed]",
      "text/plain": [
       "<Figure size 432x288 with 1 Axes>"
      ]
     },
     "metadata": {
      "needs_background": "light"
     },
     "output_type": "display_data"
    }
   ],
   "source": [
    "# a = np.random.randint(1, 7, 10000) # пробуем выкинуть пятерку \n",
    "\n",
    "bins = np.arange(7) + 0.5\n",
    "plt.hist(a, bins=bins, edgecolor='red', alpha=0.5, density=True)\n",
    "plt.show()"
   ]
  },
  {
   "cell_type": "code",
   "execution_count": 75,
   "metadata": {},
   "outputs": [
    {
     "data": {
      "text/plain": [
       "array([5, 4, 4, 3, 6, 1, 3, 6, 3, 6, 5, 1, 6, 5, 5, 5, 3, 3, 2, 2, 1, 6,\n",
       "       1, 2, 4, 6, 3, 5, 4, 5, 5, 3, 2, 5, 3, 5, 2, 5, 4, 1, 1, 5, 4, 4,\n",
       "       5, 2, 1, 4, 6, 3, 4, 1, 4, 4, 2, 6, 5, 4, 4, 6, 4, 6, 2, 3, 4, 3,\n",
       "       6, 6, 5, 4, 6, 5, 2, 2, 5, 3, 6, 5, 2, 2, 1, 3, 1, 1, 5, 3, 5, 6,\n",
       "       1, 4, 6, 1, 3, 4, 3, 6, 2, 1, 1, 5])"
      ]
     },
     "execution_count": 75,
     "metadata": {},
     "output_type": "execute_result"
    }
   ],
   "source": [
    "a"
   ]
  },
  {
   "cell_type": "code",
   "execution_count": 86,
   "metadata": {},
   "outputs": [
    {
     "name": "stdout",
     "output_type": "stream",
     "text": [
      "Requirement already satisfied: scipy in c:\\users\\foxford\\anaconda4\\lib\\site-packages (1.5.0)\n",
      "Requirement already satisfied: numpy>=1.14.5 in c:\\users\\foxford\\anaconda4\\lib\\site-packages (from scipy) (1.18.5)\n"
     ]
    }
   ],
   "source": [
    "!pip install scipy"
   ]
  },
  {
   "cell_type": "code",
   "execution_count": 87,
   "metadata": {},
   "outputs": [],
   "source": [
    "from scipy import stats as sts"
   ]
  },
  {
   "cell_type": "code",
   "execution_count": 94,
   "metadata": {},
   "outputs": [],
   "source": [
    "x_rv = sts.uniform(0, 11)\n",
    "x = x_rv.rvs(10000)"
   ]
  },
  {
   "cell_type": "code",
   "execution_count": 97,
   "metadata": {},
   "outputs": [
    {
     "data": {
      "text/plain": [
       "(array([ 983., 1002., 1019., 1049.,  983., 1012., 1002.,  982.,  940.,\n",
       "        1028.]),\n",
       " array([2.95694534e-04, 1.10022147e+00, 2.20014725e+00, 3.30007302e+00,\n",
       "        4.39999880e+00, 5.49992458e+00, 6.59985035e+00, 7.69977613e+00,\n",
       "        8.79970190e+00, 9.89962768e+00, 1.09995535e+01]),\n",
       " <a list of 10 Patch objects>)"
      ]
     },
     "execution_count": 97,
     "metadata": {},
     "output_type": "execute_result"
    },
    {
     "data": {
      "image/png": "[encoded data removed]",
      "text/plain": [
       "<Figure size 432x288 with 1 Axes>"
      ]
     },
     "metadata": {
      "needs_background": "light"
     },
     "output_type": "display_data"
    }
   ],
   "source": [
    "plt.hist(x, bins=10)"
   ]
  },
  {
   "cell_type": "code",
   "execution_count": 101,
   "metadata": {},
   "outputs": [
    {
     "data": {
      "text/plain": [
       "[<matplotlib.lines.Line2D at 0xc281df0>]"
      ]
     },
     "execution_count": 101,
     "metadata": {},
     "output_type": "execute_result"
    },
    {
     "data": {
      "image/png": "[encoded data removed]",
      "text/plain": [
       "<Figure size 432x288 with 1 Axes>"
      ]
     },
     "metadata": {
      "needs_background": "light"
     },
     "output_type": "display_data"
    }
   ],
   "source": [
    "x_rv = sts.norm(0, 1) # \n",
    "x = x_rv.rvs(10000)\n",
    "plt.hist(x, density=True)\n",
    "z = np.arange(-3, 3, 0.01)\n",
    "plt.plot(z, x_rv.pdf(z))"
   ]
  },
  {
   "cell_type": "code",
   "execution_count": 107,
   "metadata": {},
   "outputs": [
    {
     "data": {
      "text/plain": [
       "<matplotlib.legend.Legend at 0xc4f10d0>"
      ]
     },
     "execution_count": 107,
     "metadata": {},
     "output_type": "execute_result"
    },
    {
     "data": {
      "image/png": "[encoded data removed]",
      "text/plain": [
       "<Figure size 432x288 with 1 Axes>"
      ]
     },
     "metadata": {
      "needs_background": "light"
     },
     "output_type": "display_data"
    }
   ],
   "source": [
    "x_rv = sts.norm(0, 1)\n",
    "y_rv = sts.norm(0, 3)\n",
    "z_rv = sts.norm(2, 2)\n",
    "d_rv = sts.norm(2, 0.5)\n",
    "\n",
    "\n",
    "z = np.arange(-7, 7, 0.01)\n",
    "\n",
    "plt.plot(z, x_rv.pdf(z), label=\"(0,1)\")\n",
    "plt.plot(z, y_rv.pdf(z), label=\"(0,3)\")\n",
    "plt.plot(z, z_rv.pdf(z), label=\"(2,2)\")\n",
    "plt.plot(z, d_rv.pdf(z), label=\"(2,0.5)\")\n",
    "\n",
    "plt.legend()"
   ]
  },
  {
   "cell_type": "code",
   "execution_count": null,
   "metadata": {},
   "outputs": [],
   "source": [
    "# мода - наиболее вероятное значение\n",
    "# медиана - минимальное число, которое больше 50%\n",
    "# ср.значение - mean\n",
    "# Первый параметр нормального распределения - это его среднее значение"
   ]
  },
  {
   "cell_type": "code",
   "execution_count": 114,
   "metadata": {},
   "outputs": [
    {
     "name": "stdout",
     "output_type": "stream",
     "text": [
      "Среднее значение:  2.0190915002851044\n",
      "Дисперсия:  0.2428675081652322\n",
      "Среднеквадратчное отклонение:  0.4928158968268294\n"
     ]
    }
   ],
   "source": [
    "sample = d_rv.rvs(1000)\n",
    "print(\"Среднее значение: \", sample.mean())\n",
    "print(\"Дисперсия: \", sample.var())\n",
    "print(\"Среднеквадратчное отклонение: \", sample.std())"
   ]
  },
  {
   "cell_type": "code",
   "execution_count": null,
   "metadata": {},
   "outputs": [],
   "source": []
  },
  {
   "cell_type": "code",
   "execution_count": 116,
   "metadata": {},
   "outputs": [],
   "source": [
    "import pandas as pd"
   ]
  },
  {
   "cell_type": "code",
   "execution_count": 117,
   "metadata": {},
   "outputs": [
    {
     "data": {
      "text/html": [
       "<div>\n",
       "<style scoped>\n",
       "    .dataframe tbody tr th:only-of-type {\n",
       "        vertical-align: middle;\n",
       "    }\n",
       "\n",
       "    .dataframe tbody tr th {\n",
       "        vertical-align: top;\n",
       "    }\n",
       "\n",
       "    .dataframe thead th {\n",
       "        text-align: right;\n",
       "    }\n",
       "</style>\n",
       "<table border=\"1\" class=\"dataframe\">\n",
       "  <thead>\n",
       "    <tr style=\"text-align: right;\">\n",
       "      <th></th>\n",
       "      <th>iso_code</th>\n",
       "      <th>continent</th>\n",
       "      <th>location</th>\n",
       "      <th>date</th>\n",
       "      <th>total_cases</th>\n",
       "      <th>new_cases</th>\n",
       "      <th>new_cases_smoothed</th>\n",
       "      <th>total_deaths</th>\n",
       "      <th>new_deaths</th>\n",
       "      <th>new_deaths_smoothed</th>\n",
       "      <th>...</th>\n",
       "      <th>gdp_per_capita</th>\n",
       "      <th>extreme_poverty</th>\n",
       "      <th>cardiovasc_death_rate</th>\n",
       "      <th>diabetes_prevalence</th>\n",
       "      <th>female_smokers</th>\n",
       "      <th>male_smokers</th>\n",
       "      <th>handwashing_facilities</th>\n",
       "      <th>hospital_beds_per_thousand</th>\n",
       "      <th>life_expectancy</th>\n",
       "      <th>human_development_index</th>\n",
       "    </tr>\n",
       "  </thead>\n",
       "  <tbody>\n",
       "    <tr>\n",
       "      <th>0</th>\n",
       "      <td>AFG</td>\n",
       "      <td>Asia</td>\n",
       "      <td>Afghanistan</td>\n",
       "      <td>2019-12-31</td>\n",
       "      <td>NaN</td>\n",
       "      <td>0.0</td>\n",
       "      <td>NaN</td>\n",
       "      <td>NaN</td>\n",
       "      <td>0.0</td>\n",
       "      <td>NaN</td>\n",
       "      <td>...</td>\n",
       "      <td>1803.987</td>\n",
       "      <td>NaN</td>\n",
       "      <td>597.029</td>\n",
       "      <td>9.59</td>\n",
       "      <td>NaN</td>\n",
       "      <td>NaN</td>\n",
       "      <td>37.746</td>\n",
       "      <td>0.5</td>\n",
       "      <td>64.83</td>\n",
       "      <td>0.498</td>\n",
       "    </tr>\n",
       "    <tr>\n",
       "      <th>1</th>\n",
       "      <td>AFG</td>\n",
       "      <td>Asia</td>\n",
       "      <td>Afghanistan</td>\n",
       "      <td>2020-01-01</td>\n",
       "      <td>NaN</td>\n",
       "      <td>0.0</td>\n",
       "      <td>NaN</td>\n",
       "      <td>NaN</td>\n",
       "      <td>0.0</td>\n",
       "      <td>NaN</td>\n",
       "      <td>...</td>\n",
       "      <td>1803.987</td>\n",
       "      <td>NaN</td>\n",
       "      <td>597.029</td>\n",
       "      <td>9.59</td>\n",
       "      <td>NaN</td>\n",
       "      <td>NaN</td>\n",
       "      <td>37.746</td>\n",
       "      <td>0.5</td>\n",
       "      <td>64.83</td>\n",
       "      <td>0.498</td>\n",
       "    </tr>\n",
       "    <tr>\n",
       "      <th>2</th>\n",
       "      <td>AFG</td>\n",
       "      <td>Asia</td>\n",
       "      <td>Afghanistan</td>\n",
       "      <td>2020-01-02</td>\n",
       "      <td>NaN</td>\n",
       "      <td>0.0</td>\n",
       "      <td>NaN</td>\n",
       "      <td>NaN</td>\n",
       "      <td>0.0</td>\n",
       "      <td>NaN</td>\n",
       "      <td>...</td>\n",
       "      <td>1803.987</td>\n",
       "      <td>NaN</td>\n",
       "      <td>597.029</td>\n",
       "      <td>9.59</td>\n",
       "      <td>NaN</td>\n",
       "      <td>NaN</td>\n",
       "      <td>37.746</td>\n",
       "      <td>0.5</td>\n",
       "      <td>64.83</td>\n",
       "      <td>0.498</td>\n",
       "    </tr>\n",
       "    <tr>\n",
       "      <th>3</th>\n",
       "      <td>AFG</td>\n",
       "      <td>Asia</td>\n",
       "      <td>Afghanistan</td>\n",
       "      <td>2020-01-03</td>\n",
       "      <td>NaN</td>\n",
       "      <td>0.0</td>\n",
       "      <td>NaN</td>\n",
       "      <td>NaN</td>\n",
       "      <td>0.0</td>\n",
       "      <td>NaN</td>\n",
       "      <td>...</td>\n",
       "      <td>1803.987</td>\n",
       "      <td>NaN</td>\n",
       "      <td>597.029</td>\n",
       "      <td>9.59</td>\n",
       "      <td>NaN</td>\n",
       "      <td>NaN</td>\n",
       "      <td>37.746</td>\n",
       "      <td>0.5</td>\n",
       "      <td>64.83</td>\n",
       "      <td>0.498</td>\n",
       "    </tr>\n",
       "    <tr>\n",
       "      <th>4</th>\n",
       "      <td>AFG</td>\n",
       "      <td>Asia</td>\n",
       "      <td>Afghanistan</td>\n",
       "      <td>2020-01-04</td>\n",
       "      <td>NaN</td>\n",
       "      <td>0.0</td>\n",
       "      <td>NaN</td>\n",
       "      <td>NaN</td>\n",
       "      <td>0.0</td>\n",
       "      <td>NaN</td>\n",
       "      <td>...</td>\n",
       "      <td>1803.987</td>\n",
       "      <td>NaN</td>\n",
       "      <td>597.029</td>\n",
       "      <td>9.59</td>\n",
       "      <td>NaN</td>\n",
       "      <td>NaN</td>\n",
       "      <td>37.746</td>\n",
       "      <td>0.5</td>\n",
       "      <td>64.83</td>\n",
       "      <td>0.498</td>\n",
       "    </tr>\n",
       "  </tbody>\n",
       "</table>\n",
       "<p>5 rows × 49 columns</p>\n",
       "</div>"
      ],
      "text/plain": [
       "  iso_code continent     location        date  total_cases  new_cases  \\\n",
       "0      AFG      Asia  Afghanistan  2019-12-31          NaN        0.0   \n",
       "1      AFG      Asia  Afghanistan  2020-01-01          NaN        0.0   \n",
       "2      AFG      Asia  Afghanistan  2020-01-02          NaN        0.0   \n",
       "3      AFG      Asia  Afghanistan  2020-01-03          NaN        0.0   \n",
       "4      AFG      Asia  Afghanistan  2020-01-04          NaN        0.0   \n",
       "\n",
       "   new_cases_smoothed  total_deaths  new_deaths  new_deaths_smoothed  ...  \\\n",
       "0                 NaN           NaN         0.0                  NaN  ...   \n",
       "1                 NaN           NaN         0.0                  NaN  ...   \n",
       "2                 NaN           NaN         0.0                  NaN  ...   \n",
       "3                 NaN           NaN         0.0                  NaN  ...   \n",
       "4                 NaN           NaN         0.0                  NaN  ...   \n",
       "\n",
       "   gdp_per_capita  extreme_poverty  cardiovasc_death_rate  \\\n",
       "0        1803.987              NaN                597.029   \n",
       "1        1803.987              NaN                597.029   \n",
       "2        1803.987              NaN                597.029   \n",
       "3        1803.987              NaN                597.029   \n",
       "4        1803.987              NaN                597.029   \n",
       "\n",
       "   diabetes_prevalence  female_smokers  male_smokers  handwashing_facilities  \\\n",
       "0                 9.59             NaN           NaN                  37.746   \n",
       "1                 9.59             NaN           NaN                  37.746   \n",
       "2                 9.59             NaN           NaN                  37.746   \n",
       "3                 9.59             NaN           NaN                  37.746   \n",
       "4                 9.59             NaN           NaN                  37.746   \n",
       "\n",
       "   hospital_beds_per_thousand  life_expectancy  human_development_index  \n",
       "0                         0.5            64.83                    0.498  \n",
       "1                         0.5            64.83                    0.498  \n",
       "2                         0.5            64.83                    0.498  \n",
       "3                         0.5            64.83                    0.498  \n",
       "4                         0.5            64.83                    0.498  \n",
       "\n",
       "[5 rows x 49 columns]"
      ]
     },
     "execution_count": 117,
     "metadata": {},
     "output_type": "execute_result"
    }
   ],
   "source": [
    "df = pd.read_csv('owid-covid-data.csv')\n",
    "df.head()"
   ]
  },
  {
   "cell_type": "code",
   "execution_count": 118,
   "metadata": {},
   "outputs": [
    {
     "data": {
      "text/plain": [
       "array(['iso_code', 'continent', 'location', 'date', 'total_cases',\n",
       "       'new_cases', 'new_cases_smoothed', 'total_deaths', 'new_deaths',\n",
       "       'new_deaths_smoothed', 'total_cases_per_million',\n",
       "       'new_cases_per_million', 'new_cases_smoothed_per_million',\n",
       "       'total_deaths_per_million', 'new_deaths_per_million',\n",
       "       'new_deaths_smoothed_per_million', 'icu_patients',\n",
       "       'icu_patients_per_million', 'hosp_patients',\n",
       "       'hosp_patients_per_million', 'weekly_icu_admissions',\n",
       "       'weekly_icu_admissions_per_million', 'weekly_hosp_admissions',\n",
       "       'weekly_hosp_admissions_per_million', 'total_tests', 'new_tests',\n",
       "       'total_tests_per_thousand', 'new_tests_per_thousand',\n",
       "       'new_tests_smoothed', 'new_tests_smoothed_per_thousand',\n",
       "       'tests_per_case', 'positive_rate', 'tests_units',\n",
       "       'stringency_index', 'population', 'population_density',\n",
       "       'median_age', 'aged_65_older', 'aged_70_older', 'gdp_per_capita',\n",
       "       'extreme_poverty', 'cardiovasc_death_rate', 'diabetes_prevalence',\n",
       "       'female_smokers', 'male_smokers', 'handwashing_facilities',\n",
       "       'hospital_beds_per_thousand', 'life_expectancy',\n",
       "       'human_development_index'], dtype=object)"
      ]
     },
     "execution_count": 118,
     "metadata": {},
     "output_type": "execute_result"
    }
   ],
   "source": [
    "df.columns.to_numpy()"
   ]
  },
  {
   "cell_type": "code",
   "execution_count": 119,
   "metadata": {},
   "outputs": [
    {
     "data": {
      "text/html": [
       "<div>\n",
       "<style scoped>\n",
       "    .dataframe tbody tr th:only-of-type {\n",
       "        vertical-align: middle;\n",
       "    }\n",
       "\n",
       "    .dataframe tbody tr th {\n",
       "        vertical-align: top;\n",
       "    }\n",
       "\n",
       "    .dataframe thead th {\n",
       "        text-align: right;\n",
       "    }\n",
       "</style>\n",
       "<table border=\"1\" class=\"dataframe\">\n",
       "  <thead>\n",
       "    <tr style=\"text-align: right;\">\n",
       "      <th></th>\n",
       "      <th>iso_code</th>\n",
       "      <th>continent</th>\n",
       "      <th>location</th>\n",
       "      <th>date</th>\n",
       "      <th>total_cases</th>\n",
       "      <th>new_cases</th>\n",
       "      <th>new_cases_smoothed</th>\n",
       "      <th>total_deaths</th>\n",
       "      <th>new_deaths</th>\n",
       "      <th>new_deaths_smoothed</th>\n",
       "      <th>...</th>\n",
       "      <th>gdp_per_capita</th>\n",
       "      <th>extreme_poverty</th>\n",
       "      <th>cardiovasc_death_rate</th>\n",
       "      <th>diabetes_prevalence</th>\n",
       "      <th>female_smokers</th>\n",
       "      <th>male_smokers</th>\n",
       "      <th>handwashing_facilities</th>\n",
       "      <th>hospital_beds_per_thousand</th>\n",
       "      <th>life_expectancy</th>\n",
       "      <th>human_development_index</th>\n",
       "    </tr>\n",
       "  </thead>\n",
       "  <tbody>\n",
       "    <tr>\n",
       "      <th>41501</th>\n",
       "      <td>RUS</td>\n",
       "      <td>Europe</td>\n",
       "      <td>Russia</td>\n",
       "      <td>2019-12-31</td>\n",
       "      <td>NaN</td>\n",
       "      <td>0.0</td>\n",
       "      <td>NaN</td>\n",
       "      <td>NaN</td>\n",
       "      <td>0.0</td>\n",
       "      <td>NaN</td>\n",
       "      <td>...</td>\n",
       "      <td>24765.954</td>\n",
       "      <td>0.1</td>\n",
       "      <td>431.297</td>\n",
       "      <td>6.18</td>\n",
       "      <td>23.4</td>\n",
       "      <td>58.3</td>\n",
       "      <td>NaN</td>\n",
       "      <td>8.05</td>\n",
       "      <td>72.58</td>\n",
       "      <td>0.816</td>\n",
       "    </tr>\n",
       "    <tr>\n",
       "      <th>41502</th>\n",
       "      <td>RUS</td>\n",
       "      <td>Europe</td>\n",
       "      <td>Russia</td>\n",
       "      <td>2020-01-01</td>\n",
       "      <td>NaN</td>\n",
       "      <td>0.0</td>\n",
       "      <td>NaN</td>\n",
       "      <td>NaN</td>\n",
       "      <td>0.0</td>\n",
       "      <td>NaN</td>\n",
       "      <td>...</td>\n",
       "      <td>24765.954</td>\n",
       "      <td>0.1</td>\n",
       "      <td>431.297</td>\n",
       "      <td>6.18</td>\n",
       "      <td>23.4</td>\n",
       "      <td>58.3</td>\n",
       "      <td>NaN</td>\n",
       "      <td>8.05</td>\n",
       "      <td>72.58</td>\n",
       "      <td>0.816</td>\n",
       "    </tr>\n",
       "    <tr>\n",
       "      <th>41503</th>\n",
       "      <td>RUS</td>\n",
       "      <td>Europe</td>\n",
       "      <td>Russia</td>\n",
       "      <td>2020-01-02</td>\n",
       "      <td>NaN</td>\n",
       "      <td>0.0</td>\n",
       "      <td>NaN</td>\n",
       "      <td>NaN</td>\n",
       "      <td>0.0</td>\n",
       "      <td>NaN</td>\n",
       "      <td>...</td>\n",
       "      <td>24765.954</td>\n",
       "      <td>0.1</td>\n",
       "      <td>431.297</td>\n",
       "      <td>6.18</td>\n",
       "      <td>23.4</td>\n",
       "      <td>58.3</td>\n",
       "      <td>NaN</td>\n",
       "      <td>8.05</td>\n",
       "      <td>72.58</td>\n",
       "      <td>0.816</td>\n",
       "    </tr>\n",
       "    <tr>\n",
       "      <th>41504</th>\n",
       "      <td>RUS</td>\n",
       "      <td>Europe</td>\n",
       "      <td>Russia</td>\n",
       "      <td>2020-01-03</td>\n",
       "      <td>NaN</td>\n",
       "      <td>0.0</td>\n",
       "      <td>NaN</td>\n",
       "      <td>NaN</td>\n",
       "      <td>0.0</td>\n",
       "      <td>NaN</td>\n",
       "      <td>...</td>\n",
       "      <td>24765.954</td>\n",
       "      <td>0.1</td>\n",
       "      <td>431.297</td>\n",
       "      <td>6.18</td>\n",
       "      <td>23.4</td>\n",
       "      <td>58.3</td>\n",
       "      <td>NaN</td>\n",
       "      <td>8.05</td>\n",
       "      <td>72.58</td>\n",
       "      <td>0.816</td>\n",
       "    </tr>\n",
       "    <tr>\n",
       "      <th>41505</th>\n",
       "      <td>RUS</td>\n",
       "      <td>Europe</td>\n",
       "      <td>Russia</td>\n",
       "      <td>2020-01-04</td>\n",
       "      <td>NaN</td>\n",
       "      <td>0.0</td>\n",
       "      <td>NaN</td>\n",
       "      <td>NaN</td>\n",
       "      <td>0.0</td>\n",
       "      <td>NaN</td>\n",
       "      <td>...</td>\n",
       "      <td>24765.954</td>\n",
       "      <td>0.1</td>\n",
       "      <td>431.297</td>\n",
       "      <td>6.18</td>\n",
       "      <td>23.4</td>\n",
       "      <td>58.3</td>\n",
       "      <td>NaN</td>\n",
       "      <td>8.05</td>\n",
       "      <td>72.58</td>\n",
       "      <td>0.816</td>\n",
       "    </tr>\n",
       "    <tr>\n",
       "      <th>...</th>\n",
       "      <td>...</td>\n",
       "      <td>...</td>\n",
       "      <td>...</td>\n",
       "      <td>...</td>\n",
       "      <td>...</td>\n",
       "      <td>...</td>\n",
       "      <td>...</td>\n",
       "      <td>...</td>\n",
       "      <td>...</td>\n",
       "      <td>...</td>\n",
       "      <td>...</td>\n",
       "      <td>...</td>\n",
       "      <td>...</td>\n",
       "      <td>...</td>\n",
       "      <td>...</td>\n",
       "      <td>...</td>\n",
       "      <td>...</td>\n",
       "      <td>...</td>\n",
       "      <td>...</td>\n",
       "      <td>...</td>\n",
       "      <td>...</td>\n",
       "    </tr>\n",
       "    <tr>\n",
       "      <th>41812</th>\n",
       "      <td>RUS</td>\n",
       "      <td>Europe</td>\n",
       "      <td>Russia</td>\n",
       "      <td>2020-11-06</td>\n",
       "      <td>1712858.0</td>\n",
       "      <td>19404.0</td>\n",
       "      <td>18737.857</td>\n",
       "      <td>29509.0</td>\n",
       "      <td>292.0</td>\n",
       "      <td>315.429</td>\n",
       "      <td>...</td>\n",
       "      <td>24765.954</td>\n",
       "      <td>0.1</td>\n",
       "      <td>431.297</td>\n",
       "      <td>6.18</td>\n",
       "      <td>23.4</td>\n",
       "      <td>58.3</td>\n",
       "      <td>NaN</td>\n",
       "      <td>8.05</td>\n",
       "      <td>72.58</td>\n",
       "      <td>0.816</td>\n",
       "    </tr>\n",
       "    <tr>\n",
       "      <th>41813</th>\n",
       "      <td>RUS</td>\n",
       "      <td>Europe</td>\n",
       "      <td>Russia</td>\n",
       "      <td>2020-11-07</td>\n",
       "      <td>1733440.0</td>\n",
       "      <td>20582.0</td>\n",
       "      <td>19066.286</td>\n",
       "      <td>29887.0</td>\n",
       "      <td>378.0</td>\n",
       "      <td>318.714</td>\n",
       "      <td>...</td>\n",
       "      <td>24765.954</td>\n",
       "      <td>0.1</td>\n",
       "      <td>431.297</td>\n",
       "      <td>6.18</td>\n",
       "      <td>23.4</td>\n",
       "      <td>58.3</td>\n",
       "      <td>NaN</td>\n",
       "      <td>8.05</td>\n",
       "      <td>72.58</td>\n",
       "      <td>0.816</td>\n",
       "    </tr>\n",
       "    <tr>\n",
       "      <th>41814</th>\n",
       "      <td>RUS</td>\n",
       "      <td>Europe</td>\n",
       "      <td>Russia</td>\n",
       "      <td>2020-11-08</td>\n",
       "      <td>1753836.0</td>\n",
       "      <td>20396.0</td>\n",
       "      <td>19388.571</td>\n",
       "      <td>30251.0</td>\n",
       "      <td>364.0</td>\n",
       "      <td>323.000</td>\n",
       "      <td>...</td>\n",
       "      <td>24765.954</td>\n",
       "      <td>0.1</td>\n",
       "      <td>431.297</td>\n",
       "      <td>6.18</td>\n",
       "      <td>23.4</td>\n",
       "      <td>58.3</td>\n",
       "      <td>NaN</td>\n",
       "      <td>8.05</td>\n",
       "      <td>72.58</td>\n",
       "      <td>0.816</td>\n",
       "    </tr>\n",
       "    <tr>\n",
       "      <th>41815</th>\n",
       "      <td>RUS</td>\n",
       "      <td>Europe</td>\n",
       "      <td>Russia</td>\n",
       "      <td>2020-11-09</td>\n",
       "      <td>1774334.0</td>\n",
       "      <td>20498.0</td>\n",
       "      <td>19650.429</td>\n",
       "      <td>30537.0</td>\n",
       "      <td>286.0</td>\n",
       "      <td>328.857</td>\n",
       "      <td>...</td>\n",
       "      <td>24765.954</td>\n",
       "      <td>0.1</td>\n",
       "      <td>431.297</td>\n",
       "      <td>6.18</td>\n",
       "      <td>23.4</td>\n",
       "      <td>58.3</td>\n",
       "      <td>NaN</td>\n",
       "      <td>8.05</td>\n",
       "      <td>72.58</td>\n",
       "      <td>0.816</td>\n",
       "    </tr>\n",
       "    <tr>\n",
       "      <th>41816</th>\n",
       "      <td>RUS</td>\n",
       "      <td>Europe</td>\n",
       "      <td>Russia</td>\n",
       "      <td>2020-11-10</td>\n",
       "      <td>1796132.0</td>\n",
       "      <td>21798.0</td>\n",
       "      <td>20156.286</td>\n",
       "      <td>30793.0</td>\n",
       "      <td>256.0</td>\n",
       "      <td>331.429</td>\n",
       "      <td>...</td>\n",
       "      <td>24765.954</td>\n",
       "      <td>0.1</td>\n",
       "      <td>431.297</td>\n",
       "      <td>6.18</td>\n",
       "      <td>23.4</td>\n",
       "      <td>58.3</td>\n",
       "      <td>NaN</td>\n",
       "      <td>8.05</td>\n",
       "      <td>72.58</td>\n",
       "      <td>0.816</td>\n",
       "    </tr>\n",
       "  </tbody>\n",
       "</table>\n",
       "<p>316 rows × 49 columns</p>\n",
       "</div>"
      ],
      "text/plain": [
       "      iso_code continent location        date  total_cases  new_cases  \\\n",
       "41501      RUS    Europe   Russia  2019-12-31          NaN        0.0   \n",
       "41502      RUS    Europe   Russia  2020-01-01          NaN        0.0   \n",
       "41503      RUS    Europe   Russia  2020-01-02          NaN        0.0   \n",
       "41504      RUS    Europe   Russia  2020-01-03          NaN        0.0   \n",
       "41505      RUS    Europe   Russia  2020-01-04          NaN        0.0   \n",
       "...        ...       ...      ...         ...          ...        ...   \n",
       "41812      RUS    Europe   Russia  2020-11-06    1712858.0    19404.0   \n",
       "41813      RUS    Europe   Russia  2020-11-07    1733440.0    20582.0   \n",
       "41814      RUS    Europe   Russia  2020-11-08    1753836.0    20396.0   \n",
       "41815      RUS    Europe   Russia  2020-11-09    1774334.0    20498.0   \n",
       "41816      RUS    Europe   Russia  2020-11-10    1796132.0    21798.0   \n",
       "\n",
       "       new_cases_smoothed  total_deaths  new_deaths  new_deaths_smoothed  ...  \\\n",
       "41501                 NaN           NaN         0.0                  NaN  ...   \n",
       "41502                 NaN           NaN         0.0                  NaN  ...   \n",
       "41503                 NaN           NaN         0.0                  NaN  ...   \n",
       "41504                 NaN           NaN         0.0                  NaN  ...   \n",
       "41505                 NaN           NaN         0.0                  NaN  ...   \n",
       "...                   ...           ...         ...                  ...  ...   \n",
       "41812           18737.857       29509.0       292.0              315.429  ...   \n",
       "41813           19066.286       29887.0       378.0              318.714  ...   \n",
       "41814           19388.571       30251.0       364.0              323.000  ...   \n",
       "41815           19650.429       30537.0       286.0              328.857  ...   \n",
       "41816           20156.286       30793.0       256.0              331.429  ...   \n",
       "\n",
       "       gdp_per_capita  extreme_poverty  cardiovasc_death_rate  \\\n",
       "41501       24765.954              0.1                431.297   \n",
       "41502       24765.954              0.1                431.297   \n",
       "41503       24765.954              0.1                431.297   \n",
       "41504       24765.954              0.1                431.297   \n",
       "41505       24765.954              0.1                431.297   \n",
       "...               ...              ...                    ...   \n",
       "41812       24765.954              0.1                431.297   \n",
       "41813       24765.954              0.1                431.297   \n",
       "41814       24765.954              0.1                431.297   \n",
       "41815       24765.954              0.1                431.297   \n",
       "41816       24765.954              0.1                431.297   \n",
       "\n",
       "       diabetes_prevalence  female_smokers  male_smokers  \\\n",
       "41501                 6.18            23.4          58.3   \n",
       "41502                 6.18            23.4          58.3   \n",
       "41503                 6.18            23.4          58.3   \n",
       "41504                 6.18            23.4          58.3   \n",
       "41505                 6.18            23.4          58.3   \n",
       "...                    ...             ...           ...   \n",
       "41812                 6.18            23.4          58.3   \n",
       "41813                 6.18            23.4          58.3   \n",
       "41814                 6.18            23.4          58.3   \n",
       "41815                 6.18            23.4          58.3   \n",
       "41816                 6.18            23.4          58.3   \n",
       "\n",
       "       handwashing_facilities  hospital_beds_per_thousand  life_expectancy  \\\n",
       "41501                     NaN                        8.05            72.58   \n",
       "41502                     NaN                        8.05            72.58   \n",
       "41503                     NaN                        8.05            72.58   \n",
       "41504                     NaN                        8.05            72.58   \n",
       "41505                     NaN                        8.05            72.58   \n",
       "...                       ...                         ...              ...   \n",
       "41812                     NaN                        8.05            72.58   \n",
       "41813                     NaN                        8.05            72.58   \n",
       "41814                     NaN                        8.05            72.58   \n",
       "41815                     NaN                        8.05            72.58   \n",
       "41816                     NaN                        8.05            72.58   \n",
       "\n",
       "       human_development_index  \n",
       "41501                    0.816  \n",
       "41502                    0.816  \n",
       "41503                    0.816  \n",
       "41504                    0.816  \n",
       "41505                    0.816  \n",
       "...                        ...  \n",
       "41812                    0.816  \n",
       "41813                    0.816  \n",
       "41814                    0.816  \n",
       "41815                    0.816  \n",
       "41816                    0.816  \n",
       "\n",
       "[316 rows x 49 columns]"
      ]
     },
     "execution_count": 119,
     "metadata": {},
     "output_type": "execute_result"
    }
   ],
   "source": [
    "df[df['location'] == 'Russia']"
   ]
  },
  {
   "cell_type": "code",
   "execution_count": 130,
   "metadata": {},
   "outputs": [],
   "source": [
    "russia_df = df[(df['location'] == 'Russia') & (df['date'] >= '2020-09-01')]"
   ]
  },
  {
   "cell_type": "code",
   "execution_count": 132,
   "metadata": {},
   "outputs": [
    {
     "data": {
      "text/plain": [
       "[<matplotlib.lines.Line2D at 0xe01b8b0>]"
      ]
     },
     "execution_count": 132,
     "metadata": {},
     "output_type": "execute_result"
    },
    {
     "data": {
      "image/png": "[encoded data removed]",
      "text/plain": [
       "<Figure size 432x288 with 1 Axes>"
      ]
     },
     "metadata": {
      "needs_background": "light"
     },
     "output_type": "display_data"
    }
   ],
   "source": [
    "plt.plot(np.arange(russia_df.shape[0]), russia_df['new_cases'])\n",
    "plt.plot(np.arange(russia_df.shape[0]), russia_df['new_cases_smoothed'])\n"
   ]
  },
  {
   "cell_type": "code",
   "execution_count": 128,
   "metadata": {},
   "outputs": [
    {
     "data": {
      "text/plain": [
       "(316, 49)"
      ]
     },
     "execution_count": 128,
     "metadata": {},
     "output_type": "execute_result"
    }
   ],
   "source": [
    "russia_df.shape"
   ]
  },
  {
   "cell_type": "code",
   "execution_count": 136,
   "metadata": {},
   "outputs": [],
   "source": [
    "russia_df = df[(df['location'] == 'Russia') & (df['date'] >= '2020-06-01') & (df['date'] < '2020-06-30')]"
   ]
  },
  {
   "cell_type": "code",
   "execution_count": 137,
   "metadata": {},
   "outputs": [
    {
     "data": {
      "text/plain": [
       "[<matplotlib.lines.Line2D at 0xdf79c40>]"
      ]
     },
     "execution_count": 137,
     "metadata": {},
     "output_type": "execute_result"
    },
    {
     "data": {
      "image/png": "[encoded data removed]",
      "text/plain": [
       "<Figure size 432x288 with 1 Axes>"
      ]
     },
     "metadata": {
      "needs_background": "light"
     },
     "output_type": "display_data"
    }
   ],
   "source": [
    "plt.plot(np.arange(russia_df.shape[0]), russia_df['new_cases'])\n",
    "plt.plot(np.arange(russia_df.shape[0]), russia_df['new_cases_smoothed'])\n"
   ]
  },
  {
   "cell_type": "code",
   "execution_count": 146,
   "metadata": {},
   "outputs": [
    {
     "ename": "ConversionError",
     "evalue": "Failed to convert value(s) to axis units: 41501    2019-12-31\n41502    2020-01-01\n41503    2020-01-02\n41504    2020-01-03\n41505    2020-01-04\n            ...    \n41812    2020-11-06\n41813    2020-11-07\n41814    2020-11-08\n41815    2020-11-09\n41816    2020-11-10\nName: date, Length: 316, dtype: object",
     "output_type": "error",
     "traceback": [
      "\u001b[1;31m---------------------------------------------------------------------------\u001b[0m",
      "\u001b[1;31mValueError\u001b[0m                                Traceback (most recent call last)",
      "\u001b[1;32m~\\anaconda4\\lib\\site-packages\\matplotlib\\axis.py\u001b[0m in \u001b[0;36mconvert_units\u001b[1;34m(self, x)\u001b[0m\n\u001b[0;32m   1572\u001b[0m         \u001b[1;32mtry\u001b[0m\u001b[1;33m:\u001b[0m\u001b[1;33m\u001b[0m\u001b[1;33m\u001b[0m\u001b[0m\n\u001b[1;32m-> 1573\u001b[1;33m             \u001b[0mret\u001b[0m \u001b[1;33m=\u001b[0m \u001b[0mself\u001b[0m\u001b[1;33m.\u001b[0m\u001b[0mconverter\u001b[0m\u001b[1;33m.\u001b[0m\u001b[0mconvert\u001b[0m\u001b[1;33m(\u001b[0m\u001b[0mx\u001b[0m\u001b[1;33m,\u001b[0m \u001b[0mself\u001b[0m\u001b[1;33m.\u001b[0m\u001b[0munits\u001b[0m\u001b[1;33m,\u001b[0m \u001b[0mself\u001b[0m\u001b[1;33m)\u001b[0m\u001b[1;33m\u001b[0m\u001b[1;33m\u001b[0m\u001b[0m\n\u001b[0m\u001b[0;32m   1574\u001b[0m         \u001b[1;32mexcept\u001b[0m \u001b[0mException\u001b[0m \u001b[1;32mas\u001b[0m \u001b[0me\u001b[0m\u001b[1;33m:\u001b[0m\u001b[1;33m\u001b[0m\u001b[1;33m\u001b[0m\u001b[0m\n",
      "\u001b[1;32m~\\anaconda4\\lib\\site-packages\\matplotlib\\category.py\u001b[0m in \u001b[0;36mconvert\u001b[1;34m(value, unit, axis)\u001b[0m\n\u001b[0;32m     48\u001b[0m         \u001b[1;32mif\u001b[0m \u001b[0munit\u001b[0m \u001b[1;32mis\u001b[0m \u001b[1;32mNone\u001b[0m\u001b[1;33m:\u001b[0m\u001b[1;33m\u001b[0m\u001b[1;33m\u001b[0m\u001b[0m\n\u001b[1;32m---> 49\u001b[1;33m             raise ValueError(\n\u001b[0m\u001b[0;32m     50\u001b[0m                 \u001b[1;34m'Missing category information for StrCategoryConverter; '\u001b[0m\u001b[1;33m\u001b[0m\u001b[1;33m\u001b[0m\u001b[0m\n",
      "\u001b[1;31mValueError\u001b[0m: Missing category information for StrCategoryConverter; this might be caused by unintendedly mixing categorical and numeric data",
      "\nThe above exception was the direct cause of the following exception:\n",
      "\u001b[1;31mConversionError\u001b[0m                           Traceback (most recent call last)",
      "\u001b[1;32m<ipython-input-146-ee03f70c2cec>\u001b[0m in \u001b[0;36m<module>\u001b[1;34m\u001b[0m\n\u001b[0;32m      2\u001b[0m \u001b[0mplt\u001b[0m\u001b[1;33m.\u001b[0m\u001b[0mplot\u001b[0m\u001b[1;33m(\u001b[0m\u001b[0mnp\u001b[0m\u001b[1;33m.\u001b[0m\u001b[0marange\u001b[0m\u001b[1;33m(\u001b[0m\u001b[0mrussia_df\u001b[0m\u001b[1;33m.\u001b[0m\u001b[0mshape\u001b[0m\u001b[1;33m[\u001b[0m\u001b[1;36m0\u001b[0m\u001b[1;33m]\u001b[0m\u001b[1;33m)\u001b[0m\u001b[1;33m,\u001b[0m \u001b[0mrussia_df\u001b[0m\u001b[1;33m[\u001b[0m\u001b[1;34m'new_cases'\u001b[0m\u001b[1;33m]\u001b[0m\u001b[1;33m)\u001b[0m\u001b[1;33m\u001b[0m\u001b[1;33m\u001b[0m\u001b[0m\n\u001b[0;32m      3\u001b[0m \u001b[0mplt\u001b[0m\u001b[1;33m.\u001b[0m\u001b[0mplot\u001b[0m\u001b[1;33m(\u001b[0m\u001b[0mnp\u001b[0m\u001b[1;33m.\u001b[0m\u001b[0marange\u001b[0m\u001b[1;33m(\u001b[0m\u001b[0mrussia_df\u001b[0m\u001b[1;33m.\u001b[0m\u001b[0mshape\u001b[0m\u001b[1;33m[\u001b[0m\u001b[1;36m0\u001b[0m\u001b[1;33m]\u001b[0m\u001b[1;33m)\u001b[0m\u001b[1;33m,\u001b[0m \u001b[0mrussia_df\u001b[0m\u001b[1;33m[\u001b[0m\u001b[1;34m'new_cases_smoothed'\u001b[0m\u001b[1;33m]\u001b[0m\u001b[1;33m)\u001b[0m\u001b[1;33m\u001b[0m\u001b[1;33m\u001b[0m\u001b[0m\n\u001b[1;32m----> 4\u001b[1;33m \u001b[0mplt\u001b[0m\u001b[1;33m.\u001b[0m\u001b[0mxticks\u001b[0m\u001b[1;33m(\u001b[0m\u001b[0mrussia_df\u001b[0m\u001b[1;33m[\u001b[0m\u001b[1;34m'date'\u001b[0m\u001b[1;33m]\u001b[0m\u001b[1;33m,\u001b[0m \u001b[0mrotation\u001b[0m\u001b[1;33m=\u001b[0m\u001b[1;34m'vertical'\u001b[0m\u001b[1;33m)\u001b[0m\u001b[1;33m\u001b[0m\u001b[1;33m\u001b[0m\u001b[0m\n\u001b[0m",
      "\u001b[1;32m~\\anaconda4\\lib\\site-packages\\matplotlib\\pyplot.py\u001b[0m in \u001b[0;36mxticks\u001b[1;34m(ticks, labels, **kwargs)\u001b[0m\n\u001b[0;32m   1481\u001b[0m         \u001b[0mlabels\u001b[0m \u001b[1;33m=\u001b[0m \u001b[0max\u001b[0m\u001b[1;33m.\u001b[0m\u001b[0mget_xticklabels\u001b[0m\u001b[1;33m(\u001b[0m\u001b[1;33m)\u001b[0m\u001b[1;33m\u001b[0m\u001b[1;33m\u001b[0m\u001b[0m\n\u001b[0;32m   1482\u001b[0m     \u001b[1;32melif\u001b[0m \u001b[0mlabels\u001b[0m \u001b[1;32mis\u001b[0m \u001b[1;32mNone\u001b[0m\u001b[1;33m:\u001b[0m\u001b[1;33m\u001b[0m\u001b[1;33m\u001b[0m\u001b[0m\n\u001b[1;32m-> 1483\u001b[1;33m         \u001b[0mlocs\u001b[0m \u001b[1;33m=\u001b[0m \u001b[0max\u001b[0m\u001b[1;33m.\u001b[0m\u001b[0mset_xticks\u001b[0m\u001b[1;33m(\u001b[0m\u001b[0mticks\u001b[0m\u001b[1;33m)\u001b[0m\u001b[1;33m\u001b[0m\u001b[1;33m\u001b[0m\u001b[0m\n\u001b[0m\u001b[0;32m   1484\u001b[0m         \u001b[0mlabels\u001b[0m \u001b[1;33m=\u001b[0m \u001b[0max\u001b[0m\u001b[1;33m.\u001b[0m\u001b[0mget_xticklabels\u001b[0m\u001b[1;33m(\u001b[0m\u001b[1;33m)\u001b[0m\u001b[1;33m\u001b[0m\u001b[1;33m\u001b[0m\u001b[0m\n\u001b[0;32m   1485\u001b[0m     \u001b[1;32melse\u001b[0m\u001b[1;33m:\u001b[0m\u001b[1;33m\u001b[0m\u001b[1;33m\u001b[0m\u001b[0m\n",
      "\u001b[1;32m~\\anaconda4\\lib\\site-packages\\matplotlib\\cbook\\deprecation.py\u001b[0m in \u001b[0;36mwrapper\u001b[1;34m(*args, **kwargs)\u001b[0m\n\u001b[0;32m    398\u001b[0m                 \u001b[1;34m\"parameter will become keyword-only %(removal)s.\"\u001b[0m\u001b[1;33m,\u001b[0m\u001b[1;33m\u001b[0m\u001b[1;33m\u001b[0m\u001b[0m\n\u001b[0;32m    399\u001b[0m                 name=name, obj_type=f\"parameter of {func.__name__}()\")\n\u001b[1;32m--> 400\u001b[1;33m         \u001b[1;32mreturn\u001b[0m \u001b[0mfunc\u001b[0m\u001b[1;33m(\u001b[0m\u001b[1;33m*\u001b[0m\u001b[0margs\u001b[0m\u001b[1;33m,\u001b[0m \u001b[1;33m**\u001b[0m\u001b[0mkwargs\u001b[0m\u001b[1;33m)\u001b[0m\u001b[1;33m\u001b[0m\u001b[1;33m\u001b[0m\u001b[0m\n\u001b[0m\u001b[0;32m    401\u001b[0m \u001b[1;33m\u001b[0m\u001b[0m\n\u001b[0;32m    402\u001b[0m     \u001b[1;32mreturn\u001b[0m \u001b[0mwrapper\u001b[0m\u001b[1;33m\u001b[0m\u001b[1;33m\u001b[0m\u001b[0m\n",
      "\u001b[1;32m~\\anaconda4\\lib\\site-packages\\matplotlib\\axes\\_base.py\u001b[0m in \u001b[0;36mset_xticks\u001b[1;34m(self, ticks, minor)\u001b[0m\n\u001b[0;32m   3307\u001b[0m             \u001b[0mDefault\u001b[0m \u001b[1;32mis\u001b[0m\u001b[0;31m \u001b[0m\u001b[0;31m`\u001b[0m\u001b[0;31m`\u001b[0m\u001b[1;32mFalse\u001b[0m\u001b[0;31m`\u001b[0m\u001b[0;31m`\u001b[0m\u001b[1;33m.\u001b[0m\u001b[1;33m\u001b[0m\u001b[1;33m\u001b[0m\u001b[0m\n\u001b[0;32m   3308\u001b[0m         \"\"\"\n\u001b[1;32m-> 3309\u001b[1;33m         \u001b[0mret\u001b[0m \u001b[1;33m=\u001b[0m \u001b[0mself\u001b[0m\u001b[1;33m.\u001b[0m\u001b[0mxaxis\u001b[0m\u001b[1;33m.\u001b[0m\u001b[0mset_ticks\u001b[0m\u001b[1;33m(\u001b[0m\u001b[0mticks\u001b[0m\u001b[1;33m,\u001b[0m \u001b[0mminor\u001b[0m\u001b[1;33m=\u001b[0m\u001b[0mminor\u001b[0m\u001b[1;33m)\u001b[0m\u001b[1;33m\u001b[0m\u001b[1;33m\u001b[0m\u001b[0m\n\u001b[0m\u001b[0;32m   3310\u001b[0m         \u001b[0mself\u001b[0m\u001b[1;33m.\u001b[0m\u001b[0mstale\u001b[0m \u001b[1;33m=\u001b[0m \u001b[1;32mTrue\u001b[0m\u001b[1;33m\u001b[0m\u001b[1;33m\u001b[0m\u001b[0m\n\u001b[0;32m   3311\u001b[0m         \u001b[1;32mreturn\u001b[0m \u001b[0mret\u001b[0m\u001b[1;33m\u001b[0m\u001b[1;33m\u001b[0m\u001b[0m\n",
      "\u001b[1;32m~\\anaconda4\\lib\\site-packages\\matplotlib\\cbook\\deprecation.py\u001b[0m in \u001b[0;36mwrapper\u001b[1;34m(*args, **kwargs)\u001b[0m\n\u001b[0;32m    398\u001b[0m                 \u001b[1;34m\"parameter will become keyword-only %(removal)s.\"\u001b[0m\u001b[1;33m,\u001b[0m\u001b[1;33m\u001b[0m\u001b[1;33m\u001b[0m\u001b[0m\n\u001b[0;32m    399\u001b[0m                 name=name, obj_type=f\"parameter of {func.__name__}()\")\n\u001b[1;32m--> 400\u001b[1;33m         \u001b[1;32mreturn\u001b[0m \u001b[0mfunc\u001b[0m\u001b[1;33m(\u001b[0m\u001b[1;33m*\u001b[0m\u001b[0margs\u001b[0m\u001b[1;33m,\u001b[0m \u001b[1;33m**\u001b[0m\u001b[0mkwargs\u001b[0m\u001b[1;33m)\u001b[0m\u001b[1;33m\u001b[0m\u001b[1;33m\u001b[0m\u001b[0m\n\u001b[0m\u001b[0;32m    401\u001b[0m \u001b[1;33m\u001b[0m\u001b[0m\n\u001b[0;32m    402\u001b[0m     \u001b[1;32mreturn\u001b[0m \u001b[0mwrapper\u001b[0m\u001b[1;33m\u001b[0m\u001b[1;33m\u001b[0m\u001b[0m\n",
      "\u001b[1;32m~\\anaconda4\\lib\\site-packages\\matplotlib\\axis.py\u001b[0m in \u001b[0;36mset_ticks\u001b[1;34m(self, ticks, minor)\u001b[0m\n\u001b[0;32m   1759\u001b[0m         \"\"\"\n\u001b[0;32m   1760\u001b[0m         \u001b[1;31m# XXX if the user changes units, the information will be lost here\u001b[0m\u001b[1;33m\u001b[0m\u001b[1;33m\u001b[0m\u001b[1;33m\u001b[0m\u001b[0m\n\u001b[1;32m-> 1761\u001b[1;33m         \u001b[0mticks\u001b[0m \u001b[1;33m=\u001b[0m \u001b[0mself\u001b[0m\u001b[1;33m.\u001b[0m\u001b[0mconvert_units\u001b[0m\u001b[1;33m(\u001b[0m\u001b[0mticks\u001b[0m\u001b[1;33m)\u001b[0m\u001b[1;33m\u001b[0m\u001b[1;33m\u001b[0m\u001b[0m\n\u001b[0m\u001b[0;32m   1762\u001b[0m         \u001b[1;32mif\u001b[0m \u001b[0mlen\u001b[0m\u001b[1;33m(\u001b[0m\u001b[0mticks\u001b[0m\u001b[1;33m)\u001b[0m \u001b[1;33m>\u001b[0m \u001b[1;36m1\u001b[0m\u001b[1;33m:\u001b[0m\u001b[1;33m\u001b[0m\u001b[1;33m\u001b[0m\u001b[0m\n\u001b[0;32m   1763\u001b[0m             \u001b[0mxleft\u001b[0m\u001b[1;33m,\u001b[0m \u001b[0mxright\u001b[0m \u001b[1;33m=\u001b[0m \u001b[0mself\u001b[0m\u001b[1;33m.\u001b[0m\u001b[0mget_view_interval\u001b[0m\u001b[1;33m(\u001b[0m\u001b[1;33m)\u001b[0m\u001b[1;33m\u001b[0m\u001b[1;33m\u001b[0m\u001b[0m\n",
      "\u001b[1;32m~\\anaconda4\\lib\\site-packages\\matplotlib\\axis.py\u001b[0m in \u001b[0;36mconvert_units\u001b[1;34m(self, x)\u001b[0m\n\u001b[0;32m   1573\u001b[0m             \u001b[0mret\u001b[0m \u001b[1;33m=\u001b[0m \u001b[0mself\u001b[0m\u001b[1;33m.\u001b[0m\u001b[0mconverter\u001b[0m\u001b[1;33m.\u001b[0m\u001b[0mconvert\u001b[0m\u001b[1;33m(\u001b[0m\u001b[0mx\u001b[0m\u001b[1;33m,\u001b[0m \u001b[0mself\u001b[0m\u001b[1;33m.\u001b[0m\u001b[0munits\u001b[0m\u001b[1;33m,\u001b[0m \u001b[0mself\u001b[0m\u001b[1;33m)\u001b[0m\u001b[1;33m\u001b[0m\u001b[1;33m\u001b[0m\u001b[0m\n\u001b[0;32m   1574\u001b[0m         \u001b[1;32mexcept\u001b[0m \u001b[0mException\u001b[0m \u001b[1;32mas\u001b[0m \u001b[0me\u001b[0m\u001b[1;33m:\u001b[0m\u001b[1;33m\u001b[0m\u001b[1;33m\u001b[0m\u001b[0m\n\u001b[1;32m-> 1575\u001b[1;33m             raise munits.ConversionError('Failed to convert value(s) to axis '\n\u001b[0m\u001b[0;32m   1576\u001b[0m                                          f'units: {x!r}') from e\n\u001b[0;32m   1577\u001b[0m         \u001b[1;32mreturn\u001b[0m \u001b[0mret\u001b[0m\u001b[1;33m\u001b[0m\u001b[1;33m\u001b[0m\u001b[0m\n",
      "\u001b[1;31mConversionError\u001b[0m: Failed to convert value(s) to axis units: 41501    2019-12-31\n41502    2020-01-01\n41503    2020-01-02\n41504    2020-01-03\n41505    2020-01-04\n            ...    \n41812    2020-11-06\n41813    2020-11-07\n41814    2020-11-08\n41815    2020-11-09\n41816    2020-11-10\nName: date, Length: 316, dtype: object"
     ]
    },
    {
     "data": {
      "image/png": "[encoded data removed]",
      "text/plain": [
       "<Figure size 432x288 with 1 Axes>"
      ]
     },
     "metadata": {
      "needs_background": "light"
     },
     "output_type": "display_data"
    }
   ],
   "source": [
    "russia_df = df[(df['location'] == 'Russia')]\n",
    "plt.plot(np.arange(russia_df.shape[0]), russia_df['new_cases'])\n",
    "plt.plot(np.arange(russia_df.shape[0]), russia_df['new_cases_smoothed'])\n",
    "plt.xticks(russia_df['date'], rotation='vertical')"
   ]
  },
  {
   "cell_type": "code",
   "execution_count": 142,
   "metadata": {},
   "outputs": [],
   "source": [
    "belarus_df = df[(df['location'] == 'Belarus') & (df['date'] >= '2020-06-01') & (df['date'] < '2020-06-30')]"
   ]
  },
  {
   "cell_type": "code",
   "execution_count": 143,
   "metadata": {},
   "outputs": [
    {
     "data": {
      "text/plain": [
       "[<matplotlib.lines.Line2D at 0xe106a00>]"
      ]
     },
     "execution_count": 143,
     "metadata": {},
     "output_type": "execute_result"
    },
    {
     "data": {
      "image/png": "[encoded data removed]",
      "text/plain": [
       "<Figure size 432x288 with 1 Axes>"
      ]
     },
     "metadata": {
      "needs_background": "light"
     },
     "output_type": "display_data"
    }
   ],
   "source": [
    "plt.plot(np.arange(belarus_df.shape[0]), belarus_df['new_cases'])\n",
    "plt.plot(np.arange(belarus_df.shape[0]), belarus_df['new_cases_smoothed'])"
   ]
  },
  {
   "cell_type": "code",
   "execution_count": 144,
   "metadata": {},
   "outputs": [
    {
     "data": {
      "text/html": [
       "<div>\n",
       "<style scoped>\n",
       "    .dataframe tbody tr th:only-of-type {\n",
       "        vertical-align: middle;\n",
       "    }\n",
       "\n",
       "    .dataframe tbody tr th {\n",
       "        vertical-align: top;\n",
       "    }\n",
       "\n",
       "    .dataframe thead th {\n",
       "        text-align: right;\n",
       "    }\n",
       "</style>\n",
       "<table border=\"1\" class=\"dataframe\">\n",
       "  <thead>\n",
       "    <tr style=\"text-align: right;\">\n",
       "      <th></th>\n",
       "      <th>total_cases</th>\n",
       "      <th>new_cases</th>\n",
       "      <th>new_cases_smoothed</th>\n",
       "      <th>total_deaths</th>\n",
       "      <th>new_deaths</th>\n",
       "      <th>new_deaths_smoothed</th>\n",
       "      <th>total_cases_per_million</th>\n",
       "      <th>new_cases_per_million</th>\n",
       "      <th>new_cases_smoothed_per_million</th>\n",
       "      <th>total_deaths_per_million</th>\n",
       "      <th>...</th>\n",
       "      <th>gdp_per_capita</th>\n",
       "      <th>extreme_poverty</th>\n",
       "      <th>cardiovasc_death_rate</th>\n",
       "      <th>diabetes_prevalence</th>\n",
       "      <th>female_smokers</th>\n",
       "      <th>male_smokers</th>\n",
       "      <th>handwashing_facilities</th>\n",
       "      <th>hospital_beds_per_thousand</th>\n",
       "      <th>life_expectancy</th>\n",
       "      <th>human_development_index</th>\n",
       "    </tr>\n",
       "  </thead>\n",
       "  <tbody>\n",
       "    <tr>\n",
       "      <th>count</th>\n",
       "      <td>29.000000</td>\n",
       "      <td>29.000000</td>\n",
       "      <td>29.000000</td>\n",
       "      <td>29.000000</td>\n",
       "      <td>29.000000</td>\n",
       "      <td>29.000000</td>\n",
       "      <td>29.000000</td>\n",
       "      <td>29.000000</td>\n",
       "      <td>29.000000</td>\n",
       "      <td>29.000000</td>\n",
       "      <td>...</td>\n",
       "      <td>29.000</td>\n",
       "      <td>0.0</td>\n",
       "      <td>2.900000e+01</td>\n",
       "      <td>2.900000e+01</td>\n",
       "      <td>29.0</td>\n",
       "      <td>2.900000e+01</td>\n",
       "      <td>0.0</td>\n",
       "      <td>29.0</td>\n",
       "      <td>2.900000e+01</td>\n",
       "      <td>29.000</td>\n",
       "    </tr>\n",
       "    <tr>\n",
       "      <th>mean</th>\n",
       "      <td>53294.000000</td>\n",
       "      <td>683.344828</td>\n",
       "      <td>736.369517</td>\n",
       "      <td>308.103448</td>\n",
       "      <td>5.310345</td>\n",
       "      <td>5.285655</td>\n",
       "      <td>5639.981966</td>\n",
       "      <td>72.316862</td>\n",
       "      <td>77.928310</td>\n",
       "      <td>32.605897</td>\n",
       "      <td>...</td>\n",
       "      <td>17167.967</td>\n",
       "      <td>NaN</td>\n",
       "      <td>4.431290e+02</td>\n",
       "      <td>5.180000e+00</td>\n",
       "      <td>10.5</td>\n",
       "      <td>4.610000e+01</td>\n",
       "      <td>NaN</td>\n",
       "      <td>11.0</td>\n",
       "      <td>7.479000e+01</td>\n",
       "      <td>0.808</td>\n",
       "    </tr>\n",
       "    <tr>\n",
       "      <th>std</th>\n",
       "      <td>5914.980479</td>\n",
       "      <td>175.450497</td>\n",
       "      <td>146.466220</td>\n",
       "      <td>45.768318</td>\n",
       "      <td>1.466372</td>\n",
       "      <td>0.310076</td>\n",
       "      <td>625.968819</td>\n",
       "      <td>18.567496</td>\n",
       "      <td>15.500147</td>\n",
       "      <td>4.843584</td>\n",
       "      <td>...</td>\n",
       "      <td>0.000</td>\n",
       "      <td>NaN</td>\n",
       "      <td>2.313983e-13</td>\n",
       "      <td>4.519498e-15</td>\n",
       "      <td>0.0</td>\n",
       "      <td>7.231197e-15</td>\n",
       "      <td>NaN</td>\n",
       "      <td>0.0</td>\n",
       "      <td>2.892479e-14</td>\n",
       "      <td>0.000</td>\n",
       "    </tr>\n",
       "    <tr>\n",
       "      <th>min</th>\n",
       "      <td>42556.000000</td>\n",
       "      <td>331.000000</td>\n",
       "      <td>424.286000</td>\n",
       "      <td>235.000000</td>\n",
       "      <td>2.000000</td>\n",
       "      <td>4.857000</td>\n",
       "      <td>4503.604000</td>\n",
       "      <td>35.029000</td>\n",
       "      <td>44.901000</td>\n",
       "      <td>24.870000</td>\n",
       "      <td>...</td>\n",
       "      <td>17167.967</td>\n",
       "      <td>NaN</td>\n",
       "      <td>4.431290e+02</td>\n",
       "      <td>5.180000e+00</td>\n",
       "      <td>10.5</td>\n",
       "      <td>4.610000e+01</td>\n",
       "      <td>NaN</td>\n",
       "      <td>11.0</td>\n",
       "      <td>7.479000e+01</td>\n",
       "      <td>0.808</td>\n",
       "    </tr>\n",
       "    <tr>\n",
       "      <th>25%</th>\n",
       "      <td>48630.000000</td>\n",
       "      <td>569.000000</td>\n",
       "      <td>647.429000</td>\n",
       "      <td>269.000000</td>\n",
       "      <td>5.000000</td>\n",
       "      <td>5.000000</td>\n",
       "      <td>5146.402000</td>\n",
       "      <td>60.216000</td>\n",
       "      <td>68.516000</td>\n",
       "      <td>28.468000</td>\n",
       "      <td>...</td>\n",
       "      <td>17167.967</td>\n",
       "      <td>NaN</td>\n",
       "      <td>4.431290e+02</td>\n",
       "      <td>5.180000e+00</td>\n",
       "      <td>10.5</td>\n",
       "      <td>4.610000e+01</td>\n",
       "      <td>NaN</td>\n",
       "      <td>11.0</td>\n",
       "      <td>7.479000e+01</td>\n",
       "      <td>0.808</td>\n",
       "    </tr>\n",
       "    <tr>\n",
       "      <th>50%</th>\n",
       "      <td>53973.000000</td>\n",
       "      <td>707.000000</td>\n",
       "      <td>763.286000</td>\n",
       "      <td>308.000000</td>\n",
       "      <td>5.000000</td>\n",
       "      <td>5.143000</td>\n",
       "      <td>5711.839000</td>\n",
       "      <td>74.820000</td>\n",
       "      <td>80.777000</td>\n",
       "      <td>32.595000</td>\n",
       "      <td>...</td>\n",
       "      <td>17167.967</td>\n",
       "      <td>NaN</td>\n",
       "      <td>4.431290e+02</td>\n",
       "      <td>5.180000e+00</td>\n",
       "      <td>10.5</td>\n",
       "      <td>4.610000e+01</td>\n",
       "      <td>NaN</td>\n",
       "      <td>11.0</td>\n",
       "      <td>7.479000e+01</td>\n",
       "      <td>0.808</td>\n",
       "    </tr>\n",
       "    <tr>\n",
       "      <th>75%</th>\n",
       "      <td>58505.000000</td>\n",
       "      <td>847.000000</td>\n",
       "      <td>867.714000</td>\n",
       "      <td>346.000000</td>\n",
       "      <td>6.000000</td>\n",
       "      <td>5.571000</td>\n",
       "      <td>6191.450000</td>\n",
       "      <td>89.636000</td>\n",
       "      <td>91.828000</td>\n",
       "      <td>36.616000</td>\n",
       "      <td>...</td>\n",
       "      <td>17167.967</td>\n",
       "      <td>NaN</td>\n",
       "      <td>4.431290e+02</td>\n",
       "      <td>5.180000e+00</td>\n",
       "      <td>10.5</td>\n",
       "      <td>4.610000e+01</td>\n",
       "      <td>NaN</td>\n",
       "      <td>11.0</td>\n",
       "      <td>7.479000e+01</td>\n",
       "      <td>0.808</td>\n",
       "    </tr>\n",
       "    <tr>\n",
       "      <th>max</th>\n",
       "      <td>61475.000000</td>\n",
       "      <td>898.000000</td>\n",
       "      <td>908.286000</td>\n",
       "      <td>383.000000</td>\n",
       "      <td>10.000000</td>\n",
       "      <td>5.714000</td>\n",
       "      <td>6505.758000</td>\n",
       "      <td>95.033000</td>\n",
       "      <td>96.122000</td>\n",
       "      <td>40.532000</td>\n",
       "      <td>...</td>\n",
       "      <td>17167.967</td>\n",
       "      <td>NaN</td>\n",
       "      <td>4.431290e+02</td>\n",
       "      <td>5.180000e+00</td>\n",
       "      <td>10.5</td>\n",
       "      <td>4.610000e+01</td>\n",
       "      <td>NaN</td>\n",
       "      <td>11.0</td>\n",
       "      <td>7.479000e+01</td>\n",
       "      <td>0.808</td>\n",
       "    </tr>\n",
       "  </tbody>\n",
       "</table>\n",
       "<p>8 rows × 44 columns</p>\n",
       "</div>"
      ],
      "text/plain": [
       "        total_cases   new_cases  new_cases_smoothed  total_deaths  new_deaths  \\\n",
       "count     29.000000   29.000000           29.000000     29.000000   29.000000   \n",
       "mean   53294.000000  683.344828          736.369517    308.103448    5.310345   \n",
       "std     5914.980479  175.450497          146.466220     45.768318    1.466372   \n",
       "min    42556.000000  331.000000          424.286000    235.000000    2.000000   \n",
       "25%    48630.000000  569.000000          647.429000    269.000000    5.000000   \n",
       "50%    53973.000000  707.000000          763.286000    308.000000    5.000000   \n",
       "75%    58505.000000  847.000000          867.714000    346.000000    6.000000   \n",
       "max    61475.000000  898.000000          908.286000    383.000000   10.000000   \n",
       "\n",
       "       new_deaths_smoothed  total_cases_per_million  new_cases_per_million  \\\n",
       "count            29.000000                29.000000              29.000000   \n",
       "mean              5.285655              5639.981966              72.316862   \n",
       "std               0.310076               625.968819              18.567496   \n",
       "min               4.857000              4503.604000              35.029000   \n",
       "25%               5.000000              5146.402000              60.216000   \n",
       "50%               5.143000              5711.839000              74.820000   \n",
       "75%               5.571000              6191.450000              89.636000   \n",
       "max               5.714000              6505.758000              95.033000   \n",
       "\n",
       "       new_cases_smoothed_per_million  total_deaths_per_million  ...  \\\n",
       "count                       29.000000                 29.000000  ...   \n",
       "mean                        77.928310                 32.605897  ...   \n",
       "std                         15.500147                  4.843584  ...   \n",
       "min                         44.901000                 24.870000  ...   \n",
       "25%                         68.516000                 28.468000  ...   \n",
       "50%                         80.777000                 32.595000  ...   \n",
       "75%                         91.828000                 36.616000  ...   \n",
       "max                         96.122000                 40.532000  ...   \n",
       "\n",
       "       gdp_per_capita  extreme_poverty  cardiovasc_death_rate  \\\n",
       "count          29.000              0.0           2.900000e+01   \n",
       "mean        17167.967              NaN           4.431290e+02   \n",
       "std             0.000              NaN           2.313983e-13   \n",
       "min         17167.967              NaN           4.431290e+02   \n",
       "25%         17167.967              NaN           4.431290e+02   \n",
       "50%         17167.967              NaN           4.431290e+02   \n",
       "75%         17167.967              NaN           4.431290e+02   \n",
       "max         17167.967              NaN           4.431290e+02   \n",
       "\n",
       "       diabetes_prevalence  female_smokers  male_smokers  \\\n",
       "count         2.900000e+01            29.0  2.900000e+01   \n",
       "mean          5.180000e+00            10.5  4.610000e+01   \n",
       "std           4.519498e-15             0.0  7.231197e-15   \n",
       "min           5.180000e+00            10.5  4.610000e+01   \n",
       "25%           5.180000e+00            10.5  4.610000e+01   \n",
       "50%           5.180000e+00            10.5  4.610000e+01   \n",
       "75%           5.180000e+00            10.5  4.610000e+01   \n",
       "max           5.180000e+00            10.5  4.610000e+01   \n",
       "\n",
       "       handwashing_facilities  hospital_beds_per_thousand  life_expectancy  \\\n",
       "count                     0.0                        29.0     2.900000e+01   \n",
       "mean                      NaN                        11.0     7.479000e+01   \n",
       "std                       NaN                         0.0     2.892479e-14   \n",
       "min                       NaN                        11.0     7.479000e+01   \n",
       "25%                       NaN                        11.0     7.479000e+01   \n",
       "50%                       NaN                        11.0     7.479000e+01   \n",
       "75%                       NaN                        11.0     7.479000e+01   \n",
       "max                       NaN                        11.0     7.479000e+01   \n",
       "\n",
       "       human_development_index  \n",
       "count                   29.000  \n",
       "mean                     0.808  \n",
       "std                      0.000  \n",
       "min                      0.808  \n",
       "25%                      0.808  \n",
       "50%                      0.808  \n",
       "75%                      0.808  \n",
       "max                      0.808  \n",
       "\n",
       "[8 rows x 44 columns]"
      ]
     },
     "execution_count": 144,
     "metadata": {},
     "output_type": "execute_result"
    }
   ],
   "source": [
    "belarus_df.describe()"
   ]
  },
  {
   "cell_type": "code",
   "execution_count": null,
   "metadata": {},
   "outputs": [],
   "source": []
  }
 ],
 "metadata": {
  "kernelspec": {
   "display_name": "Python 3",
   "language": "python",
   "name": "python3"
  },
  "language_info": {
   "codemirror_mode": {
    "name": "ipython",
    "version": 3
   },
   "file_extension": ".py",
   "mimetype": "text/x-python",
   "name": "python",
   "nbconvert_exporter": "python",
   "pygments_lexer": "ipython3",
   "version": "3.8.3"
  }
 },
 "nbformat": 4,
 "nbformat_minor": 4
}

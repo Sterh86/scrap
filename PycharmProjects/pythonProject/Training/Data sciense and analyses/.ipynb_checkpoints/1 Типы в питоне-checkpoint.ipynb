{
 "cells": [
  {
   "cell_type": "markdown",
   "metadata": {
    "id": "cnwuGGuwAKCH"
   },
   "source": [
    "# Типы данных"
   ]
  },
  {
   "cell_type": "markdown",
   "metadata": {
    "id": "zs1mQ3BwAKCK"
   },
   "source": [
    "- int\n",
    "- float\n",
    "- bool\n",
    "- str\n",
    "- Nonetype"
   ]
  },
  {
   "cell_type": "markdown",
   "metadata": {
    "id": "8xcvPMGWAKCL"
   },
   "source": [
    "## int"
   ]
  },
  {
   "cell_type": "code",
   "execution_count": null,
   "metadata": {
    "id": "VmA7Ol5hAKCV"
   },
   "outputs": [],
   "source": [
    "x = 1 # переменная"
   ]
  },
  {
   "cell_type": "code",
   "execution_count": null,
   "metadata": {
    "colab": {
     "base_uri": "https://localhost:8080/",
     "height": 34
    },
    "id": "bNYb0n6iAOtY",
    "outputId": "6d5ed3c1-4748-4909-a459-d33df41b8b5d"
   },
   "outputs": [],
   "source": [
    "print(x)"
   ]
  },
  {
   "cell_type": "code",
   "execution_count": null,
   "metadata": {
    "colab": {
     "base_uri": "https://localhost:8080/",
     "height": 34
    },
    "id": "h1edmyMLAR7G",
    "outputId": "651320da-2f7b-4a60-e80b-be17f772fa49"
   },
   "outputs": [],
   "source": [
    "print(type(x)) # напечатаем тип переменной"
   ]
  },
  {
   "cell_type": "code",
   "execution_count": null,
   "metadata": {
    "colab": {
     "base_uri": "https://localhost:8080/",
     "height": 70
    },
    "id": "_DCOGMd5AKCN",
    "outputId": "df391681-4c71-4adc-f5ee-83587818b1f9"
   },
   "outputs": [],
   "source": [
    "print(100, type(100))\n",
    "print(-1000, type(-1000))\n",
    "print(0, type(0))"
   ]
  },
  {
   "cell_type": "code",
   "execution_count": null,
   "metadata": {
    "colab": {
     "base_uri": "https://localhost:8080/",
     "height": 34
    },
    "id": "OsYj4X1sAKCb",
    "outputId": "928a06d7-e8fe-4e01-9b25-dccfe371bb93"
   },
   "outputs": [],
   "source": [
    "x = 100000000000000000000000000000000000000000000000000000000000000000000000000\n",
    "print(x, type(x))"
   ]
  },
  {
   "cell_type": "markdown",
   "metadata": {
    "id": "HejzeU7BAKCi"
   },
   "source": [
    "#### Тип **int** является аналогом множества целых чисел и ограничен только объемом локальной памяти компьютера"
   ]
  },
  {
   "cell_type": "code",
   "execution_count": null,
   "metadata": {
    "id": "WijZCMAtAKCj"
   },
   "outputs": [],
   "source": [
    "a = 70\n",
    "b = 36\n",
    "c = -11\n",
    "d = 6"
   ]
  },
  {
   "cell_type": "code",
   "execution_count": null,
   "metadata": {
    "colab": {
     "base_uri": "https://localhost:8080/",
     "height": 87
    },
    "id": "ypg6PGraAKCq",
    "outputId": "47307dbc-0b25-43bd-fa0e-248602e6da1c"
   },
   "outputs": [],
   "source": [
    "print(a + b, type(a + b))\n",
    "print(a - b, type(a - b))\n",
    "print(c * b, type(c * b))\n",
    "print(b / d, type(b / d)) # не int!"
   ]
  },
  {
   "cell_type": "code",
   "execution_count": null,
   "metadata": {
    "colab": {
     "base_uri": "https://localhost:8080/",
     "height": 52
    },
    "id": "2Qcp8mjeAKCx",
    "outputId": "3366e185-13d2-496f-d63f-489996b0c835"
   },
   "outputs": [],
   "source": [
    "print(a // b) # целочисленное деление \n",
    "print(a % b) # остаток от целочисленного деления"
   ]
  },
  {
   "cell_type": "code",
   "execution_count": null,
   "metadata": {
    "colab": {
     "base_uri": "https://localhost:8080/",
     "height": 34
    },
    "id": "V4mh-NyHAKC4",
    "outputId": "4bd16a59-abac-4723-8da5-5d59a178cfb2"
   },
   "outputs": [],
   "source": [
    "print(c % d) # остаток всегда не меньше нуля, поэтому аккуратнее с отрицательными числами"
   ]
  },
  {
   "cell_type": "code",
   "execution_count": null,
   "metadata": {
    "colab": {
     "base_uri": "https://localhost:8080/",
     "height": 52
    },
    "id": "XniEtMhBAKC-",
    "outputId": "cd447837-fbd5-4fd5-906a-ee9ed45ffa0e"
   },
   "outputs": [],
   "source": [
    "print(a ** 3) # возведение в степень\n",
    "print(a ** 0.5) # арифметический корень"
   ]
  },
  {
   "cell_type": "code",
   "execution_count": null,
   "metadata": {
    "id": "ZgwMXyckAKDF"
   },
   "outputs": [],
   "source": []
  },
  {
   "cell_type": "markdown",
   "metadata": {
    "id": "TBzox0oPAKDL"
   },
   "source": [
    "## float"
   ]
  },
  {
   "cell_type": "code",
   "execution_count": null,
   "metadata": {
    "colab": {
     "base_uri": "https://localhost:8080/",
     "height": 52
    },
    "id": "zVBRmJ_YAKDT",
    "outputId": "22d44719-6b7a-4aa5-a506-9f82bfd4e129"
   },
   "outputs": [],
   "source": [
    "y = 1.2\n",
    "print(y)\n",
    "print(type(y))"
   ]
  },
  {
   "cell_type": "code",
   "execution_count": null,
   "metadata": {
    "colab": {
     "base_uri": "https://localhost:8080/",
     "height": 70
    },
    "id": "kLOCW2yyAKDM",
    "outputId": "7491b3ff-e7b2-411e-8eee-472daac8222b",
    "scrolled": true
   },
   "outputs": [],
   "source": [
    "print(10.7)\n",
    "print(-1000.0)\n",
    "print(0.5)"
   ]
  },
  {
   "cell_type": "markdown",
   "metadata": {
    "id": "U7wNGeCYAKDd"
   },
   "source": [
    "#### Тип **float** является аналогом множества действительных чисел, ограничен точностью хранения"
   ]
  },
  {
   "cell_type": "code",
   "execution_count": null,
   "metadata": {
    "colab": {
     "base_uri": "https://localhost:8080/",
     "height": 140
    },
    "id": "Og58-514AKDe",
    "outputId": "33c59372-34f3-4016-9baf-6b448c910404"
   },
   "outputs": [],
   "source": [
    "a = 33.2\n",
    "b = 8.7\n",
    "\n",
    "print(a + b)\n",
    "print(a - b)\n",
    "print(a * b)\n",
    "print(a / b) \n",
    "print(a // b) \n",
    "print(a % b)\n",
    "print(a ** b)"
   ]
  },
  {
   "cell_type": "code",
   "execution_count": null,
   "metadata": {
    "id": "9AdGRYlDAKDj"
   },
   "outputs": [],
   "source": []
  },
  {
   "cell_type": "markdown",
   "metadata": {
    "id": "Y7nUXpZTAKDp"
   },
   "source": [
    "## str"
   ]
  },
  {
   "cell_type": "code",
   "execution_count": null,
   "metadata": {
    "id": "ir69XptGAKDq"
   },
   "outputs": [],
   "source": [
    "s = 'abra'\n",
    "t = \"cadabra\""
   ]
  },
  {
   "cell_type": "code",
   "execution_count": null,
   "metadata": {
    "colab": {
     "base_uri": "https://localhost:8080/",
     "height": 52
    },
    "id": "I_76cgxhWbHn",
    "outputId": "c6d59095-461d-468f-c234-f759647f248e"
   },
   "outputs": [],
   "source": [
    "print(s, type(s))\n",
    "print(t, type(t))"
   ]
  },
  {
   "cell_type": "code",
   "execution_count": null,
   "metadata": {
    "colab": {
     "base_uri": "https://localhost:8080/",
     "height": 34
    },
    "id": "jANuOMeBAKDw",
    "outputId": "ca695736-4f87-489e-d359-cc6ca2058e7f"
   },
   "outputs": [],
   "source": [
    "print(s + t) # конкатенация"
   ]
  },
  {
   "cell_type": "code",
   "execution_count": null,
   "metadata": {
    "colab": {
     "base_uri": "https://localhost:8080/",
     "height": 34
    },
    "id": "EQVdxvSoWjXh",
    "outputId": "f6dda5ef-a819-4b34-8621-22fbfd29e333"
   },
   "outputs": [],
   "source": [
    "print(t + s)"
   ]
  },
  {
   "cell_type": "code",
   "execution_count": null,
   "metadata": {
    "colab": {
     "base_uri": "https://localhost:8080/",
     "height": 52
    },
    "id": "c8jA99yEAKD1",
    "outputId": "79083d97-b597-4099-d3f1-4614aa8f6280"
   },
   "outputs": [],
   "source": [
    "print(s * 2)\n",
    "print(s * 3)"
   ]
  },
  {
   "cell_type": "code",
   "execution_count": null,
   "metadata": {
    "id": "yOeZFHTtAKD8"
   },
   "outputs": [],
   "source": []
  },
  {
   "cell_type": "markdown",
   "metadata": {
    "id": "0B1Rcpe0AKEE"
   },
   "source": [
    "## Логический тип"
   ]
  },
  {
   "cell_type": "code",
   "execution_count": null,
   "metadata": {
    "id": "GIAH6ikTAKEF"
   },
   "outputs": [],
   "source": [
    "x = False # Ложь / 0\n",
    "y = True # Истина / 1"
   ]
  },
  {
   "cell_type": "code",
   "execution_count": null,
   "metadata": {
    "colab": {
     "base_uri": "https://localhost:8080/",
     "height": 52
    },
    "id": "hCkZFCMzAKEL",
    "outputId": "879cb11a-6c51-4f01-d1b1-08921ef6c415"
   },
   "outputs": [],
   "source": [
    "print(x, type(x))\n",
    "print(y, type(y))"
   ]
  },
  {
   "cell_type": "markdown",
   "metadata": {
    "id": "7GS9U8nWAKES"
   },
   "source": [
    "#### Логический тип принимает два значения. Является например результатом арифметических сравнений   "
   ]
  },
  {
   "cell_type": "code",
   "execution_count": null,
   "metadata": {
    "colab": {
     "base_uri": "https://localhost:8080/",
     "height": 87
    },
    "id": "8h-AfU_xAKET",
    "outputId": "8b9933a2-9fe6-4a6e-e4ad-41abf4f9f33c"
   },
   "outputs": [],
   "source": [
    "print(3 > 4) \n",
    "print(3 <= 3) # меньше либо равно\n",
    "print(6 >= 6) # больше либо равно\n",
    "print(6 < 5)"
   ]
  },
  {
   "cell_type": "code",
   "execution_count": null,
   "metadata": {
    "id": "PsPUFs3IAKEY"
   },
   "outputs": [],
   "source": [
    "x and y # логическое и\n",
    "x or y # логическое или\n",
    "not y # логическое отрицание"
   ]
  },
  {
   "cell_type": "markdown",
   "metadata": {
    "id": "D2R_cr6tNVpP"
   },
   "source": [
    "![alt text](https://drive.google.com/uc?id=172Xj_ec8iI4hI-5mLdaubBBx-v5hMoVV)"
   ]
  },
  {
   "cell_type": "markdown",
   "metadata": {
    "id": "AXd7kYucAKEd"
   },
   "source": [
    "<img src='images/table.jpg' width=400 />\n"
   ]
  },
  {
   "cell_type": "code",
   "execution_count": null,
   "metadata": {
    "colab": {
     "base_uri": "https://localhost:8080/",
     "height": 70
    },
    "id": "BMktMPaUAKEe",
    "outputId": "93000f49-b002-4e83-d322-8e8da8c1fad7"
   },
   "outputs": [],
   "source": [
    "print(2 > 5 and -5 < 10)\n",
    "print(0 >= 2 or 4 <= 9)\n",
    "print(not 3 > -2)"
   ]
  },
  {
   "cell_type": "code",
   "execution_count": null,
   "metadata": {
    "colab": {
     "base_uri": "https://localhost:8080/",
     "height": 132
    },
    "id": "Msfqq5uNAKEj",
    "outputId": "be8f133f-800c-4d27-a0fb-224e9eb69d8c"
   },
   "outputs": [],
   "source": [
    "print(2 + 2 = 5)"
   ]
  },
  {
   "cell_type": "code",
   "execution_count": null,
   "metadata": {
    "colab": {
     "base_uri": "https://localhost:8080/",
     "height": 52
    },
    "id": "KnlOwpLKAKE0",
    "outputId": "9b334159-998b-42b3-9c3c-cb3bee4132c0"
   },
   "outputs": [],
   "source": [
    "print(2 + 2 == 4)\n",
    "print(2 + 2 != 5) # не равно"
   ]
  },
  {
   "cell_type": "code",
   "execution_count": null,
   "metadata": {
    "id": "W6F-rXvpAKE5"
   },
   "outputs": [],
   "source": []
  },
  {
   "cell_type": "markdown",
   "metadata": {
    "id": "nJRZaRG8AKFJ"
   },
   "source": [
    "## Приведение типов"
   ]
  },
  {
   "cell_type": "code",
   "execution_count": null,
   "metadata": {
    "id": "TEIK2zSbAKFK"
   },
   "outputs": [],
   "source": [
    "a = 6.4\n",
    "b = 10\n",
    "c = \"13\"\n",
    "d = \"12.9\""
   ]
  },
  {
   "cell_type": "code",
   "execution_count": null,
   "metadata": {
    "colab": {
     "base_uri": "https://localhost:8080/",
     "height": 87
    },
    "id": "8V5X32JpAKFN",
    "outputId": "957fe3ac-6fbf-4845-f683-5cd03032af71"
   },
   "outputs": [],
   "source": [
    "print(float(a), type(float(a)))\n",
    "print(float(b), type(float(b)))\n",
    "print(float(c), type(float(c)))\n",
    "print(float(d), type(float(d)))"
   ]
  },
  {
   "cell_type": "code",
   "execution_count": null,
   "metadata": {
    "colab": {
     "base_uri": "https://localhost:8080/",
     "height": 87
    },
    "id": "j3auu85NAKFR",
    "outputId": "dc8ce23f-3278-4859-d9c0-6c8bfd045bdf"
   },
   "outputs": [],
   "source": [
    "print(str(a), type(str(a)))\n",
    "print(str(b), type(str(b)))\n",
    "print(str(c), type(str(c)))\n",
    "print(str(d), type(str(d)))"
   ]
  },
  {
   "cell_type": "code",
   "execution_count": null,
   "metadata": {
    "colab": {
     "base_uri": "https://localhost:8080/",
     "height": 255
    },
    "id": "twIy5khNAKFT",
    "outputId": "4968b093-0cb1-4742-ca36-a90217bf4262"
   },
   "outputs": [],
   "source": [
    "print(int(a), type(int(a))) # отбрасывается часть после точки\n",
    "print(int(b), type(int(b)))\n",
    "print(int(c), type(int(c)))\n",
    "print(int(d), type(int(d))) # ошибка"
   ]
  },
  {
   "cell_type": "code",
   "execution_count": null,
   "metadata": {
    "colab": {
     "base_uri": "https://localhost:8080/",
     "height": 34
    },
    "id": "kxMbSM08AKFW",
    "outputId": "3c5c36ea-ca70-4744-d8d2-55f12063b322"
   },
   "outputs": [],
   "source": [
    "print(int(float(d))) "
   ]
  },
  {
   "cell_type": "markdown",
   "metadata": {
    "id": "PAPUGTcbAKFb"
   },
   "source": [
    "### Приведение к bool"
   ]
  },
  {
   "cell_type": "code",
   "execution_count": null,
   "metadata": {
    "id": "d0YYEa6hAKFc"
   },
   "outputs": [],
   "source": [
    "a = 6.4\n",
    "b = -10\n",
    "c = 0\n",
    "d = 0.0"
   ]
  },
  {
   "cell_type": "code",
   "execution_count": null,
   "metadata": {
    "colab": {
     "base_uri": "https://localhost:8080/",
     "height": 84
    },
    "id": "XxW6uRB3AKFe",
    "outputId": "665937ac-6239-4296-b278-d0bca077466f"
   },
   "outputs": [],
   "source": [
    "print(bool(a))\n",
    "print(bool(b))\n",
    "print(bool(c))\n",
    "print(bool(d))"
   ]
  },
  {
   "cell_type": "code",
   "execution_count": null,
   "metadata": {
    "colab": {
     "base_uri": "https://localhost:8080/",
     "height": 50
    },
    "id": "SVIUEkH9AKFg",
    "outputId": "b1b8716c-cc6f-4d3f-9e73-8d5d5044ad78"
   },
   "outputs": [],
   "source": [
    "print(bool(a or c) == True)\n",
    "print(bool(c and d) == True)"
   ]
  },
  {
   "cell_type": "code",
   "execution_count": null,
   "metadata": {
    "id": "QgGH30S3AKFi"
   },
   "outputs": [],
   "source": [
    "s = 'aaa'\n",
    "empty_s = ''"
   ]
  },
  {
   "cell_type": "code",
   "execution_count": null,
   "metadata": {
    "colab": {
     "base_uri": "https://localhost:8080/",
     "height": 50
    },
    "id": "wUVAl7rFAKFk",
    "outputId": "14a86e87-f563-4b53-b0f7-4014dcdfd336"
   },
   "outputs": [],
   "source": [
    "print(bool(s))\n",
    "print(bool(empty_s))"
   ]
  },
  {
   "cell_type": "code",
   "execution_count": null,
   "metadata": {
    "id": "NhKxYgkzAKFm"
   },
   "outputs": [],
   "source": []
  },
  {
   "cell_type": "markdown",
   "metadata": {
    "id": "plTbtjptAKFo"
   },
   "source": [
    "### Комментарии и переменные"
   ]
  },
  {
   "cell_type": "code",
   "execution_count": null,
   "metadata": {
    "id": "T8Vg4OYoAKFo"
   },
   "outputs": [],
   "source": [
    "n = 'Alex' # короткое название переменной\n",
    "first_name = 'Alexander'\n",
    "_name = 'Alexis'"
   ]
  },
  {
   "cell_type": "code",
   "execution_count": null,
   "metadata": {
    "id": "aSYmqw7mEmKf"
   },
   "outputs": [],
   "source": [
    "4name = 'Max'"
   ]
  },
  {
   "cell_type": "code",
   "execution_count": null,
   "metadata": {
    "id": "3V8IgNbAAKFq"
   },
   "outputs": [],
   "source": [
    "-a = 4"
   ]
  },
  {
   "cell_type": "code",
   "execution_count": null,
   "metadata": {
    "id": "yACk4wWLAKFt"
   },
   "outputs": [],
   "source": [
    "middle name = 'Nikolaevich'"
   ]
  },
  {
   "cell_type": "code",
   "execution_count": null,
   "metadata": {
    "id": "lmC9h4d6AKFv"
   },
   "outputs": [],
   "source": [
    "это_переменная = 7\n",
    "φ = 3.19"
   ]
  },
  {
   "cell_type": "code",
   "execution_count": null,
   "metadata": {
    "id": "3nrOV3DxAKFy"
   },
   "outputs": [],
   "source": [
    "''' \n",
    "Длинный комментарий\n",
    "большой\n",
    "текст\n",
    "'''\n",
    "\n",
    "# короткий комментарий\n",
    "\n",
    "print(278)"
   ]
  },
  {
   "cell_type": "code",
   "execution_count": null,
   "metadata": {
    "id": "kHAEPGR4AKF2"
   },
   "outputs": [],
   "source": []
  },
  {
   "cell_type": "markdown",
   "metadata": {
    "id": "w93EuUfaAKF5"
   },
   "source": [
    "## print"
   ]
  },
  {
   "cell_type": "markdown",
   "metadata": {
    "id": "a8maqtngAKF6"
   },
   "source": [
    "### Параметры print"
   ]
  },
  {
   "cell_type": "code",
   "execution_count": null,
   "metadata": {
    "colab": {
     "base_uri": "https://localhost:8080/",
     "height": 34
    },
    "id": "sANCbZ3dAKF6",
    "outputId": "85a15056-436e-46d7-e883-e5c1ae5da13a"
   },
   "outputs": [],
   "source": [
    "name_1 = 'Vova'\n",
    "surname_1 = 'Vladimirov'\n",
    "print(\"Hello\" + ' ' + name_1 + ' '  + surname_1 + '!')"
   ]
  },
  {
   "cell_type": "code",
   "execution_count": null,
   "metadata": {
    "colab": {
     "base_uri": "https://localhost:8080/",
     "height": 34
    },
    "id": "cPimwEPwAKF-",
    "outputId": "04b2212f-d27a-498f-9253-1c297788fc9d"
   },
   "outputs": [],
   "source": [
    "print(\"Hello\", name_1, surname_1, '!') # по умолчанию параметры разделяются пробелом"
   ]
  },
  {
   "cell_type": "code",
   "execution_count": null,
   "metadata": {
    "colab": {
     "base_uri": "https://localhost:8080/",
     "height": 34
    },
    "id": "Z98HnCFKAKGB",
    "outputId": "66a8d77c-fe31-4b16-9d3f-64d35ec71b3d"
   },
   "outputs": [],
   "source": [
    "name_2 = 'Pete'\n",
    "surname_2 = 'Petrov'\n",
    "\n",
    "print(\"Hello\", name_1, name_2, sep=',') # разделитель можно установить свой с помощью sep"
   ]
  },
  {
   "cell_type": "code",
   "execution_count": null,
   "metadata": {
    "colab": {
     "base_uri": "https://localhost:8080/",
     "height": 52
    },
    "id": "r1jkIr7fAKGG",
    "outputId": "6af2a612-a20c-43ae-97a2-15486f62acf3"
   },
   "outputs": [],
   "source": [
    "print(\"Hello\", name_1, '!', end='\\t') # конец строки можно определить, используя end\n",
    "print(\"Bye\", name_2, '!') # \\n - перевод строки (по умолчанию), \\t - табуляция\n",
    "print(\"Привет\", 'Марк', '!')"
   ]
  },
  {
   "cell_type": "markdown",
   "metadata": {
    "id": "dvXTwC21AKGM"
   },
   "source": [
    "### Красивый print"
   ]
  },
  {
   "cell_type": "code",
   "execution_count": null,
   "metadata": {
    "colab": {
     "base_uri": "https://localhost:8080/",
     "height": 52
    },
    "id": "5RIzL733AKGO",
    "outputId": "598845b6-3539-4b78-eff8-67cd34054452"
   },
   "outputs": [],
   "source": [
    "name_1 = 'Vova'\n",
    "name_2 = 'Pete'\n",
    "surname_2 = 'Petrov'\n",
    "\n",
    "print(\"Hello\" + ' ' + name_1 + ' '  + surname_1 + ' ' + 'and' + ' ' +  name_2 + ' ' + surname_2 + '!')\n",
    "print(\"Hello\", name_1, surname_1, 'and', name_2, surname_2, '!') "
   ]
  },
  {
   "cell_type": "markdown",
   "metadata": {
    "id": "6cUIADntAKGa"
   },
   "source": [
    "Первое решение"
   ]
  },
  {
   "cell_type": "code",
   "execution_count": null,
   "metadata": {
    "colab": {
     "base_uri": "https://localhost:8080/",
     "height": 52
    },
    "id": "ocuu3rSIAKGb",
    "outputId": "c4f6d060-043f-4583-896c-29412861dd59"
   },
   "outputs": [],
   "source": [
    "print('Hello {} {} and {} {}!'.format(name_1, surname_1, name_2, surname_2))\n",
    "print('Hello {0} {1} and {2} {3}!'.format(name_1, surname_1, name_2, surname_2))"
   ]
  },
  {
   "cell_type": "markdown",
   "metadata": {
    "id": "UN39nwx2AKGh"
   },
   "source": [
    "Второе решение"
   ]
  },
  {
   "cell_type": "code",
   "execution_count": null,
   "metadata": {
    "colab": {
     "base_uri": "https://localhost:8080/",
     "height": 34
    },
    "id": "4n_EJ3_yAKGi",
    "outputId": "d93048e1-edf1-4872-b96c-2775443e782c"
   },
   "outputs": [],
   "source": [
    "print(f'Hello {name_1} {surname_1} and {name_2} {surname_2}!')"
   ]
  },
  {
   "cell_type": "code",
   "execution_count": null,
   "metadata": {
    "id": "uNPBDhhQAKGs"
   },
   "outputs": [],
   "source": []
  },
  {
   "cell_type": "markdown",
   "metadata": {
    "id": "_oq2wVjCAKGv"
   },
   "source": [
    "## input"
   ]
  },
  {
   "cell_type": "code",
   "execution_count": null,
   "metadata": {
    "colab": {
     "base_uri": "https://localhost:8080/",
     "height": 34
    },
    "id": "WRje_eDeAKGw",
    "outputId": "cb451e5b-f9ab-4865-91e9-932bdace8da7"
   },
   "outputs": [],
   "source": [
    "s = input() "
   ]
  },
  {
   "cell_type": "code",
   "execution_count": null,
   "metadata": {
    "colab": {
     "base_uri": "https://localhost:8080/",
     "height": 34
    },
    "id": "RnZmvxpIAKG1",
    "outputId": "070b906a-4607-485d-9e66-3965893ccda9"
   },
   "outputs": [],
   "source": [
    "print(s, type(s))"
   ]
  },
  {
   "cell_type": "code",
   "execution_count": null,
   "metadata": {
    "colab": {
     "base_uri": "https://localhost:8080/",
     "height": 34
    },
    "id": "tIjZPExJAKG6",
    "outputId": "24a6d09f-6a47-48b5-bc3f-57ee535a7f54"
   },
   "outputs": [],
   "source": [
    "t = input(\"Введите число:\") # не используйте такой формат input в тестовой системе!"
   ]
  },
  {
   "cell_type": "code",
   "execution_count": null,
   "metadata": {
    "colab": {
     "base_uri": "https://localhost:8080/",
     "height": 34
    },
    "id": "s0l2MXijAKHB",
    "outputId": "0bf8aaa6-dd02-41a1-8488-ae707fc21bdf"
   },
   "outputs": [],
   "source": [
    "one_line = input()"
   ]
  },
  {
   "cell_type": "code",
   "execution_count": null,
   "metadata": {
    "colab": {
     "base_uri": "https://localhost:8080/",
     "height": 70
    },
    "id": "0o21SqSEAKHF",
    "outputId": "4a7dfe4d-514d-45c9-fc3c-14cf9b2231d6"
   },
   "outputs": [],
   "source": [
    "few = input()\n",
    "lin = input()\n",
    "es = input()"
   ]
  },
  {
   "cell_type": "code",
   "execution_count": null,
   "metadata": {
    "colab": {
     "base_uri": "https://localhost:8080/",
     "height": 52
    },
    "id": "xiKqufFoAKHJ",
    "outputId": "97a8c60a-279d-4efe-86c3-f50c8e5c397b"
   },
   "outputs": [],
   "source": [
    "print(one_line)\n",
    "print(few, lin, es)"
   ]
  },
  {
   "cell_type": "code",
   "execution_count": null,
   "metadata": {
    "colab": {
     "base_uri": "https://localhost:8080/",
     "height": 52
    },
    "id": "_Z2lDoQTAKHN",
    "outputId": "28669139-f766-4b26-f99d-a2f931cef5a8"
   },
   "outputs": [],
   "source": [
    "print(type(one_line))\n",
    "print(type(few))"
   ]
  },
  {
   "cell_type": "code",
   "execution_count": null,
   "metadata": {
    "id": "Oat3dgC0BCY9"
   },
   "outputs": [],
   "source": []
  }
 ],
 "metadata": {
  "colab": {
   "collapsed_sections": [
    "U7wNGeCYAKDd",
    "PAPUGTcbAKFb",
    "plTbtjptAKFo",
    "a8maqtngAKF6",
    "dvXTwC21AKGM"
   ],
   "name": "Типы_в_питоне.ipynb",
   "provenance": []
  },
  "kernelspec": {
   "display_name": "Python 3",
   "language": "python",
   "name": "python3"
  },
  "language_info": {
   "codemirror_mode": {
    "name": "ipython",
    "version": 3
   },
   "file_extension": ".py",
   "mimetype": "text/x-python",
   "name": "python",
   "nbconvert_exporter": "python",
   "pygments_lexer": "ipython3",
   "version": "3.6.9"
  }
 },
 "nbformat": 4,
 "nbformat_minor": 1
}

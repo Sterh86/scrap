{
 "cells": [
  {
   "cell_type": "code",
   "execution_count": 1,
   "metadata": {},
   "outputs": [],
   "source": [
    "class empty:\n",
    "    pass\n",
    "\n",
    "ep = empty()"
   ]
  },
  {
   "cell_type": "code",
   "execution_count": 2,
   "metadata": {},
   "outputs": [
    {
     "name": "stdout",
     "output_type": "stream",
     "text": [
      "<__main__.empty object at 0x0000000004DAA7C0>\n"
     ]
    }
   ],
   "source": [
    "print(ep)"
   ]
  },
  {
   "cell_type": "code",
   "execution_count": 7,
   "metadata": {},
   "outputs": [
    {
     "name": "stdout",
     "output_type": "stream",
     "text": [
      "<__main__.Auto object at 0x000000000547B1F0>\n"
     ]
    }
   ],
   "source": [
    "class Auto:\n",
    "    \n",
    "    def __init__(self, label):\n",
    "        self.label = label\n",
    "        \n",
    "bmw = Auto(\"BMW\")\n",
    "audi = Auto(\"Audi\")\n",
    "print(audi)"
   ]
  },
  {
   "cell_type": "code",
   "execution_count": 5,
   "metadata": {},
   "outputs": [
    {
     "name": "stdout",
     "output_type": "stream",
     "text": [
      "BMW\n"
     ]
    }
   ],
   "source": [
    "print(bmw.label)"
   ]
  },
  {
   "cell_type": "code",
   "execution_count": 6,
   "metadata": {},
   "outputs": [
    {
     "name": "stdout",
     "output_type": "stream",
     "text": [
      "3000000\n"
     ]
    }
   ],
   "source": [
    "bmw.price = 3000000\n",
    "print(bmw.price)"
   ]
  },
  {
   "cell_type": "code",
   "execution_count": null,
   "metadata": {},
   "outputs": [],
   "source": []
  },
  {
   "cell_type": "code",
   "execution_count": null,
   "metadata": {},
   "outputs": [],
   "source": []
  },
  {
   "cell_type": "code",
   "execution_count": null,
   "metadata": {},
   "outputs": [],
   "source": []
  },
  {
   "cell_type": "code",
   "execution_count": 8,
   "metadata": {},
   "outputs": [
    {
     "name": "stdout",
     "output_type": "stream",
     "text": [
      "3\n",
      "2\n",
      "2\n"
     ]
    }
   ],
   "source": [
    "class Human:\n",
    "    hands = 2\n",
    "\n",
    "human = Human()\n",
    "alien = Human()\n",
    "alien.hands = 3\n",
    "print(alien.hands)\n",
    "print(Human.hands)\n",
    "print(human.hands)"
   ]
  },
  {
   "cell_type": "code",
   "execution_count": 9,
   "metadata": {},
   "outputs": [
    {
     "name": "stdout",
     "output_type": "stream",
     "text": [
      "Tredian\n"
     ]
    },
    {
     "ename": "AttributeError",
     "evalue": "'Human' object has no attribute 'planet'",
     "output_type": "error",
     "traceback": [
      "\u001b[1;31m---------------------------------------------------------------------------\u001b[0m",
      "\u001b[1;31mAttributeError\u001b[0m                            Traceback (most recent call last)",
      "\u001b[1;32m<ipython-input-9-462d6a9e2b46>\u001b[0m in \u001b[0;36m<module>\u001b[1;34m\u001b[0m\n\u001b[0;32m      7\u001b[0m \u001b[0malien\u001b[0m\u001b[1;33m.\u001b[0m\u001b[0mplanet\u001b[0m \u001b[1;33m=\u001b[0m \u001b[1;34m'Tredian'\u001b[0m\u001b[1;33m\u001b[0m\u001b[1;33m\u001b[0m\u001b[0m\n\u001b[0;32m      8\u001b[0m \u001b[0mprint\u001b[0m\u001b[1;33m(\u001b[0m\u001b[0malien\u001b[0m\u001b[1;33m.\u001b[0m\u001b[0mplanet\u001b[0m\u001b[1;33m)\u001b[0m\u001b[1;33m\u001b[0m\u001b[1;33m\u001b[0m\u001b[0m\n\u001b[1;32m----> 9\u001b[1;33m \u001b[0mprint\u001b[0m\u001b[1;33m(\u001b[0m\u001b[0mhuman\u001b[0m\u001b[1;33m.\u001b[0m\u001b[0mplanet\u001b[0m\u001b[1;33m)\u001b[0m\u001b[1;33m\u001b[0m\u001b[1;33m\u001b[0m\u001b[0m\n\u001b[0m",
      "\u001b[1;31mAttributeError\u001b[0m: 'Human' object has no attribute 'planet'"
     ]
    }
   ],
   "source": [
    "class Human(object):\n",
    "    hands = 2\n",
    "\n",
    "    \n",
    "alien = Human()\n",
    "alien.tail = True\n",
    "alien.planet = 'Tredian'\n",
    "print(alien.planet)\n",
    "print(human.planet)"
   ]
  },
  {
   "cell_type": "code",
   "execution_count": 10,
   "metadata": {},
   "outputs": [
    {
     "name": "stdout",
     "output_type": "stream",
     "text": [
      "<class 'type'>\n",
      "<class 'type'>\n",
      "<class '__main__.Human'>\n",
      "<class 'int'>\n"
     ]
    }
   ],
   "source": [
    "print(type(int))\n",
    "print(type(Human))\n",
    "print(type(alien))\n",
    "print(type(alien.hands))"
   ]
  },
  {
   "cell_type": "code",
   "execution_count": 11,
   "metadata": {},
   "outputs": [
    {
     "name": "stdout",
     "output_type": "stream",
     "text": [
      "<class 'int'>\n",
      "<class '__main__.Human'>\n",
      "<__main__.Human object at 0x000000000547B0A0>\n",
      "<__main__.Human object at 0x000000000547B520>\n",
      "2\n"
     ]
    }
   ],
   "source": [
    "print(int)\n",
    "print(Human)\n",
    "print(alien)\n",
    "print(human)\n",
    "print(alien.hands)"
   ]
  },
  {
   "cell_type": "code",
   "execution_count": null,
   "metadata": {},
   "outputs": [],
   "source": [
    "isinstance(4, int)"
   ]
  },
  {
   "cell_type": "code",
   "execution_count": 13,
   "metadata": {},
   "outputs": [],
   "source": [
    "import math"
   ]
  },
  {
   "cell_type": "code",
   "execution_count": 18,
   "metadata": {},
   "outputs": [],
   "source": [
    "class Circle:\n",
    "    \n",
    "    def __init__(self, x, y, r):\n",
    "        self.x = x\n",
    "        self.y = y\n",
    "        self.r = r\n",
    "        \n",
    "    def get_square(self):\n",
    "        return math.pi * self.r ** 2\n",
    "        \n",
    "    def get_length(self):  \n",
    "        return 2* math.pi * self.r \n",
    "        \n",
    "circle = Circle(10, -10, 5)"
   ]
  },
  {
   "cell_type": "code",
   "execution_count": 19,
   "metadata": {},
   "outputs": [
    {
     "name": "stdout",
     "output_type": "stream",
     "text": [
      "78.53981633974483\n",
      "31.41592653589793\n"
     ]
    }
   ],
   "source": [
    "print(circle.get_square())\n",
    "print(circle.get_length())"
   ]
  },
  {
   "cell_type": "code",
   "execution_count": null,
   "metadata": {},
   "outputs": [],
   "source": []
  },
  {
   "cell_type": "code",
   "execution_count": null,
   "metadata": {},
   "outputs": [],
   "source": [
    "class Human(object):\n",
    "    children = []\n",
    "    def born(self, name):\n",
    "        print(f'New child {name}!')\n",
    "        self.children.append(name)\n",
    "        \n",
    "human1 = Human()\n",
    "human1.born('Petr')\n",
    "human2 = Human()\n",
    "human2.born('Ivan')\n",
    "print(human1.children, human2.children)\n",
    "# human.greetings()|uman)"
   ]
  },
  {
   "cell_type": "code",
   "execution_count": null,
   "metadata": {},
   "outputs": [],
   "source": [
    "class Human(object):\n",
    "    def __init__(self):\n",
    "        self.children = []\n",
    "        \n",
    "    def born(self, name):\n",
    "        print(f'New child {name}!')\n",
    "        self.children.append(name)\n",
    "        \n",
    "human1, human2 = Human(), Human()\n",
    "human1.born('Petr')\n",
    "human2.born('Ivan')\n",
    "print(human1.children, human2.children)"
   ]
  },
  {
   "cell_type": "code",
   "execution_count": null,
   "metadata": {},
   "outputs": [],
   "source": []
  },
  {
   "cell_type": "code",
   "execution_count": null,
   "metadata": {},
   "outputs": [],
   "source": [
    "import time\n",
    "from random import *\n",
    "\n",
    "class War():\n",
    "    def __init__(self, name = \"\", ht=20):\n",
    "        self.name = name\n",
    "        self.ht = ht\n",
    "        \n",
    "    def off(self, damage, name):\n",
    "        name.ht = name.ht - damage\n",
    "        \n",
    "    def deff(self, damage):\n",
    "        self.ht = self.ht - damage\n",
    "        \n",
    "        \n",
    "allwar = [\"war1\",\"war2\"]\n",
    "allwar1 = []\n",
    "a = 0\n",
    "for i in allwar:\n",
    "    i = war()\n",
    "    i.name = allwar[a]\n",
    "    a = a + 1\n",
    "    allwar1.append(i)\n",
    "a = 0\n",
    "game = True\n",
    "while game:\n",
    "    print(allwar1[a].name,allwar1[a].ht,\"hp\")\n",
    "    time.sleep(0.8)\n",
    "    allwar1[a].deff(randint(0,10),(allwar1[a]))\n",
    "    a = a + 1\n",
    "    if a == 2:\n",
    "        a = 0\n",
    "    if allwar1[a].ht <= 0:\n",
    "        print(allwar1[a].name, \"lose\")\n",
    "        game = False"
   ]
  },
  {
   "cell_type": "code",
   "execution_count": null,
   "metadata": {},
   "outputs": [],
   "source": []
  },
  {
   "cell_type": "code",
   "execution_count": 44,
   "metadata": {},
   "outputs": [],
   "source": [
    "class Customer: # дебетовые карты (в минус уйти не сможем)\n",
    "    id_ = 0\n",
    "    def __init__(self, name, balance = 0): # магический метод\n",
    "        self.balance = balance\n",
    "        self.id = Customer.id_ + 1\n",
    "        self.name = name\n",
    "        Customer.id_ += 1\n",
    "           \n",
    "    def withdraw(self, price): # совершить покупку\n",
    "        if self.balance >= price:\n",
    "            self.balance -= price\n",
    "            print('Operation accepted')\n",
    "        else:\n",
    "            raise Exception(\"not enough money\")\n",
    "  \n",
    "    def deposit(self, delta): # пополнить баланс\n",
    "        self.balance += delta \n",
    "    \n",
    "    def __gt__(self, second):  # магический метод (__ в начале и в конце)\n",
    "        return self.balance > second.balance\n",
    "\n",
    "    def __lt__(self, second):  # магический метод (__ в начале и в конце)\n",
    "        return self.balance < second.balance\n",
    "        \n",
    "    def get_balance(self):\n",
    "        return self.balance\n",
    "        # узнать текущий баланс"
   ]
  },
  {
   "cell_type": "code",
   "execution_count": 45,
   "metadata": {},
   "outputs": [],
   "source": [
    "tom = Customer('Tom', 100)\n",
    "# tom.withdraw(200)"
   ]
  },
  {
   "cell_type": "code",
   "execution_count": 46,
   "metadata": {},
   "outputs": [
    {
     "name": "stdout",
     "output_type": "stream",
     "text": [
      "True\n"
     ]
    }
   ],
   "source": [
    "print(tom > ben)"
   ]
  },
  {
   "cell_type": "code",
   "execution_count": 47,
   "metadata": {},
   "outputs": [
    {
     "name": "stdout",
     "output_type": "stream",
     "text": [
      "False\n"
     ]
    }
   ],
   "source": [
    "print(tom < ben)"
   ]
  },
  {
   "cell_type": "code",
   "execution_count": 37,
   "metadata": {},
   "outputs": [
    {
     "name": "stdout",
     "output_type": "stream",
     "text": [
      "2\n",
      "3\n"
     ]
    }
   ],
   "source": [
    "ben = Customer('Ben')\n",
    "jane = Customer('Jane')\n",
    "print(ben.id)\n",
    "print(jane.id)"
   ]
  },
  {
   "cell_type": "code",
   "execution_count": 30,
   "metadata": {},
   "outputs": [
    {
     "name": "stdout",
     "output_type": "stream",
     "text": [
      "100\n"
     ]
    }
   ],
   "source": [
    "print(tom.get_balance())"
   ]
  },
  {
   "cell_type": "code",
   "execution_count": null,
   "metadata": {},
   "outputs": [],
   "source": []
  },
  {
   "cell_type": "code",
   "execution_count": null,
   "metadata": {},
   "outputs": [],
   "source": []
  },
  {
   "cell_type": "code",
   "execution_count": null,
   "metadata": {},
   "outputs": [],
   "source": [
    "class Distances:\n",
    "    \n",
    "    def __compute_distnace(self):\n",
    "        return abs(self.__source - self.dest)\n",
    "    \n",
    "    def __init__(self, source, dest):\n",
    "        self.__source = source\n",
    "        self.dest = dest\n",
    "        self._distance = self.__compute_distnace()\n",
    "        \n",
    "    def get_distance(self):\n",
    "        print('Get distance : ', end='')\n",
    "        return self._distance\n",
    "    \n",
    "    "
   ]
  },
  {
   "cell_type": "code",
   "execution_count": null,
   "metadata": {},
   "outputs": [],
   "source": [
    "moscow_spb = Distances(0, 800)\n",
    "print(moscow_spb.__source)\n",
    "print(moscow_spb.dest)\n",
    "print(moscow_spb.get_distance())\n",
    "# print(moscow_spb._distance) # мы запрещаем их вызовы\n",
    "print(moscow_spb.__compute_distnace()) # мы запрещаем их вызовы"
   ]
  },
  {
   "cell_type": "code",
   "execution_count": null,
   "metadata": {},
   "outputs": [],
   "source": []
  },
  {
   "cell_type": "code",
   "execution_count": 56,
   "metadata": {},
   "outputs": [
    {
     "name": "stdout",
     "output_type": "stream",
     "text": [
      "Alex\n",
      "7218560215736355495\n"
     ]
    }
   ],
   "source": [
    "class Human(object):\n",
    "    def __init__(self, name): # magic methods\n",
    "        self.name = name\n",
    "        self.children = []\n",
    "        self._id = hash(name) # warning \n",
    "        self.__supersecret = True # error (можно обойти)\n",
    "    \n",
    "    def __hum__(self): # сами придумали магический метод\n",
    "        return self.children\n",
    "\n",
    "    def _born(self):\n",
    "        return self._id\n",
    "    \n",
    "human = Human('Alex')\n",
    "\n",
    "print(human.name) # обычный атрибут\n",
    "print(human._id) # закрытый атрибут! Не надо так\n",
    "# print(human.__supersecret) # так нельзя"
   ]
  },
  {
   "cell_type": "code",
   "execution_count": 58,
   "metadata": {},
   "outputs": [
    {
     "name": "stdout",
     "output_type": "stream",
     "text": [
      "[]\n"
     ]
    }
   ],
   "source": [
    "print(human.__hum__())"
   ]
  },
  {
   "cell_type": "code",
   "execution_count": 53,
   "metadata": {},
   "outputs": [
    {
     "data": {
      "text/plain": [
       "{'name': 'Alex',\n",
       " 'children': [],\n",
       " '_id': 7218560215736355495,\n",
       " '_Human__supersecret': True}"
      ]
     },
     "execution_count": 53,
     "metadata": {},
     "output_type": "execute_result"
    }
   ],
   "source": [
    "human.__dict__"
   ]
  },
  {
   "cell_type": "code",
   "execution_count": 54,
   "metadata": {},
   "outputs": [
    {
     "name": "stdout",
     "output_type": "stream",
     "text": [
      "True\n"
     ]
    }
   ],
   "source": [
    "print(human._Human__supersecret)\n"
   ]
  },
  {
   "cell_type": "code",
   "execution_count": null,
   "metadata": {},
   "outputs": [],
   "source": []
  },
  {
   "cell_type": "code",
   "execution_count": 51,
   "metadata": {},
   "outputs": [
    {
     "name": "stdout",
     "output_type": "stream",
     "text": [
      "7218560215736355495\n"
     ]
    }
   ],
   "source": [
    "print(human._born())"
   ]
  },
  {
   "cell_type": "code",
   "execution_count": null,
   "metadata": {},
   "outputs": [],
   "source": [
    "human._born('Go')"
   ]
  },
  {
   "cell_type": "code",
   "execution_count": null,
   "metadata": {},
   "outputs": [],
   "source": [
    "class Human(object):\n",
    "    \"\"\"dsvsdv\"\"\"\n",
    "    def __init__(self, name):\n",
    "        self.name = name\n",
    "        self.children = []\n",
    "    def born(self, name):\n",
    "        print(f'New child {name}!')\n",
    "        self.children.append(name)\n",
    "    def __removeAll(self):\n",
    "        pass\n",
    "        \n",
    "human = Human('Alex')\n",
    "# human._born('Maggy') # закрытый метод! Не надо так\n",
    "# human.__removeAll # так нельзя"
   ]
  },
  {
   "cell_type": "code",
   "execution_count": null,
   "metadata": {},
   "outputs": [],
   "source": [
    "human.__dict__\n",
    "human.born('Mag')\n",
    "human.__dict__"
   ]
  },
  {
   "cell_type": "code",
   "execution_count": null,
   "metadata": {},
   "outputs": [],
   "source": [
    "Human.__dict__"
   ]
  },
  {
   "cell_type": "code",
   "execution_count": null,
   "metadata": {},
   "outputs": [],
   "source": [
    "print(Human.__doc__)\n",
    "print(Human.__name__)"
   ]
  },
  {
   "cell_type": "code",
   "execution_count": 59,
   "metadata": {},
   "outputs": [],
   "source": [
    "class Car: # легковая машина\n",
    "    def __init__(self, version, brand):\n",
    "        self.wheels = 4\n",
    "        self.brand = brand\n",
    "        self.version = version\n",
    "        \n",
    "    def cost(self):\n",
    "        return 100 * self.version + self.wheels ** 2\n",
    "\n",
    "class Truck(object): # грузовик\n",
    "    def __init__(self, wheels, version, brand):\n",
    "        self.wheels = wheels\n",
    "        self.brand = brand\n",
    "        self.version = version\n",
    "        \n",
    "    def cost(self):\n",
    "        return 200 * self.version"
   ]
  },
  {
   "cell_type": "code",
   "execution_count": 60,
   "metadata": {},
   "outputs": [
    {
     "name": "stdout",
     "output_type": "stream",
     "text": [
      "416\n",
      "200\n"
     ]
    }
   ],
   "source": [
    "car = Car(4, 'Toyota')\n",
    "truck = Truck(10, 1, 'AC')\n",
    "print(car.cost())\n",
    "print(truck.cost())"
   ]
  },
  {
   "cell_type": "code",
   "execution_count": null,
   "metadata": {},
   "outputs": [],
   "source": [
    "car.cost()"
   ]
  },
  {
   "cell_type": "code",
   "execution_count": 69,
   "metadata": {},
   "outputs": [],
   "source": [
    "class Vehicle(object):\n",
    "    def __init__(self, wheels, version, brand):\n",
    "        self.wheels = wheels\n",
    "        self.brand = brand\n",
    "        self.version = version\n",
    "    def cost(self):\n",
    "        return 100\n",
    "\n",
    "class Car(Vehicle):\n",
    "    def __init__(self, version, brand, child_seat): #\n",
    "        Vehicle.__init__(self, 4, version, brand)\n",
    "        self.child_seat = child_seat\n",
    "    def cost(self):\n",
    "        return 100 * self.version + self.wheels ** 2\n",
    "\n",
    "class Truck(Vehicle): # грузовик\n",
    "    def __init__(self, wheels, version, brand, volume):\n",
    "        Vehicle.__init__(self, wheels, version, brand)\n",
    "        self.volume = volume\n",
    "    def cost(self):\n",
    "        return 200*self.version\n",
    "\n",
    "class Motorcycle(Vehicle):\n",
    "    def __init__(self, brand):\n",
    "        Vehicle.__init__(self, 2, 1, brand)\n",
    "    def turn_music_very_loud(self):\n",
    "        pass\n",
    "    \n",
    "class Bike(Motorcycle, Car):\n",
    "    pass"
   ]
  },
  {
   "cell_type": "code",
   "execution_count": 84,
   "metadata": {},
   "outputs": [
    {
     "name": "stdout",
     "output_type": "stream",
     "text": [
      "316\n",
      "{'wheels': 4, 'brand': 'Ford Focus', 'version': 3, 'child_seat': True}\n",
      "{'wheels': 8, 'brand': 'KaMaz', 'version': 3, 'volume': 1000}\n"
     ]
    }
   ],
   "source": [
    "ford = Car(3, 'Ford Focus', True)\n",
    "print(ford.cost()) # ищет ближайший метод\n",
    "print(ford.__dict__)\n",
    "kamaz = Truck(8, 3, 'KaMaz', 1000)\n",
    "print(kamaz.__dict__)"
   ]
  },
  {
   "cell_type": "code",
   "execution_count": 71,
   "metadata": {},
   "outputs": [],
   "source": [
    "bike = Motorcycle('Yamaha')\n",
    "bike.cost()\n",
    "bike.turn_music_very_loud()"
   ]
  },
  {
   "cell_type": "code",
   "execution_count": 73,
   "metadata": {},
   "outputs": [
    {
     "name": "stdout",
     "output_type": "stream",
     "text": [
      "100\n"
     ]
    },
    {
     "ename": "AttributeError",
     "evalue": "'Vehicle' object has no attribute 'turn_music_very_loud'",
     "output_type": "error",
     "traceback": [
      "\u001b[1;31m---------------------------------------------------------------------------\u001b[0m",
      "\u001b[1;31mAttributeError\u001b[0m                            Traceback (most recent call last)",
      "\u001b[1;32m<ipython-input-73-87dcd4c43420>\u001b[0m in \u001b[0;36m<module>\u001b[1;34m\u001b[0m\n\u001b[0;32m      1\u001b[0m \u001b[0mtaxi\u001b[0m \u001b[1;33m=\u001b[0m \u001b[0mVehicle\u001b[0m\u001b[1;33m(\u001b[0m\u001b[1;36m2\u001b[0m\u001b[1;33m,\u001b[0m \u001b[1;36m2\u001b[0m\u001b[1;33m,\u001b[0m \u001b[1;34m'Yamaha'\u001b[0m\u001b[1;33m)\u001b[0m\u001b[1;33m\u001b[0m\u001b[1;33m\u001b[0m\u001b[0m\n\u001b[0;32m      2\u001b[0m \u001b[0mprint\u001b[0m\u001b[1;33m(\u001b[0m\u001b[0mtaxi\u001b[0m\u001b[1;33m.\u001b[0m\u001b[0mcost\u001b[0m\u001b[1;33m(\u001b[0m\u001b[1;33m)\u001b[0m\u001b[1;33m)\u001b[0m\u001b[1;33m\u001b[0m\u001b[1;33m\u001b[0m\u001b[0m\n\u001b[1;32m----> 3\u001b[1;33m \u001b[0mprint\u001b[0m\u001b[1;33m(\u001b[0m\u001b[0mtaxi\u001b[0m\u001b[1;33m.\u001b[0m\u001b[0mturn_music_very_loud\u001b[0m\u001b[1;33m(\u001b[0m\u001b[1;33m)\u001b[0m\u001b[1;33m)\u001b[0m\u001b[1;33m\u001b[0m\u001b[1;33m\u001b[0m\u001b[0m\n\u001b[0m",
      "\u001b[1;31mAttributeError\u001b[0m: 'Vehicle' object has no attribute 'turn_music_very_loud'"
     ]
    }
   ],
   "source": [
    "taxi = Vehicle(2, 2, 'Yamaha')\n",
    "print(taxi.cost())\n",
    "print(taxi.turn_music_very_loud())"
   ]
  },
  {
   "cell_type": "code",
   "execution_count": null,
   "metadata": {},
   "outputs": [],
   "source": [
    "bike = Vehicle(2, 2, 'Yamaha', 0.5)\n",
    "ford = Car(3, 'Ford', True)\n",
    "kamaz = Truck(8, 3, 'KaMaz')\n",
    "print(bike.cost())\n",
    "print(ford.cost())\n",
    "print(kamaz.cost())"
   ]
  },
  {
   "cell_type": "code",
   "execution_count": 74,
   "metadata": {},
   "outputs": [],
   "source": [
    "class Figure: # абстракция\n",
    "    \n",
    "    def compute_sqr():\n",
    "        pass\n",
    "\n",
    "class Polygon(Figure): # Polygon\n",
    "    def __init__ (self, *args, **kwargs):\n",
    "        pass\n",
    "\n",
    "class Triangular(Polygon):\n",
    "    pass\n",
    "\n",
    "class Square(Polygon):\n",
    "    pass"
   ]
  },
  {
   "cell_type": "code",
   "execution_count": null,
   "metadata": {},
   "outputs": [],
   "source": [
    "class Vehicle(object):\n",
    "    def __init__(self, wheels, version, brand, koef):\n",
    "        self.wheels = wheels\n",
    "        self.brand = brand\n",
    "        self.version = version\n",
    "        self.cost_koef = koef\n",
    "    def cost(self):\n",
    "        return 100\n",
    "\n",
    "class Car(Vehicle):\n",
    "    def __init__(self, version, brand, child_seat):\n",
    "        super().__init__(4, version, brand, 1)\n",
    "        self.child_seat = child_seat\n",
    "    \n",
    "    def cost(self):\n",
    "        return 100*self.version + self.wheels ** 2\n",
    "\n",
    "class Truck(Vehicle): # грузовик\n",
    "    def __init__(self, wheels, version, brand):\n",
    "        super().__init__(wheels, version, brand, 2)\n",
    "    \n",
    "    def cost(self):\n",
    "        return 200*self.version\n",
    "\n",
    "class Motorcycle(Vehicle):\n",
    "    pass\n",
    "class Bike(Motorcycle, Car):\n",
    "    pass"
   ]
  },
  {
   "cell_type": "code",
   "execution_count": null,
   "metadata": {},
   "outputs": [],
   "source": [
    "bike = Vehicle(2, 2, 'Yamaha', 0.5)\n",
    "ford = Car(3, 'Ford', True)\n",
    "kamaz = Truck(8, 3, 'KaMaz')\n",
    "print(bike.cost())\n",
    "print(ford.cost())\n",
    "print(kamaz.cost())"
   ]
  },
  {
   "cell_type": "code",
   "execution_count": null,
   "metadata": {},
   "outputs": [],
   "source": [
    "veh.cost()"
   ]
  },
  {
   "cell_type": "code",
   "execution_count": null,
   "metadata": {},
   "outputs": [],
   "source": [
    "vehicle = Vehicle(8, 3, 'Sony', 1)\n",
    "vehicle.cost()"
   ]
  },
  {
   "cell_type": "code",
   "execution_count": null,
   "metadata": {},
   "outputs": [],
   "source": [
    "class Vehicle(object):\n",
    "    def __init__(self, wheels, version, brand, koef):\n",
    "        self.wheels = wheels\n",
    "        self.brand = brand\n",
    "        self.version = version\n",
    "        self.cost_koef = koef\n",
    "    def cost(self):\n",
    "        return 100*self.cost_koef*self.version\n",
    "\n",
    "class Car(Vehicle):\n",
    "    def __init__(self, version, brand):\n",
    "        super().__init__(4, version, brand, 2)\n",
    "\n",
    "class Truck(Vehicle):\n",
    "    pass"
   ]
  },
  {
   "cell_type": "code",
   "execution_count": 82,
   "metadata": {},
   "outputs": [
    {
     "data": {
      "text/plain": [
       "216"
      ]
     },
     "execution_count": 82,
     "metadata": {},
     "output_type": "execute_result"
    }
   ],
   "source": [
    "car = Car(2, 'Ford', False)\n",
    "car.cost()"
   ]
  },
  {
   "cell_type": "code",
   "execution_count": 75,
   "metadata": {},
   "outputs": [],
   "source": [
    "truck = Truck(10, 2, 'Cam', 4)"
   ]
  },
  {
   "cell_type": "code",
   "execution_count": 76,
   "metadata": {},
   "outputs": [
    {
     "data": {
      "text/plain": [
       "400"
      ]
     },
     "execution_count": 76,
     "metadata": {},
     "output_type": "execute_result"
    }
   ],
   "source": [
    "truck.cost()"
   ]
  },
  {
   "cell_type": "code",
   "execution_count": 77,
   "metadata": {},
   "outputs": [
    {
     "data": {
      "text/plain": [
       "True"
      ]
     },
     "execution_count": 77,
     "metadata": {},
     "output_type": "execute_result"
    }
   ],
   "source": [
    "isinstance(truck, Vehicle) # является ли объектом этого класса / сыном"
   ]
  },
  {
   "cell_type": "code",
   "execution_count": 86,
   "metadata": {},
   "outputs": [
    {
     "name": "stdout",
     "output_type": "stream",
     "text": [
      "<__main__.Car object at 0x00000000073878E0>\n"
     ]
    },
    {
     "data": {
      "text/plain": [
       "True"
      ]
     },
     "execution_count": 86,
     "metadata": {},
     "output_type": "execute_result"
    }
   ],
   "source": [
    "print(ford)\n",
    "isinstance(ford, Vehicle)"
   ]
  },
  {
   "cell_type": "code",
   "execution_count": 87,
   "metadata": {},
   "outputs": [
    {
     "name": "stdout",
     "output_type": "stream",
     "text": [
      "True\n",
      "False\n",
      "True\n"
     ]
    }
   ],
   "source": [
    "print(issubclass(Truck, Vehicle))\n",
    "print(issubclass(Truck, Human))\n",
    "print(issubclass(Vehicle, object))"
   ]
  },
  {
   "cell_type": "code",
   "execution_count": 90,
   "metadata": {},
   "outputs": [],
   "source": [
    "class Animal(object):\n",
    "    def __init__(self):\n",
    "        print('Animal: Init')\n",
    "        self.legs = 0\n",
    "        \n",
    "class Mammal(Animal):\n",
    "    def __init__(self):\n",
    "        print('Mammal: Init')\n",
    "        Animal.__init__(self)\n",
    "        self.legs = 4\n",
    "    \n",
    "class Swimming(Animal):\n",
    "    def __init__(self):\n",
    "        print('Swimming: Init')\n",
    "        Animal.__init__(self)\n",
    "        self.can_swim = True\n",
    "    \n",
    "class Platypus(Swimming, Mammal):\n",
    "    def __init__(self):\n",
    "        print('Platypus: Init')\n",
    "        Swimming.__init__(self)\n",
    "        Mammal.__init__(self)\n",
    "#         self.legs = 4"
   ]
  },
  {
   "cell_type": "code",
   "execution_count": 92,
   "metadata": {},
   "outputs": [
    {
     "name": "stdout",
     "output_type": "stream",
     "text": [
      "Platypus: Init\n",
      "Swimming: Init\n",
      "Animal: Init\n",
      "Mammal: Init\n",
      "Animal: Init\n",
      "4\n",
      "True\n"
     ]
    }
   ],
   "source": [
    "plat = Platypus()\n",
    "print(plat.legs)\n",
    "print(plat.can_swim)"
   ]
  },
  {
   "cell_type": "code",
   "execution_count": 93,
   "metadata": {},
   "outputs": [],
   "source": [
    "class Animal(object):\n",
    "    def __init__(self):\n",
    "        print('Animal: Init')\n",
    "        self.legs = 0\n",
    "        \n",
    "class Mammal(Animal):\n",
    "    def __init__(self):\n",
    "        print('Mammal: Init')\n",
    "        super().__init__()\n",
    "        self.legs = 4\n",
    "    \n",
    "class Swimming(Animal):\n",
    "    def __init__(self):\n",
    "        print('Swimming: Init')\n",
    "        super().__init__()\n",
    "        self.can_swim = True\n",
    "    \n",
    "class Platypus(Mammal, Swimming):\n",
    "    def __init__(self):\n",
    "        print('Platypus: Init')\n",
    "        super().__init__()"
   ]
  },
  {
   "cell_type": "code",
   "execution_count": 94,
   "metadata": {},
   "outputs": [
    {
     "name": "stdout",
     "output_type": "stream",
     "text": [
      "Platypus: Init\n",
      "Mammal: Init\n",
      "Swimming: Init\n",
      "Animal: Init\n",
      "4\n"
     ]
    }
   ],
   "source": [
    "plat = Platypus()\n",
    "print(plat.legs)"
   ]
  },
  {
   "cell_type": "code",
   "execution_count": null,
   "metadata": {},
   "outputs": [],
   "source": []
  }
 ],
 "metadata": {
  "kernelspec": {
   "display_name": "Python 3",
   "language": "python",
   "name": "python3"
  },
  "language_info": {
   "codemirror_mode": {
    "name": "ipython",
    "version": 3
   },
   "file_extension": ".py",
   "mimetype": "text/x-python",
   "name": "python",
   "nbconvert_exporter": "python",
   "pygments_lexer": "ipython3",
   "version": "3.8.3"
  }
 },
 "nbformat": 4,
 "nbformat_minor": 2
}

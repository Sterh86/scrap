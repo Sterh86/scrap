{
 "cells": [
  {
   "cell_type": "markdown",
   "metadata": {
    "id": "ar5S3A48KRoD"
   },
   "source": [
    "## Оператор if"
   ]
  },
  {
   "cell_type": "markdown",
   "metadata": {
    "id": "1CBdzDUBKRoE"
   },
   "source": [
    "### Задача №1:\n",
    "Подается на вход число **n**. Определить является ли оно четным"
   ]
  },
  {
   "cell_type": "code",
   "execution_count": 3,
   "metadata": {
    "colab": {
     "base_uri": "https://localhost:8080/",
     "height": 70
    },
    "id": "s5DPIHquKRoF",
    "outputId": "d4fe6554-aa15-483d-c99b-56ee64d4c19b"
   },
   "outputs": [
    {
     "name": "stdout",
     "output_type": "stream",
     "text": [
      "17\n",
      "False\n",
      "четное\n"
     ]
    }
   ],
   "source": [
    "n = int(input())\n",
    "\n",
    "d = (n % 2 == 0)\n",
    "print(d)\n",
    "print('четное')"
   ]
  },
  {
   "cell_type": "code",
   "execution_count": null,
   "metadata": {
    "id": "V86MxkjIKRoJ"
   },
   "outputs": [],
   "source": []
  },
  {
   "cell_type": "code",
   "execution_count": null,
   "metadata": {
    "id": "pNn42sIPKRoM"
   },
   "outputs": [],
   "source": []
  },
  {
   "cell_type": "code",
   "execution_count": null,
   "metadata": {
    "id": "7G-oRKExKRoO"
   },
   "outputs": [],
   "source": []
  },
  {
   "cell_type": "markdown",
   "metadata": {
    "id": "AwhDKsi0KRoQ"
   },
   "source": [
    "Условный оператор **if** обеспечивает выполнение определённой команды только при условии истинности некоторого логического выражения"
   ]
  },
  {
   "cell_type": "markdown",
   "metadata": {
    "id": "XlMr47spKRoQ"
   },
   "source": [
    "![alt text](https://drive.google.com/uc?id=1RrgSbZdyVM8-iKincpeHZ3Rd1TqK6Wa0)"
   ]
  },
  {
   "cell_type": "code",
   "execution_count": 6,
   "metadata": {
    "colab": {
     "base_uri": "https://localhost:8080/",
     "height": 52
    },
    "id": "RM3-8LrjKRoR",
    "outputId": "7517f7ab-81bc-4b72-a430-629ffe4f619a"
   },
   "outputs": [
    {
     "name": "stdout",
     "output_type": "stream",
     "text": [
      "15\n"
     ]
    }
   ],
   "source": [
    "n = int(input())\n",
    "\n",
    "if n % 2 == 0:\n",
    "    print('четное')\n"
   ]
  },
  {
   "cell_type": "code",
   "execution_count": 8,
   "metadata": {
    "id": "EgvLjG7wKRoT"
   },
   "outputs": [
    {
     "name": "stdout",
     "output_type": "stream",
     "text": [
      "15\n",
      "четное\n"
     ]
    }
   ],
   "source": [
    "n = int(input())\n",
    "\n",
    "if n % 2: # False\n",
    "    print('четное')\n"
   ]
  },
  {
   "cell_type": "code",
   "execution_count": 14,
   "metadata": {
    "id": "WOf_hSfuKRoV"
   },
   "outputs": [
    {
     "name": "stdout",
     "output_type": "stream",
     "text": [
      "13\n",
      "нечетное\n",
      "конец\n"
     ]
    }
   ],
   "source": [
    "n = int(input())\n",
    "\n",
    "if not n % 2: # False\n",
    "    print('четное')\n",
    "    print('еще что-то') # относится только к блоку True\n",
    "    \n",
    "    \n",
    "else:\n",
    "    print('нечетное')\n",
    "print('конец') # относится ко всей программе"
   ]
  },
  {
   "cell_type": "code",
   "execution_count": 15,
   "metadata": {
    "id": "_gsuMCO-KRoX"
   },
   "outputs": [
    {
     "ename": "SyntaxError",
     "evalue": "invalid syntax (<ipython-input-15-061fa525cb73>, line 8)",
     "output_type": "error",
     "traceback": [
      "\u001b[1;36m  File \u001b[1;32m\"<ipython-input-15-061fa525cb73>\"\u001b[1;36m, line \u001b[1;32m8\u001b[0m\n\u001b[1;33m    else:\u001b[0m\n\u001b[1;37m       ^\u001b[0m\n\u001b[1;31mSyntaxError\u001b[0m\u001b[1;31m:\u001b[0m invalid syntax\n"
     ]
    }
   ],
   "source": [
    "n = int(input())\n",
    "\n",
    "if not n % 2: # False\n",
    "    print('четное')\n",
    "    print('еще что-то') # относится только к блоку True\n",
    "    \n",
    "print('конец') # относится ко всей программе    \n",
    "else:\n",
    "    print('нечетное')\n"
   ]
  },
  {
   "cell_type": "markdown",
   "metadata": {
    "id": "xkonSZoNKRoZ"
   },
   "source": [
    "### Задача №2:\n",
    "Напишите программу, которая отвечает YES, если точка находится в II или III четверти и NO иначе."
   ]
  },
  {
   "cell_type": "markdown",
   "metadata": {
    "id": "sI-gUJRkKRoZ"
   },
   "source": [
    "<img src=\"https://drive.google.com/uc?id=1lVy5-9wsGyrrOr53iYCYgdfVBdpRA7_x\" width=400>"
   ]
  },
  {
   "cell_type": "code",
   "execution_count": 19,
   "metadata": {
    "colab": {
     "base_uri": "https://localhost:8080/",
     "height": 70
    },
    "id": "KT5DGHAlKRoa",
    "outputId": "3c3a7aad-f7e9-413c-e9af-f22b6729858c"
   },
   "outputs": [
    {
     "name": "stdout",
     "output_type": "stream",
     "text": [
      "2\n",
      "-2\n",
      "no\n"
     ]
    }
   ],
   "source": [
    "x = int(input())\n",
    "y = int(input())\n",
    "\n",
    "if x <= 0:\n",
    "    print('yes')\n",
    "else:\n",
    "    print('no')\n"
   ]
  },
  {
   "cell_type": "code",
   "execution_count": null,
   "metadata": {
    "colab": {
     "base_uri": "https://localhost:8080/",
     "height": 67
    },
    "id": "SD-X9VqNKRof",
    "outputId": "762cb00d-7239-429f-a6d4-d8fd7236ab08"
   },
   "outputs": [],
   "source": [
    "# можно написать короче\n",
    "x = int(input())\n",
    "y = int(input())\n",
    "\n"
   ]
  },
  {
   "cell_type": "code",
   "execution_count": null,
   "metadata": {
    "id": "H8vO8s1IKRol"
   },
   "outputs": [],
   "source": []
  },
  {
   "cell_type": "code",
   "execution_count": null,
   "metadata": {
    "id": "yBIAyBdPKRop"
   },
   "outputs": [],
   "source": []
  },
  {
   "cell_type": "code",
   "execution_count": null,
   "metadata": {
    "id": "7ghlbZYaKRou"
   },
   "outputs": [],
   "source": []
  },
  {
   "cell_type": "code",
   "execution_count": null,
   "metadata": {
    "id": "muOIVJGFKRoz"
   },
   "outputs": [],
   "source": []
  },
  {
   "cell_type": "markdown",
   "metadata": {
    "id": "ZELSt28vKRo3"
   },
   "source": [
    "### Задача №2b:\n",
    "Напишите программу, которая отвечает YES, если точка находится в I, II или III четверти и NO иначе."
   ]
  },
  {
   "cell_type": "markdown",
   "metadata": {
    "id": "ZSJJGZ4kKRo4"
   },
   "source": [
    "<img src=\"https://drive.google.com/uc?id=1lVy5-9wsGyrrOr53iYCYgdfVBdpRA7_x\" width=400>"
   ]
  },
  {
   "cell_type": "code",
   "execution_count": 21,
   "metadata": {
    "colab": {
     "base_uri": "https://localhost:8080/",
     "height": 67
    },
    "id": "bQHegTNaKRo5",
    "outputId": "31c6028e-bb01-4507-c827-009f629f8059"
   },
   "outputs": [
    {
     "name": "stdout",
     "output_type": "stream",
     "text": [
      "1\n",
      "1\n",
      "yes\n"
     ]
    }
   ],
   "source": [
    "x = int(input())\n",
    "y = int(input())\n",
    "\n",
    "if y > 0 or x < 0:\n",
    "    print('yes')\n",
    "else:\n",
    "    print('no')\n"
   ]
  },
  {
   "cell_type": "code",
   "execution_count": null,
   "metadata": {
    "colab": {
     "base_uri": "https://localhost:8080/",
     "height": 67
    },
    "id": "2HgwsIFOKRo9",
    "outputId": "34a94987-1966-4d34-da28-bcb15c1d2f68"
   },
   "outputs": [],
   "source": [
    "# можно написать короче\n",
    "x = int(input())\n",
    "y = int(input())\n",
    "\n",
    "if (y < 0) and (x >= 0):\n",
    "    print('no')\n",
    "else:\n",
    "    print('yes')"
   ]
  },
  {
   "cell_type": "code",
   "execution_count": null,
   "metadata": {
    "id": "g0bTTZBVKRpB"
   },
   "outputs": [],
   "source": []
  },
  {
   "cell_type": "code",
   "execution_count": null,
   "metadata": {
    "id": "x_nqZ-VrKRpE"
   },
   "outputs": [],
   "source": []
  },
  {
   "cell_type": "code",
   "execution_count": null,
   "metadata": {
    "id": "PNXHzAKqKRpG"
   },
   "outputs": [],
   "source": []
  },
  {
   "cell_type": "code",
   "execution_count": null,
   "metadata": {
    "id": "UvkldRkCKRpJ"
   },
   "outputs": [],
   "source": []
  },
  {
   "cell_type": "markdown",
   "metadata": {
    "id": "yuEuo0rsKRpL"
   },
   "source": [
    "### Задача №3:\n",
    "Напишите программу, которая выводит $+1$ для положительных чисел, $-1$ для отрицательных и иначе $0$"
   ]
  },
  {
   "cell_type": "code",
   "execution_count": null,
   "metadata": {},
   "outputs": [],
   "source": []
  },
  {
   "cell_type": "code",
   "execution_count": 28,
   "metadata": {
    "colab": {
     "base_uri": "https://localhost:8080/",
     "height": 52
    },
    "id": "XQPJQLkfKRpL",
    "outputId": "d881508c-c368-477a-d2a5-62fb673a083e"
   },
   "outputs": [
    {
     "name": "stdout",
     "output_type": "stream",
     "text": [
      "-0.5\n",
      "-1\n"
     ]
    }
   ],
   "source": [
    "x = float(input())\n",
    "if x > 0:\n",
    "    print(1)\n",
    "if x < 0:\n",
    "    print(-1)\n",
    "if x == 0:\n",
    "    print(0)"
   ]
  },
  {
   "cell_type": "code",
   "execution_count": 29,
   "metadata": {
    "colab": {
     "base_uri": "https://localhost:8080/",
     "height": 70
    },
    "id": "6fpeuVjxKRpN",
    "outputId": "01e9f129-917d-495d-8051-9fa4f0c3be71"
   },
   "outputs": [
    {
     "name": "stdout",
     "output_type": "stream",
     "text": [
      "1\n",
      "1\n",
      "0\n"
     ]
    }
   ],
   "source": [
    "# улучшение №1\n",
    "x = int(input())\n",
    "if x > 0:\n",
    "    print(1)\n",
    "if x < 0:\n",
    "    print(-1)\n",
    "else:\n",
    "    print(0)\n"
   ]
  },
  {
   "cell_type": "code",
   "execution_count": 32,
   "metadata": {
    "colab": {
     "base_uri": "https://localhost:8080/",
     "height": 52
    },
    "id": "hI4JOwlBKRpP",
    "outputId": "d2b7c950-d68c-4993-adec-dda4df0494a0"
   },
   "outputs": [
    {
     "name": "stdout",
     "output_type": "stream",
     "text": [
      "-6\n",
      "-1\n"
     ]
    }
   ],
   "source": [
    "# улучшение №2\n",
    "x = int(input())\n",
    "if x > 0:\n",
    "    print(1)\n",
    "else:\n",
    "    if x < 0:\n",
    "        print(-1)\n",
    "    else:\n",
    "        print(0)\n",
    "\n"
   ]
  },
  {
   "cell_type": "markdown",
   "metadata": {
    "id": "7dpulwq-KRpR"
   },
   "source": [
    "Улучшение №3\n",
    "<img src=\"https://drive.google.com/uc?id=1JUwo9oawNwqIa8WClxn4u2tXR3a3NYT4\" width=250 />\n"
   ]
  },
  {
   "cell_type": "code",
   "execution_count": 35,
   "metadata": {
    "colab": {
     "base_uri": "https://localhost:8080/",
     "height": 52
    },
    "id": "dg5phqitKRpR",
    "outputId": "edfbc2d1-456a-4ef6-e401-1b0b4c329841"
   },
   "outputs": [
    {
     "name": "stdout",
     "output_type": "stream",
     "text": [
      "0\n",
      "0\n"
     ]
    }
   ],
   "source": [
    "x = int(input())\n",
    "\n",
    "if x > 0:\n",
    "    print(1)\n",
    "elif x < 0:\n",
    "    print(-1)\n",
    "else:\n",
    "    print(0)\n"
   ]
  },
  {
   "cell_type": "code",
   "execution_count": null,
   "metadata": {
    "id": "_nzZhX_4KRpV"
   },
   "outputs": [],
   "source": []
  },
  {
   "cell_type": "code",
   "execution_count": null,
   "metadata": {
    "id": "tstenmoFKRpW"
   },
   "outputs": [],
   "source": []
  },
  {
   "cell_type": "code",
   "execution_count": null,
   "metadata": {
    "id": "bRaI7hSLKRpY"
   },
   "outputs": [],
   "source": []
  },
  {
   "cell_type": "markdown",
   "metadata": {
    "id": "Ww1OGBHtKRpa"
   },
   "source": [
    "### Задача №4: \n",
    "Требуется определить, бьет ли слон, стоящий на клетке с указанными\n",
    "координатами (номер строки и номер столбца),\n",
    "фигуру, стоящую на другой указанной клетке.\n",
    "\n",
    "$\\textit{Входные данные}$: координаты слона и\n",
    "координаты другой фигуры в интервале от 1 до 8"
   ]
  },
  {
   "cell_type": "code",
   "execution_count": null,
   "metadata": {
    "id": "Z9jcQ7SZKRpc"
   },
   "outputs": [],
   "source": []
  }
 ],
 "metadata": {
  "colab": {
   "name": "If.ipynb",
   "provenance": []
  },
  "kernelspec": {
   "display_name": "Python 3 (ipykernel)",
   "language": "python",
   "name": "python3"
  },
  "language_info": {
   "codemirror_mode": {
    "name": "ipython",
    "version": 3
   },
   "file_extension": ".py",
   "mimetype": "text/x-python",
   "name": "python",
   "nbconvert_exporter": "python",
   "pygments_lexer": "ipython3",
   "version": "3.10.1"
  }
 },
 "nbformat": 4,
 "nbformat_minor": 1
}

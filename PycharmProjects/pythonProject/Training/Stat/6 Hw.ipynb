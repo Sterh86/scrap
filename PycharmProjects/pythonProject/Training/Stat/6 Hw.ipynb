{
 "cells": [
  {
   "cell_type": "markdown",
   "metadata": {},
   "source": [
    "# Распределения - домашние задания"
   ]
  },
  {
   "cell_type": "markdown",
   "metadata": {},
   "source": [
    "Произведи импорт всех нужных библиотек"
   ]
  },
  {
   "cell_type": "code",
   "execution_count": 3,
   "metadata": {},
   "outputs": [],
   "source": []
  },
  {
   "cell_type": "markdown",
   "metadata": {},
   "source": [
    "# Лимит распределений"
   ]
  },
  {
   "cell_type": "markdown",
   "metadata": {},
   "source": [
    "1. Визуализируйте биномиальное распределение с **p=0.1** для n = 10, 30, 100 и 300 экспериментов."
   ]
  },
  {
   "cell_type": "markdown",
   "metadata": {},
   "source": [
    "2. На что похоже последнее из них?"
   ]
  },
  {
   "cell_type": "markdown",
   "metadata": {},
   "source": [
    "Для больших n, когда np & n(1-p) > 10, распределение стремится к нормальному распределению"
   ]
  },
  {
   "cell_type": "markdown",
   "metadata": {},
   "source": [
    "3. Визуализируй  распределение Пуассона для Ламбда = 2, 5, 15 и 50."
   ]
  },
  {
   "cell_type": "code",
   "execution_count": 15,
   "metadata": {},
   "outputs": [
    {
     "data": {
      "image/png": "[encoded data removed]",
      "text/plain": [
       "<Figure size 1080x720 with 4 Axes>"
      ]
     },
     "metadata": {
      "needs_background": "light"
     },
     "output_type": "display_data"
    }
   ],
   "source": [
    "fig, ax = plt.subplots(2, 2, figsize=(15,10))\n",
    "lamb=2\n",
    "x = np.arange(stats.poisson.ppf(0.01, lamb),stats.poisson.ppf(0.99, lamb)) ## x как квантили от вероятностей\n",
    "ax[0][0].plot(x, stats.poisson.pmf(x, lamb), 'bo', ms=5,)\n",
    "ax[0][0].vlines(x, 0, stats.poisson.pmf(x, lamb), colors='b', lw=3, alpha=0.5);\n",
    "lamb=5\n",
    "x = np.arange(stats.poisson.ppf(0.01, lamb),stats.poisson.ppf(0.99, lamb)) ## x как квантили от вероятностей\n",
    "ax[0][1].plot(x, stats.poisson.pmf(x, lamb), 'bo', ms=5,)\n",
    "ax[0][1].vlines(x, 0, stats.poisson.pmf(x, lamb), colors='b', lw=3, alpha=0.5);\n",
    "lamb=15\n",
    "x = np.arange(stats.poisson.ppf(0.01, lamb),stats.poisson.ppf(0.99, lamb)) ## x как квантили от вероятностей\n",
    "ax[1][0].plot(x, stats.poisson.pmf(x, lamb), 'bo', ms=5,)\n",
    "ax[1][0].vlines(x, 0, stats.poisson.pmf(x, lamb), colors='b', lw=3, alpha=0.5);\n",
    "lamb=50\n",
    "x = np.arange(stats.poisson.ppf(0.01, lamb),stats.poisson.ppf(0.99, lamb)) ## x как квантили от вероятностей\n",
    "ax[1][1].plot(x, stats.poisson.pmf(x, lamb), 'bo', ms=5,)\n",
    "ax[1][1].vlines(x, 0, stats.poisson.pmf(x, lamb), colors='b', lw=3, alpha=0.5);"
   ]
  },
  {
   "cell_type": "markdown",
   "metadata": {},
   "source": [
    "4. Что можно решить, смотря на эти распределения?"
   ]
  },
  {
   "cell_type": "markdown",
   "metadata": {},
   "source": [
    "## Стандартное распределение "
   ]
  },
  {
   "cell_type": "markdown",
   "metadata": {},
   "source": [
    "### Столы и стулья"
   ]
  },
  {
   "cell_type": "markdown",
   "metadata": {},
   "source": [
    "Ваша фирма получила заказ на столы и стулья для высшей шклолы. Любое производство подвержено неточностям и вы решили моделировать высоту стульев, как случайную величину со стандартным распределением, с ожиданием 83 см и среднеквадратическим отклонением - 5 см. "
   ]
  },
  {
   "cell_type": "markdown",
   "metadata": {},
   "source": [
    "1. Какая вероятность, что высота произведенного стула не меньше 82 см?"
   ]
  },
  {
   "cell_type": "markdown",
   "metadata": {},
   "source": [
    "2. Какая минимальная высота стульев, которые составляют 20% самых высоких стульев?"
   ]
  },
  {
   "cell_type": "markdown",
   "metadata": {},
   "source": [
    "3. Какая нижняя и высшая граница 95% центрального интервала? Что это означает?"
   ]
  },
  {
   "cell_type": "markdown",
   "metadata": {},
   "source": [
    "## Распределение Пуассона"
   ]
  },
  {
   "cell_type": "markdown",
   "metadata": {},
   "source": [
    "Завод моделирует поломки станка в месяц с помощью распределения Пуассона с параметером Ламбда=2"
   ]
  },
  {
   "cell_type": "markdown",
   "metadata": {},
   "source": [
    "1. С какой вероятностью станок не будет иметь ни одной поломки в месяц?"
   ]
  },
  {
   "cell_type": "code",
   "execution_count": 22,
   "metadata": {},
   "outputs": [
    {
     "data": {
      "text/plain": [
       "0.1353352832366127"
      ]
     },
     "execution_count": 22,
     "metadata": {},
     "output_type": "execute_result"
    }
   ],
   "source": [
    "stats.poisson.pmf(0, 2)"
   ]
  },
  {
   "cell_type": "markdown",
   "metadata": {},
   "source": [
    "2. С какой вероятностью станок будет иметь больше 2 поломок в месяц?"
   ]
  },
  {
   "cell_type": "code",
   "execution_count": 25,
   "metadata": {},
   "outputs": [
    {
     "data": {
      "text/plain": [
       "0.3233235838169366"
      ]
     },
     "execution_count": 25,
     "metadata": {},
     "output_type": "execute_result"
    }
   ],
   "source": [
    "1- stats.poisson.cdf(2,2)"
   ]
  },
  {
   "cell_type": "markdown",
   "metadata": {},
   "source": [
    "3. Сколько поломок за 3 месяца ожидаются с вероятностью 90%?"
   ]
  },
  {
   "cell_type": "code",
   "execution_count": 26,
   "metadata": {},
   "outputs": [
    {
     "data": {
      "text/plain": [
       "9.0"
      ]
     },
     "execution_count": 26,
     "metadata": {},
     "output_type": "execute_result"
    }
   ],
   "source": [
    "stats.poisson.ppf(0.9,6)"
   ]
  },
  {
   "cell_type": "markdown",
   "metadata": {},
   "source": [
    "0-9 поломок"
   ]
  },
  {
   "cell_type": "markdown",
   "metadata": {},
   "source": [
    "4. Видите ли вы проблемы в моделировании этой ситуации распределением Пуассона?"
   ]
  },
  {
   "cell_type": "markdown",
   "metadata": {},
   "source": [
    "## Нормальное распределение против Коши"
   ]
  },
  {
   "cell_type": "markdown",
   "metadata": {},
   "source": [
    "Давайте проводить эксперименты с нормальным распределением. Мы берем n= 1, 10, 100,..., N случайных величин, которые имеют стандартное нормальное распределение, смотрим какой результат мы получаем для каждой величины и считаем сумму этих результатов, поделенную на их количество n. Сделайте график на котором сумма/количество нанесены против n, для n=1,10,100,1000,5000,10000"
   ]
  },
  {
   "cell_type": "code",
   "execution_count": 39,
   "metadata": {},
   "outputs": [],
   "source": [
    "n=[1,10,100,1000,5000,10000]\n",
    "res = []\n",
    "for i in n:\n",
    "    \n",
    "    res.append(stats.norm.rvs(size=i, random_state=None))"
   ]
  },
  {
   "cell_type": "code",
   "execution_count": 40,
   "metadata": {},
   "outputs": [],
   "source": [
    "fin_res=[]"
   ]
  },
  {
   "cell_type": "code",
   "execution_count": 41,
   "metadata": {},
   "outputs": [],
   "source": [
    "for i, resu in enumerate(res):\n",
    "    fin_res.append(resu.sum()/n[i])"
   ]
  },
  {
   "cell_type": "code",
   "execution_count": 42,
   "metadata": {},
   "outputs": [
    {
     "data": {
      "text/plain": [
       "[<matplotlib.lines.Line2D at 0x7fbb11ee0710>]"
      ]
     },
     "execution_count": 42,
     "metadata": {},
     "output_type": "execute_result"
    },
    {
     "data": {
      "image/png": "[encoded data removed]",
      "text/plain": [
       "<Figure size 576x360 with 1 Axes>"
      ]
     },
     "metadata": {
      "needs_background": "light"
     },
     "output_type": "display_data"
    }
   ],
   "source": [
    "x=n\n",
    "y=fin_res\n",
    "fig, ax = plt.subplots(figsize=(8,5))\n",
    "ax.plot(x, y, 'b-', ms=2)"
   ]
  },
  {
   "cell_type": "markdown",
   "metadata": {},
   "source": [
    "Повторите прошлое задание для распределения Коши. ``scipy.stats.cauchy``"
   ]
  },
  {
   "cell_type": "code",
   "execution_count": 43,
   "metadata": {},
   "outputs": [
    {
     "data": {
      "text/plain": [
       "[<matplotlib.lines.Line2D at 0x7fbb120c82d0>]"
      ]
     },
     "execution_count": 43,
     "metadata": {},
     "output_type": "execute_result"
    },
    {
     "data": {
      "image/png": "[encoded data removed]",
      "text/plain": [
       "<Figure size 576x360 with 1 Axes>"
      ]
     },
     "metadata": {
      "needs_background": "light"
     },
     "output_type": "display_data"
    }
   ],
   "source": [
    "n=[1,10,100,1000,5000,10000]\n",
    "res = []\n",
    "for i in n:\n",
    "    \n",
    "    res.append(stats.cauchy.rvs(size=i, random_state=None))\n",
    "\n",
    "fin_res=[]\n",
    "\n",
    "for i, resu in enumerate(res):\n",
    "    fin_res.append(resu.sum()/n[i])\n",
    "\n",
    "x=n\n",
    "y=fin_res\n",
    "fig, ax = plt.subplots(figsize=(8,5))\n",
    "ax.plot(x, y, 'b-')"
   ]
  },
  {
   "cell_type": "markdown",
   "metadata": {},
   "source": [
    "Видите ли вы разницу?"
   ]
  },
  {
   "cell_type": "markdown",
   "metadata": {},
   "source": [
    "## Подготовка к следующему занятию"
   ]
  },
  {
   "cell_type": "markdown",
   "metadata": {},
   "source": [
    "Давайте снова возьмем n=1,..., N случайных величин распределенных, как равномерное распределение на \\[0,1\\] ``scipy.stats.uniform``. Визуализируйте это распределение"
   ]
  },
  {
   "cell_type": "code",
   "execution_count": 44,
   "metadata": {},
   "outputs": [],
   "source": [
    "x = np.linspace(stats.uniform.ppf(0.01),stats.uniform.ppf(0.99),100) ## x как квантили от вероятностей"
   ]
  },
  {
   "cell_type": "code",
   "execution_count": 45,
   "metadata": {},
   "outputs": [
    {
     "data": {
      "image/png": "[encoded data removed]",
      "text/plain": [
       "<Figure size 432x288 with 1 Axes>"
      ]
     },
     "metadata": {
      "needs_background": "light"
     },
     "output_type": "display_data"
    }
   ],
   "source": [
    "fig, ax = plt.subplots(1, 1)\n",
    "ax.plot(x, stats.uniform.pdf(x,), 'b-', ms=8, );"
   ]
  },
  {
   "cell_type": "markdown",
   "metadata": {},
   "source": [
    "Сейчас мы берем n= 1, 5, 25, 100 случайных величин, смотрим какой результат мы получаем для каждой величины и считаем сумму этих результатов, поделенную на их количество n, получая 4 новых случайных величин. После этого мы повторяем это 1000 раз и визуализируем гистограммы этих 4 новых случайных величин."
   ]
  },
  {
   "cell_type": "code",
   "execution_count": 217,
   "metadata": {},
   "outputs": [],
   "source": [
    "fin_res=[]\n",
    "for j in range(1000):\n",
    "    n=[1,5,25,100]\n",
    "    res = []\n",
    "    for i in n:\n",
    "        res.append(np.mean((stats.uniform.rvs(size=i, random_state=None))))\n",
    "    fin_res.append(res)"
   ]
  },
  {
   "cell_type": "code",
   "execution_count": 218,
   "metadata": {},
   "outputs": [],
   "source": [
    "final = np.array(fin_res)"
   ]
  },
  {
   "cell_type": "code",
   "execution_count": 219,
   "metadata": {},
   "outputs": [
    {
     "data": {
      "text/plain": [
       "(1000, 4)"
      ]
     },
     "execution_count": 219,
     "metadata": {},
     "output_type": "execute_result"
    }
   ],
   "source": [
    "final.shape"
   ]
  },
  {
   "cell_type": "code",
   "execution_count": 225,
   "metadata": {},
   "outputs": [
    {
     "data": {
      "text/plain": [
       "<matplotlib.axes._subplots.AxesSubplot at 0x7fbb0215f850>"
      ]
     },
     "execution_count": 225,
     "metadata": {},
     "output_type": "execute_result"
    },
    {
     "data": {
      "image/png": "[encoded data removed]",
      "text/plain": [
       "<Figure size 432x288 with 1 Axes>"
      ]
     },
     "metadata": {},
     "output_type": "display_data"
    }
   ],
   "source": [
    "sns.histplot(final[:,0],bins=10)"
   ]
  },
  {
   "cell_type": "code",
   "execution_count": 228,
   "metadata": {},
   "outputs": [
    {
     "data": {
      "text/plain": [
       "<matplotlib.axes._subplots.AxesSubplot at 0x7fbb02297610>"
      ]
     },
     "execution_count": 228,
     "metadata": {},
     "output_type": "execute_result"
    },
    {
     "data": {
      "image/png": "[encoded data removed]",
      "text/plain": [
       "<Figure size 432x288 with 1 Axes>"
      ]
     },
     "metadata": {},
     "output_type": "display_data"
    }
   ],
   "source": [
    "sns.histplot(final[:,1],bins=20)"
   ]
  },
  {
   "cell_type": "code",
   "execution_count": 229,
   "metadata": {
    "scrolled": true
   },
   "outputs": [
    {
     "data": {
      "text/plain": [
       "<matplotlib.axes._subplots.AxesSubplot at 0x7fbb024969d0>"
      ]
     },
     "execution_count": 229,
     "metadata": {},
     "output_type": "execute_result"
    },
    {
     "data": {
      "image/png": "[encoded data removed]",
      "text/plain": [
       "<Figure size 432x288 with 1 Axes>"
      ]
     },
     "metadata": {},
     "output_type": "display_data"
    }
   ],
   "source": [
    "sns.histplot(final[:,2],bins=20)"
   ]
  },
  {
   "cell_type": "code",
   "execution_count": 235,
   "metadata": {},
   "outputs": [
    {
     "data": {
      "text/plain": [
       "<matplotlib.axes._subplots.AxesSubplot at 0x7fbb02e80dd0>"
      ]
     },
     "execution_count": 235,
     "metadata": {},
     "output_type": "execute_result"
    },
    {
     "data": {
      "image/png": "[encoded data removed]",
      "text/plain": [
       "<Figure size 432x288 with 1 Axes>"
      ]
     },
     "metadata": {},
     "output_type": "display_data"
    }
   ],
   "source": [
    "sns.histplot(final[:,3],bins=20)"
   ]
  },
  {
   "cell_type": "code",
   "execution_count": 239,
   "metadata": {},
   "outputs": [
    {
     "data": {
      "text/plain": [
       "<matplotlib.axes._subplots.AxesSubplot at 0x7fbb03eec350>"
      ]
     },
     "execution_count": 239,
     "metadata": {},
     "output_type": "execute_result"
    },
    {
     "data": {
      "image/png": "[encoded data removed]",
      "text/plain": [
       "<Figure size 432x288 with 1 Axes>"
      ]
     },
     "metadata": {},
     "output_type": "display_data"
    }
   ],
   "source": [
    "sns.histplot(final[:,3],)"
   ]
  },
  {
   "cell_type": "code",
   "execution_count": 213,
   "metadata": {},
   "outputs": [
    {
     "data": {
      "text/plain": [
       "(array(0.5), array(0.08333333))"
      ]
     },
     "execution_count": 213,
     "metadata": {},
     "output_type": "execute_result"
    }
   ],
   "source": [
    "stats.uniform.stats()"
   ]
  }
 ],
 "metadata": {
  "kernelspec": {
   "display_name": "Python 3 (ipykernel)",
   "language": "python",
   "name": "python3"
  },
  "language_info": {
   "codemirror_mode": {
    "name": "ipython",
    "version": 3
   },
   "file_extension": ".py",
   "mimetype": "text/x-python",
   "name": "python",
   "nbconvert_exporter": "python",
   "pygments_lexer": "ipython3",
   "version": "3.10.1"
  }
 },
 "nbformat": 4,
 "nbformat_minor": 4
}

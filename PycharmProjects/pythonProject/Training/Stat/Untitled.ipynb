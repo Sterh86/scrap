{
 "cells": [
  {
   "cell_type": "code",
   "execution_count": 26,
   "id": "f8c538b7",
   "metadata": {},
   "outputs": [
    {
     "name": "stdout",
     "output_type": "stream",
     "text": [
      "Collecting seaborn\n",
      "  Downloading seaborn-0.12.2-py3-none-any.whl (293 kB)\n",
      "Requirement already satisfied: matplotlib!=3.6.1,>=3.1 in c:\\users\\chulm\\pycharmprojects\\pythonproject\\venv\\lib\\site-packages (from seaborn) (3.5.1)\n",
      "Requirement already satisfied: numpy!=1.24.0,>=1.17 in c:\\users\\chulm\\pycharmprojects\\pythonproject\\venv\\lib\\site-packages (from seaborn) (1.21.5)\n",
      "Requirement already satisfied: pandas>=0.25 in c:\\users\\chulm\\pycharmprojects\\pythonproject\\venv\\lib\\site-packages (from seaborn) (1.3.5)\n",
      "Requirement already satisfied: pyparsing>=2.2.1 in c:\\users\\chulm\\pycharmprojects\\pythonproject\\venv\\lib\\site-packages (from matplotlib!=3.6.1,>=3.1->seaborn) (3.0.6)\n",
      "Requirement already satisfied: cycler>=0.10 in c:\\users\\chulm\\pycharmprojects\\pythonproject\\venv\\lib\\site-packages (from matplotlib!=3.6.1,>=3.1->seaborn) (0.11.0)\n",
      "Requirement already satisfied: fonttools>=4.22.0 in c:\\users\\chulm\\pycharmprojects\\pythonproject\\venv\\lib\\site-packages (from matplotlib!=3.6.1,>=3.1->seaborn) (4.28.5)\n",
      "Requirement already satisfied: packaging>=20.0 in c:\\users\\chulm\\pycharmprojects\\pythonproject\\venv\\lib\\site-packages (from matplotlib!=3.6.1,>=3.1->seaborn) (21.3)\n",
      "Requirement already satisfied: kiwisolver>=1.0.1 in c:\\users\\chulm\\pycharmprojects\\pythonproject\\venv\\lib\\site-packages (from matplotlib!=3.6.1,>=3.1->seaborn) (1.3.2)\n",
      "Requirement already satisfied: pillow>=6.2.0 in c:\\users\\chulm\\pycharmprojects\\pythonproject\\venv\\lib\\site-packages (from matplotlib!=3.6.1,>=3.1->seaborn) (8.4.0)\n",
      "Requirement already satisfied: python-dateutil>=2.7 in c:\\users\\chulm\\pycharmprojects\\pythonproject\\venv\\lib\\site-packages (from matplotlib!=3.6.1,>=3.1->seaborn) (2.8.2)\n",
      "Requirement already satisfied: pytz>=2017.3 in c:\\users\\chulm\\pycharmprojects\\pythonproject\\venv\\lib\\site-packages (from pandas>=0.25->seaborn) (2021.3)\n",
      "Requirement already satisfied: six>=1.5 in c:\\users\\chulm\\pycharmprojects\\pythonproject\\venv\\lib\\site-packages (from python-dateutil>=2.7->matplotlib!=3.6.1,>=3.1->seaborn) (1.16.0)\n",
      "Installing collected packages: seaborn\n",
      "Successfully installed seaborn-0.12.2\n",
      "Note: you may need to restart the kernel to use updated packages.\n"
     ]
    },
    {
     "name": "stderr",
     "output_type": "stream",
     "text": [
      "WARNING: You are using pip version 21.1.2; however, version 23.2.1 is available.\n",
      "You should consider upgrading via the 'c:\\users\\chulm\\pycharmprojects\\pythonproject\\venv\\scripts\\python.exe -m pip install --upgrade pip' command.\n"
     ]
    }
   ],
   "source": [
    "pip install seaborn"
   ]
  },
  {
   "cell_type": "code",
   "execution_count": 44,
   "id": "4903ffca",
   "metadata": {},
   "outputs": [],
   "source": [
    "import scipy.stats as stats\n",
    "import numpy as np\n",
    "import matplotlib.pyplot as plt\n",
    "import seaborn as sns"
   ]
  },
  {
   "cell_type": "code",
   "execution_count": 62,
   "id": "d61ab333",
   "metadata": {},
   "outputs": [],
   "source": [
    "n=1000"
   ]
  },
  {
   "cell_type": "code",
   "execution_count": 63,
   "id": "354f27b0",
   "metadata": {},
   "outputs": [],
   "source": [
    "p = 0.1"
   ]
  },
  {
   "cell_type": "code",
   "execution_count": 64,
   "id": "d3dfc8ad",
   "metadata": {},
   "outputs": [],
   "source": [
    "k=np.arange(stats.binom.ppf(0.01,n,p),stats.binom.ppf(0.99,n,p))"
   ]
  },
  {
   "cell_type": "code",
   "execution_count": 65,
   "id": "88b55d05",
   "metadata": {},
   "outputs": [
    {
     "data": {
      "text/plain": [
       "array([ 79.,  80.,  81.,  82.,  83.,  84.,  85.,  86.,  87.,  88.,  89.,\n",
       "        90.,  91.,  92.,  93.,  94.,  95.,  96.,  97.,  98.,  99., 100.,\n",
       "       101., 102., 103., 104., 105., 106., 107., 108., 109., 110., 111.,\n",
       "       112., 113., 114., 115., 116., 117., 118., 119., 120., 121., 122.])"
      ]
     },
     "execution_count": 65,
     "metadata": {},
     "output_type": "execute_result"
    }
   ],
   "source": [
    "k\n"
   ]
  },
  {
   "cell_type": "code",
   "execution_count": 66,
   "id": "f356b7f7",
   "metadata": {},
   "outputs": [],
   "source": [
    "res=stats.binom.pmf(k,n,p)\n"
   ]
  },
  {
   "cell_type": "code",
   "execution_count": 67,
   "id": "8695404b",
   "metadata": {},
   "outputs": [
    {
     "data": {
      "text/plain": [
       "array([0.00339779, 0.00434634, 0.0054851 , 0.00683036, 0.00839394,\n",
       "       0.01018154, 0.01219122, 0.01441211, 0.01682333, 0.01939356,\n",
       "       0.02208105, 0.02483437, 0.02759374, 0.03029313, 0.0328628 ,\n",
       "       0.03523234, 0.03733392, 0.03910555, 0.04049418, 0.04145833,\n",
       "       0.04197016, 0.04201679, 0.04160078, 0.04073976, 0.03946527,\n",
       "       0.03782089, 0.0358598 , 0.03364206, 0.03123157, 0.0286932 ,\n",
       "       0.02609005, 0.02348104, 0.02091905, 0.01844944, 0.01610924,\n",
       "       0.0139268 , 0.01192188, 0.01010619, 0.00848421, 0.0070542 ,\n",
       "       0.00580934, 0.00473891, 0.00382943, 0.00306563])"
      ]
     },
     "execution_count": 67,
     "metadata": {},
     "output_type": "execute_result"
    }
   ],
   "source": [
    "res"
   ]
  },
  {
   "cell_type": "code",
   "execution_count": 68,
   "id": "5db2353c",
   "metadata": {},
   "outputs": [
    {
     "data": {
      "text/plain": [
       "[<matplotlib.lines.Line2D at 0x28c78a7d510>]"
      ]
     },
     "execution_count": 68,
     "metadata": {},
     "output_type": "execute_result"
    },
    {
     "data": {
      "image/png": "[encoded data removed]",
      "text/plain": [
       "<Figure size 432x288 with 1 Axes>"
      ]
     },
     "metadata": {
      "needs_background": "light"
     },
     "output_type": "display_data"
    }
   ],
   "source": [
    "plt.plot(k,res,marker = \"o\",linewidth=0)"
   ]
  },
  {
   "cell_type": "code",
   "execution_count": null,
   "id": "a84e5415",
   "metadata": {},
   "outputs": [],
   "source": []
  }
 ],
 "metadata": {
  "kernelspec": {
   "display_name": "Python 3 (ipykernel)",
   "language": "python",
   "name": "python3"
  },
  "language_info": {
   "codemirror_mode": {
    "name": "ipython",
    "version": 3
   },
   "file_extension": ".py",
   "mimetype": "text/x-python",
   "name": "python",
   "nbconvert_exporter": "python",
   "pygments_lexer": "ipython3",
   "version": "3.10.1"
  }
 },
 "nbformat": 4,
 "nbformat_minor": 5
}
